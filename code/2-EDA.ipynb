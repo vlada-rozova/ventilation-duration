{
 "cells": [
  {
   "cell_type": "code",
   "execution_count": 2,
   "metadata": {
    "collapsed": true
   },
   "outputs": [],
   "source": [
    "import numpy as np\n",
    "import pandas as pd\n",
    "import datetime as dt\n",
    "\n",
    "# To show all columns in a dataframe\n",
    "pd.options.display.max_info_columns=250\n",
    "pd.options.display.max_columns=500\n",
    "\n",
    "# To make pretty plots\n",
    "import matplotlib.pyplot as plt\n",
    "import seaborn as sns\n",
    "\n",
    "plt.style.use('seaborn-ticks')\n",
    "sns.set_style('ticks')\n",
    "plt.rcParams['figure.figsize'] = (6, 4)\n",
    "plt.rcParams['axes.titlesize'] = 22\n",
    "plt.rcParams['axes.labelsize'] = 20\n",
    "plt.rcParams['xtick.labelsize'] = 16\n",
    "plt.rcParams['ytick.labelsize'] = 16\n",
    "\n",
    "%matplotlib inline"
   ]
  },
  {
   "cell_type": "markdown",
   "metadata": {},
   "source": [
    "# MIMIC-IV"
   ]
  },
  {
   "cell_type": "markdown",
   "metadata": {},
   "source": [
    "### Explore the target variable\n",
    "1. Look at the histograms of MV duration (`duration`) and time to death from intubation (`time_to_death`).\n",
    "2. Explore the distribution of class variabes\n",
    "3. Visualise four categories of patients\n",
    "4. ..."
   ]
  },
  {
   "cell_type": "markdown",
   "metadata": {},
   "source": [
    "**Load data**"
   ]
  },
  {
   "cell_type": "code",
   "execution_count": 2,
   "metadata": {
    "scrolled": false
   },
   "outputs": [
    {
     "name": "stdout",
     "output_type": "stream",
     "text": [
      "(12652, 16)\n"
     ]
    },
    {
     "data": {
      "text/html": [
       "<div>\n",
       "<style scoped>\n",
       "    .dataframe tbody tr th:only-of-type {\n",
       "        vertical-align: middle;\n",
       "    }\n",
       "\n",
       "    .dataframe tbody tr th {\n",
       "        vertical-align: top;\n",
       "    }\n",
       "\n",
       "    .dataframe thead th {\n",
       "        text-align: right;\n",
       "    }\n",
       "</style>\n",
       "<table border=\"1\" class=\"dataframe\">\n",
       "  <thead>\n",
       "    <tr style=\"text-align: right;\">\n",
       "      <th></th>\n",
       "      <th>stay_id</th>\n",
       "      <th>starttime</th>\n",
       "      <th>endtime</th>\n",
       "      <th>duration</th>\n",
       "      <th>over72h</th>\n",
       "      <th>subject_id</th>\n",
       "      <th>hadm_id</th>\n",
       "      <th>hosp_intime</th>\n",
       "      <th>hosp_outtime</th>\n",
       "      <th>icu_intime</th>\n",
       "      <th>icu_outtime</th>\n",
       "      <th>deathtime</th>\n",
       "      <th>time_to_death</th>\n",
       "      <th>alive96h</th>\n",
       "      <th>log_duration</th>\n",
       "      <th>study_id</th>\n",
       "    </tr>\n",
       "  </thead>\n",
       "  <tbody>\n",
       "    <tr>\n",
       "      <th>0</th>\n",
       "      <td>30000670</td>\n",
       "      <td>2182-04-14 07:45:00</td>\n",
       "      <td>2182-04-15 10:00:00</td>\n",
       "      <td>26.250000</td>\n",
       "      <td>0</td>\n",
       "      <td>13134463</td>\n",
       "      <td>28333727</td>\n",
       "      <td>2182-04-10 22:25:00</td>\n",
       "      <td>2182-04-19 15:56:00</td>\n",
       "      <td>2182-04-10 22:42:19</td>\n",
       "      <td>2182-04-19 00:37:36</td>\n",
       "      <td>NaN</td>\n",
       "      <td>NaN</td>\n",
       "      <td>1</td>\n",
       "      <td>3.267666</td>\n",
       "      <td>NaN</td>\n",
       "    </tr>\n",
       "    <tr>\n",
       "      <th>1</th>\n",
       "      <td>30000974</td>\n",
       "      <td>2119-06-21 19:30:00</td>\n",
       "      <td>2119-07-07 13:10:00</td>\n",
       "      <td>377.666667</td>\n",
       "      <td>1</td>\n",
       "      <td>19407684</td>\n",
       "      <td>29905273</td>\n",
       "      <td>2119-06-21 19:09:00</td>\n",
       "      <td>2119-07-08 18:45:00</td>\n",
       "      <td>2119-06-21 23:57:00</td>\n",
       "      <td>2119-07-08 19:32:46</td>\n",
       "      <td>NaN</td>\n",
       "      <td>NaN</td>\n",
       "      <td>1</td>\n",
       "      <td>5.934012</td>\n",
       "      <td>NaN</td>\n",
       "    </tr>\n",
       "    <tr>\n",
       "      <th>2</th>\n",
       "      <td>30001939</td>\n",
       "      <td>2151-04-06 16:55:00</td>\n",
       "      <td>2151-04-15 15:40:00</td>\n",
       "      <td>214.750000</td>\n",
       "      <td>1</td>\n",
       "      <td>19023641</td>\n",
       "      <td>25083387</td>\n",
       "      <td>2151-03-18 12:42:00</td>\n",
       "      <td>2151-04-15 18:10:00</td>\n",
       "      <td>2151-04-06 13:22:49</td>\n",
       "      <td>2151-04-15 19:25:07</td>\n",
       "      <td>2151-04-15 18:10:00</td>\n",
       "      <td>217.25</td>\n",
       "      <td>1</td>\n",
       "      <td>5.369475</td>\n",
       "      <td>NaN</td>\n",
       "    </tr>\n",
       "    <tr>\n",
       "      <th>3</th>\n",
       "      <td>30002055</td>\n",
       "      <td>2171-09-26 14:28:00</td>\n",
       "      <td>2171-09-29 08:55:00</td>\n",
       "      <td>66.450000</td>\n",
       "      <td>0</td>\n",
       "      <td>10887901</td>\n",
       "      <td>28942534</td>\n",
       "      <td>2171-09-26 12:10:00</td>\n",
       "      <td>2171-10-29 14:45:00</td>\n",
       "      <td>2171-09-26 13:42:00</td>\n",
       "      <td>2171-10-09 09:50:58</td>\n",
       "      <td>NaN</td>\n",
       "      <td>NaN</td>\n",
       "      <td>1</td>\n",
       "      <td>4.196450</td>\n",
       "      <td>NaN</td>\n",
       "    </tr>\n",
       "    <tr>\n",
       "      <th>4</th>\n",
       "      <td>30003299</td>\n",
       "      <td>2169-08-22 01:51:00</td>\n",
       "      <td>2169-08-28 12:02:00</td>\n",
       "      <td>154.183333</td>\n",
       "      <td>1</td>\n",
       "      <td>12093201</td>\n",
       "      <td>23308326</td>\n",
       "      <td>2169-08-22 00:46:00</td>\n",
       "      <td>2169-09-13 15:15:00</td>\n",
       "      <td>2169-08-22 00:48:13</td>\n",
       "      <td>2169-08-29 13:54:47</td>\n",
       "      <td>NaN</td>\n",
       "      <td>NaN</td>\n",
       "      <td>1</td>\n",
       "      <td>5.038142</td>\n",
       "      <td>NaN</td>\n",
       "    </tr>\n",
       "  </tbody>\n",
       "</table>\n",
       "</div>"
      ],
      "text/plain": [
       "    stay_id            starttime              endtime    duration  over72h  \\\n",
       "0  30000670  2182-04-14 07:45:00  2182-04-15 10:00:00   26.250000        0   \n",
       "1  30000974  2119-06-21 19:30:00  2119-07-07 13:10:00  377.666667        1   \n",
       "2  30001939  2151-04-06 16:55:00  2151-04-15 15:40:00  214.750000        1   \n",
       "3  30002055  2171-09-26 14:28:00  2171-09-29 08:55:00   66.450000        0   \n",
       "4  30003299  2169-08-22 01:51:00  2169-08-28 12:02:00  154.183333        1   \n",
       "\n",
       "   subject_id   hadm_id          hosp_intime         hosp_outtime  \\\n",
       "0    13134463  28333727  2182-04-10 22:25:00  2182-04-19 15:56:00   \n",
       "1    19407684  29905273  2119-06-21 19:09:00  2119-07-08 18:45:00   \n",
       "2    19023641  25083387  2151-03-18 12:42:00  2151-04-15 18:10:00   \n",
       "3    10887901  28942534  2171-09-26 12:10:00  2171-10-29 14:45:00   \n",
       "4    12093201  23308326  2169-08-22 00:46:00  2169-09-13 15:15:00   \n",
       "\n",
       "            icu_intime          icu_outtime            deathtime  \\\n",
       "0  2182-04-10 22:42:19  2182-04-19 00:37:36                  NaN   \n",
       "1  2119-06-21 23:57:00  2119-07-08 19:32:46                  NaN   \n",
       "2  2151-04-06 13:22:49  2151-04-15 19:25:07  2151-04-15 18:10:00   \n",
       "3  2171-09-26 13:42:00  2171-10-09 09:50:58                  NaN   \n",
       "4  2169-08-22 00:48:13  2169-08-29 13:54:47                  NaN   \n",
       "\n",
       "   time_to_death  alive96h  log_duration  study_id  \n",
       "0            NaN         1      3.267666       NaN  \n",
       "1            NaN         1      5.934012       NaN  \n",
       "2         217.25         1      5.369475       NaN  \n",
       "3            NaN         1      4.196450       NaN  \n",
       "4            NaN         1      5.038142       NaN  "
      ]
     },
     "execution_count": 2,
     "metadata": {},
     "output_type": "execute_result"
    }
   ],
   "source": [
    "df_meta = pd.read_csv(\"../data/mimic-metadata.csv\")\n",
    "print(df_meta.shape)\n",
    "df_meta.head()"
   ]
  },
  {
   "cell_type": "markdown",
   "metadata": {},
   "source": [
    "**Convert timestamps to `datetime`**"
   ]
  },
  {
   "cell_type": "code",
   "execution_count": 3,
   "metadata": {
    "collapsed": true
   },
   "outputs": [],
   "source": [
    "date_cols = [\"starttime\", \"endtime\", \"hosp_intime\", \"hosp_outtime\", \"icu_intime\", \"icu_outtime\", \"deathtime\"]\n",
    "df_meta[date_cols] = df_meta[date_cols].apply(pd.to_datetime)"
   ]
  },
  {
   "cell_type": "markdown",
   "metadata": {},
   "source": [
    "**We included multiple ICU stays within one hospital admission**"
   ]
  },
  {
   "cell_type": "code",
   "execution_count": null,
   "metadata": {
    "collapsed": true
   },
   "outputs": [],
   "source": [
    "df_meta.hadm_id.nunique()"
   ]
  },
  {
   "cell_type": "code",
   "execution_count": null,
   "metadata": {
    "collapsed": true
   },
   "outputs": [],
   "source": [
    "df_meta.hadm_id.value_counts()"
   ]
  },
  {
   "cell_type": "markdown",
   "metadata": {},
   "source": [
    "**Duration of mechanical ventilation**"
   ]
  },
  {
   "cell_type": "code",
   "execution_count": 4,
   "metadata": {},
   "outputs": [
    {
     "data": {
      "image/png": "[encoded data removed]",
      "text/plain": [
       "<Figure size 432x288 with 1 Axes>"
      ]
     },
     "metadata": {},
     "output_type": "display_data"
    }
   ],
   "source": [
    "sns.histplot(x=df_meta.duration, bins=50);\n",
    "plt.axvline(72, color=\"r\");\n",
    "plt.xlabel(\"Duration of MV, hours\");\n",
    "plt.title(\"MIMIC-IV\");\n",
    "\n",
    "# Uncomment to save the figure in high resolution\n",
    "plt.savefig('../results/length of MV MIMIC.png', bbox_inches='tight', dpi=300)"
   ]
  },
  {
   "cell_type": "code",
   "execution_count": 5,
   "metadata": {},
   "outputs": [
    {
     "data": {
      "image/png": "[encoded data removed]",
      "text/plain": [
       "<Figure size 432x288 with 1 Axes>"
      ]
     },
     "metadata": {},
     "output_type": "display_data"
    }
   ],
   "source": [
    "sns.histplot(x=df_meta.duration, bins=150);\n",
    "plt.axvline(72, color=\"r\");\n",
    "plt.xlabel(\"Duration of MV, hours\");\n",
    "plt.xlim([0,500]);\n",
    "\n",
    "# Uncomment to save the figure in high resolution\n",
    "plt.savefig('../results/length of MV MIMIC 2.png', bbox_inches='tight', dpi=300)"
   ]
  },
  {
   "cell_type": "markdown",
   "metadata": {},
   "source": [
    "**Time to death from the start of mechanical ventilation (if applicable)**"
   ]
  },
  {
   "cell_type": "code",
   "execution_count": null,
   "metadata": {
    "collapsed": true
   },
   "outputs": [],
   "source": [
    "sns.histplot(x=df_meta.time_to_death, bins=1000);\n",
    "plt.axvline(96, color=\"r\");\n",
    "plt.xlim([0,720])\n",
    "plt.xlabel(\"Hours\");\n",
    "plt.title(\"Time to death\");\n",
    "\n",
    "# Uncomment to save the figure in high resolution\n",
    "plt.savefig('../results/time to death MIMIC.png', bbox_inches='tight', dpi=300)"
   ]
  },
  {
   "cell_type": "markdown",
   "metadata": {},
   "source": [
    "**Distribution of class variables `over72h` and `alive96h`: full cohort**"
   ]
  },
  {
   "cell_type": "code",
   "execution_count": null,
   "metadata": {
    "collapsed": true
   },
   "outputs": [],
   "source": [
    "df_meta.over72h.value_counts(), df_meta.over72h.value_counts() / df_meta.shape[0]"
   ]
  },
  {
   "cell_type": "code",
   "execution_count": null,
   "metadata": {
    "collapsed": true
   },
   "outputs": [],
   "source": [
    "df_meta.alive96h.value_counts()"
   ]
  },
  {
   "cell_type": "markdown",
   "metadata": {},
   "source": [
    "**Distribution of class variables `over72h` and `alive96h`: patients with available CXR data**"
   ]
  },
  {
   "cell_type": "code",
   "execution_count": null,
   "metadata": {
    "collapsed": true
   },
   "outputs": [],
   "source": [
    "df_meta[df_meta.study_id.notna()].shape"
   ]
  },
  {
   "cell_type": "code",
   "execution_count": null,
   "metadata": {
    "collapsed": true
   },
   "outputs": [],
   "source": [
    "df_meta[df_meta.study_id.notna()].over72h.value_counts()"
   ]
  },
  {
   "cell_type": "code",
   "execution_count": null,
   "metadata": {
    "collapsed": true
   },
   "outputs": [],
   "source": [
    "df_meta[df_meta.study_id.notna()].alive96h.value_counts()"
   ]
  },
  {
   "cell_type": "code",
   "execution_count": null,
   "metadata": {
    "collapsed": true
   },
   "outputs": [],
   "source": [
    "counts = pd.crosstab(df_meta.over72h, df_meta.alive96h)"
   ]
  },
  {
   "cell_type": "code",
   "execution_count": null,
   "metadata": {
    "collapsed": true
   },
   "outputs": [],
   "source": [
    "labels = np.array([[ \"A: \", \"B: \"], [\"C: \", \"D: \"]]) + counts.astype(\"str\").values"
   ]
  },
  {
   "cell_type": "code",
   "execution_count": null,
   "metadata": {
    "collapsed": true
   },
   "outputs": [],
   "source": [
    "sns.heatmap(counts, \n",
    "            annot=labels, fmt=\"s\", \n",
    "            cmap=\"Blues\", cbar=False,\n",
    "            annot_kws={'fontsize' : 16},\n",
    "            xticklabels=(\"No\", \"Yes\"), yticklabels=(\"No\", \"Yes\"));\n",
    "plt.xlabel(\"Alive at 96 hours\");\n",
    "plt.ylabel(\"MV over 72 hours\");\n",
    "\n",
    "# Uncomment to save the figure in high resolution\n",
    "# plt.savefig('class distribution full.jpeg', bbox_inches='tight', dpi=300)"
   ]
  },
  {
   "cell_type": "markdown",
   "metadata": {},
   "source": [
    "### Patient characteristics table"
   ]
  },
  {
   "cell_type": "code",
   "execution_count": 21,
   "metadata": {},
   "outputs": [
    {
     "name": "stdout",
     "output_type": "stream",
     "text": [
      "(12652, 105)\n"
     ]
    },
    {
     "data": {
      "text/html": [
       "<div>\n",
       "<style scoped>\n",
       "    .dataframe tbody tr th:only-of-type {\n",
       "        vertical-align: middle;\n",
       "    }\n",
       "\n",
       "    .dataframe tbody tr th {\n",
       "        vertical-align: top;\n",
       "    }\n",
       "\n",
       "    .dataframe thead th {\n",
       "        text-align: right;\n",
       "    }\n",
       "</style>\n",
       "<table border=\"1\" class=\"dataframe\">\n",
       "  <thead>\n",
       "    <tr style=\"text-align: right;\">\n",
       "      <th></th>\n",
       "      <th>stay_id</th>\n",
       "      <th>starttime</th>\n",
       "      <th>endtime</th>\n",
       "      <th>admission_location</th>\n",
       "      <th>insurance</th>\n",
       "      <th>language</th>\n",
       "      <th>ethnicity</th>\n",
       "      <th>marital_status</th>\n",
       "      <th>gender</th>\n",
       "      <th>age</th>\n",
       "      <th>hours_in_hosp_before_intubation</th>\n",
       "      <th>weight</th>\n",
       "      <th>height</th>\n",
       "      <th>co2_total_max</th>\n",
       "      <th>co2_total_avg</th>\n",
       "      <th>co2_total_min</th>\n",
       "      <th>ph_max</th>\n",
       "      <th>ph_avg</th>\n",
       "      <th>ph_min</th>\n",
       "      <th>lactate_max</th>\n",
       "      <th>lactate_avg</th>\n",
       "      <th>lactate_min</th>\n",
       "      <th>pao2fio2ratio</th>\n",
       "      <th>heart_rate_max</th>\n",
       "      <th>heart_rate_avg</th>\n",
       "      <th>heart_rate_min</th>\n",
       "      <th>mbp_max</th>\n",
       "      <th>mbp_avg</th>\n",
       "      <th>mbp_min</th>\n",
       "      <th>mbp_ni_max</th>\n",
       "      <th>mbp_ni_avg</th>\n",
       "      <th>mbp_ni_min</th>\n",
       "      <th>resp_rate_max</th>\n",
       "      <th>resp_rate_avg</th>\n",
       "      <th>resp_rate_min</th>\n",
       "      <th>temp_max</th>\n",
       "      <th>temp_avg</th>\n",
       "      <th>temp_min</th>\n",
       "      <th>spo2_max</th>\n",
       "      <th>spo2_avg</th>\n",
       "      <th>spo2_min</th>\n",
       "      <th>glucose_max</th>\n",
       "      <th>glucose_avg</th>\n",
       "      <th>glucose_min</th>\n",
       "      <th>vasopressin</th>\n",
       "      <th>epinephrine</th>\n",
       "      <th>dobutamine</th>\n",
       "      <th>norepinephrine</th>\n",
       "      <th>phenylephrine</th>\n",
       "      <th>dopamine</th>\n",
       "      <th>count_of_vaso</th>\n",
       "      <th>fio2_max</th>\n",
       "      <th>fio2_avg</th>\n",
       "      <th>fio2_min</th>\n",
       "      <th>peep_max</th>\n",
       "      <th>peep_avg</th>\n",
       "      <th>peep_min</th>\n",
       "      <th>plateau_pressure_max</th>\n",
       "      <th>plateau_pressure_avg</th>\n",
       "      <th>plateau_pressure_min</th>\n",
       "      <th>rrt</th>\n",
       "      <th>sinus_rhythm</th>\n",
       "      <th>neuroblocker</th>\n",
       "      <th>congestive_heart_failure</th>\n",
       "      <th>cerebrovascular_disease</th>\n",
       "      <th>dementia</th>\n",
       "      <th>chronic_pulmonary_disease</th>\n",
       "      <th>rheumatic_disease</th>\n",
       "      <th>mild_liver_disease</th>\n",
       "      <th>diabetes_without_cc</th>\n",
       "      <th>diabetes_with_cc</th>\n",
       "      <th>paraplegia</th>\n",
       "      <th>renal_disease</th>\n",
       "      <th>malignant_cancer</th>\n",
       "      <th>severe_liver_disease</th>\n",
       "      <th>metastatic_solid_tumor</th>\n",
       "      <th>aids</th>\n",
       "      <th>SOFA</th>\n",
       "      <th>respiration</th>\n",
       "      <th>coagulation</th>\n",
       "      <th>liver</th>\n",
       "      <th>cardiovascular</th>\n",
       "      <th>cns</th>\n",
       "      <th>renal</th>\n",
       "      <th>apsiii</th>\n",
       "      <th>hr_score</th>\n",
       "      <th>mbp_score</th>\n",
       "      <th>temp_score</th>\n",
       "      <th>resp_rate_score</th>\n",
       "      <th>pao2_aado2_score</th>\n",
       "      <th>hematocrit_score</th>\n",
       "      <th>wbc_score</th>\n",
       "      <th>creatinine_score</th>\n",
       "      <th>uo_score</th>\n",
       "      <th>bun_score</th>\n",
       "      <th>sodium_score</th>\n",
       "      <th>albumin_score</th>\n",
       "      <th>bilirubin_score</th>\n",
       "      <th>glucose_score</th>\n",
       "      <th>acidbase_score</th>\n",
       "      <th>gcs_score</th>\n",
       "      <th>duration</th>\n",
       "      <th>log_duration</th>\n",
       "      <th>over72h</th>\n",
       "      <th>alive96h</th>\n",
       "    </tr>\n",
       "  </thead>\n",
       "  <tbody>\n",
       "    <tr>\n",
       "      <th>0</th>\n",
       "      <td>30000670</td>\n",
       "      <td>2182-04-14 07:45:00</td>\n",
       "      <td>2182-04-15 10:00:00</td>\n",
       "      <td>EMERGENCY ROOM</td>\n",
       "      <td>Medicare</td>\n",
       "      <td>ENGLISH</td>\n",
       "      <td>BLACK/AFRICAN AMERICAN</td>\n",
       "      <td>DIVORCED</td>\n",
       "      <td>M</td>\n",
       "      <td>69</td>\n",
       "      <td>81</td>\n",
       "      <td>51.7</td>\n",
       "      <td>173.0</td>\n",
       "      <td>38.0</td>\n",
       "      <td>37.000000</td>\n",
       "      <td>36.0</td>\n",
       "      <td>7.39</td>\n",
       "      <td>7.390000</td>\n",
       "      <td>7.39</td>\n",
       "      <td>2.2</td>\n",
       "      <td>2.200000</td>\n",
       "      <td>2.2</td>\n",
       "      <td>305.0</td>\n",
       "      <td>83.0</td>\n",
       "      <td>67.520000</td>\n",
       "      <td>56.0</td>\n",
       "      <td>95.0</td>\n",
       "      <td>79.880000</td>\n",
       "      <td>68.0</td>\n",
       "      <td>95.0</td>\n",
       "      <td>79.88</td>\n",
       "      <td>68.0</td>\n",
       "      <td>20.5</td>\n",
       "      <td>15.442308</td>\n",
       "      <td>13.0</td>\n",
       "      <td>36.61</td>\n",
       "      <td>35.787500</td>\n",
       "      <td>35.00</td>\n",
       "      <td>100.0</td>\n",
       "      <td>99.923077</td>\n",
       "      <td>98.0</td>\n",
       "      <td>179.0</td>\n",
       "      <td>165.500000</td>\n",
       "      <td>149.0</td>\n",
       "      <td>0</td>\n",
       "      <td>0</td>\n",
       "      <td>0</td>\n",
       "      <td>0</td>\n",
       "      <td>0</td>\n",
       "      <td>0</td>\n",
       "      <td>0</td>\n",
       "      <td>50.0</td>\n",
       "      <td>41.111111</td>\n",
       "      <td>40.0</td>\n",
       "      <td>6.4</td>\n",
       "      <td>4.640000</td>\n",
       "      <td>0.0</td>\n",
       "      <td>18.0</td>\n",
       "      <td>14.200000</td>\n",
       "      <td>11.0</td>\n",
       "      <td>0</td>\n",
       "      <td>1.0</td>\n",
       "      <td>0</td>\n",
       "      <td>0</td>\n",
       "      <td>0</td>\n",
       "      <td>0</td>\n",
       "      <td>1</td>\n",
       "      <td>0</td>\n",
       "      <td>0</td>\n",
       "      <td>0</td>\n",
       "      <td>0</td>\n",
       "      <td>0</td>\n",
       "      <td>0</td>\n",
       "      <td>0</td>\n",
       "      <td>0</td>\n",
       "      <td>0</td>\n",
       "      <td>1</td>\n",
       "      <td>4</td>\n",
       "      <td>2.0</td>\n",
       "      <td>0.0</td>\n",
       "      <td>NaN</td>\n",
       "      <td>0.0</td>\n",
       "      <td>1</td>\n",
       "      <td>1.0</td>\n",
       "      <td>47</td>\n",
       "      <td>1.0</td>\n",
       "      <td>7.0</td>\n",
       "      <td>2.0</td>\n",
       "      <td>8.0</td>\n",
       "      <td>0.0</td>\n",
       "      <td>3.0</td>\n",
       "      <td>0.0</td>\n",
       "      <td>0.0</td>\n",
       "      <td>7.0</td>\n",
       "      <td>7.0</td>\n",
       "      <td>0.0</td>\n",
       "      <td>NaN</td>\n",
       "      <td>NaN</td>\n",
       "      <td>0.0</td>\n",
       "      <td>12.0</td>\n",
       "      <td>0.0</td>\n",
       "      <td>26.250000</td>\n",
       "      <td>3.267666</td>\n",
       "      <td>0</td>\n",
       "      <td>1</td>\n",
       "    </tr>\n",
       "    <tr>\n",
       "      <th>1</th>\n",
       "      <td>30000974</td>\n",
       "      <td>2119-06-21 19:30:00</td>\n",
       "      <td>2119-07-07 13:10:00</td>\n",
       "      <td>EMERGENCY ROOM</td>\n",
       "      <td>Medicare</td>\n",
       "      <td>ENGLISH</td>\n",
       "      <td>WHITE</td>\n",
       "      <td>SINGLE</td>\n",
       "      <td>F</td>\n",
       "      <td>92</td>\n",
       "      <td>0</td>\n",
       "      <td>55.0</td>\n",
       "      <td>157.0</td>\n",
       "      <td>25.0</td>\n",
       "      <td>25.000000</td>\n",
       "      <td>25.0</td>\n",
       "      <td>7.44</td>\n",
       "      <td>7.440000</td>\n",
       "      <td>7.44</td>\n",
       "      <td>2.4</td>\n",
       "      <td>2.400000</td>\n",
       "      <td>2.4</td>\n",
       "      <td>252.0</td>\n",
       "      <td>91.0</td>\n",
       "      <td>82.500000</td>\n",
       "      <td>69.0</td>\n",
       "      <td>78.0</td>\n",
       "      <td>66.478261</td>\n",
       "      <td>52.0</td>\n",
       "      <td>53.0</td>\n",
       "      <td>52.50</td>\n",
       "      <td>52.0</td>\n",
       "      <td>34.0</td>\n",
       "      <td>29.108696</td>\n",
       "      <td>20.0</td>\n",
       "      <td>38.22</td>\n",
       "      <td>37.406667</td>\n",
       "      <td>37.00</td>\n",
       "      <td>100.0</td>\n",
       "      <td>98.318182</td>\n",
       "      <td>97.0</td>\n",
       "      <td>159.0</td>\n",
       "      <td>130.500000</td>\n",
       "      <td>102.0</td>\n",
       "      <td>0</td>\n",
       "      <td>0</td>\n",
       "      <td>0</td>\n",
       "      <td>1</td>\n",
       "      <td>0</td>\n",
       "      <td>0</td>\n",
       "      <td>1</td>\n",
       "      <td>50.0</td>\n",
       "      <td>50.000000</td>\n",
       "      <td>50.0</td>\n",
       "      <td>5.0</td>\n",
       "      <td>5.000000</td>\n",
       "      <td>5.0</td>\n",
       "      <td>17.0</td>\n",
       "      <td>15.500000</td>\n",
       "      <td>14.0</td>\n",
       "      <td>0</td>\n",
       "      <td>1.0</td>\n",
       "      <td>0</td>\n",
       "      <td>0</td>\n",
       "      <td>0</td>\n",
       "      <td>0</td>\n",
       "      <td>0</td>\n",
       "      <td>0</td>\n",
       "      <td>0</td>\n",
       "      <td>0</td>\n",
       "      <td>0</td>\n",
       "      <td>0</td>\n",
       "      <td>0</td>\n",
       "      <td>0</td>\n",
       "      <td>0</td>\n",
       "      <td>0</td>\n",
       "      <td>0</td>\n",
       "      <td>6</td>\n",
       "      <td>0.0</td>\n",
       "      <td>0.0</td>\n",
       "      <td>0.0</td>\n",
       "      <td>3.0</td>\n",
       "      <td>3</td>\n",
       "      <td>0.0</td>\n",
       "      <td>76</td>\n",
       "      <td>0.0</td>\n",
       "      <td>15.0</td>\n",
       "      <td>0.0</td>\n",
       "      <td>6.0</td>\n",
       "      <td>0.0</td>\n",
       "      <td>3.0</td>\n",
       "      <td>5.0</td>\n",
       "      <td>0.0</td>\n",
       "      <td>5.0</td>\n",
       "      <td>11.0</td>\n",
       "      <td>0.0</td>\n",
       "      <td>6.0</td>\n",
       "      <td>0.0</td>\n",
       "      <td>0.0</td>\n",
       "      <td>12.0</td>\n",
       "      <td>13.0</td>\n",
       "      <td>377.666667</td>\n",
       "      <td>5.934012</td>\n",
       "      <td>1</td>\n",
       "      <td>1</td>\n",
       "    </tr>\n",
       "    <tr>\n",
       "      <th>2</th>\n",
       "      <td>30001939</td>\n",
       "      <td>2151-04-06 16:55:00</td>\n",
       "      <td>2151-04-15 15:40:00</td>\n",
       "      <td>EMERGENCY ROOM</td>\n",
       "      <td>Medicaid</td>\n",
       "      <td>ENGLISH</td>\n",
       "      <td>WHITE</td>\n",
       "      <td>SINGLE</td>\n",
       "      <td>M</td>\n",
       "      <td>47</td>\n",
       "      <td>460</td>\n",
       "      <td>42.0</td>\n",
       "      <td>175.0</td>\n",
       "      <td>20.0</td>\n",
       "      <td>19.142857</td>\n",
       "      <td>18.0</td>\n",
       "      <td>7.28</td>\n",
       "      <td>7.224286</td>\n",
       "      <td>7.18</td>\n",
       "      <td>1.3</td>\n",
       "      <td>1.250000</td>\n",
       "      <td>1.2</td>\n",
       "      <td>92.5</td>\n",
       "      <td>108.0</td>\n",
       "      <td>87.821429</td>\n",
       "      <td>62.0</td>\n",
       "      <td>98.0</td>\n",
       "      <td>76.431034</td>\n",
       "      <td>58.0</td>\n",
       "      <td>98.0</td>\n",
       "      <td>78.15</td>\n",
       "      <td>57.0</td>\n",
       "      <td>34.0</td>\n",
       "      <td>21.550000</td>\n",
       "      <td>14.0</td>\n",
       "      <td>36.67</td>\n",
       "      <td>36.325000</td>\n",
       "      <td>35.89</td>\n",
       "      <td>100.0</td>\n",
       "      <td>96.964286</td>\n",
       "      <td>92.0</td>\n",
       "      <td>158.0</td>\n",
       "      <td>112.400000</td>\n",
       "      <td>91.0</td>\n",
       "      <td>0</td>\n",
       "      <td>0</td>\n",
       "      <td>0</td>\n",
       "      <td>1</td>\n",
       "      <td>0</td>\n",
       "      <td>0</td>\n",
       "      <td>1</td>\n",
       "      <td>100.0</td>\n",
       "      <td>88.333333</td>\n",
       "      <td>80.0</td>\n",
       "      <td>7.0</td>\n",
       "      <td>4.454545</td>\n",
       "      <td>0.0</td>\n",
       "      <td>31.0</td>\n",
       "      <td>31.000000</td>\n",
       "      <td>31.0</td>\n",
       "      <td>0</td>\n",
       "      <td>1.0</td>\n",
       "      <td>0</td>\n",
       "      <td>0</td>\n",
       "      <td>0</td>\n",
       "      <td>0</td>\n",
       "      <td>0</td>\n",
       "      <td>0</td>\n",
       "      <td>1</td>\n",
       "      <td>0</td>\n",
       "      <td>0</td>\n",
       "      <td>0</td>\n",
       "      <td>0</td>\n",
       "      <td>1</td>\n",
       "      <td>0</td>\n",
       "      <td>0</td>\n",
       "      <td>1</td>\n",
       "      <td>13</td>\n",
       "      <td>4.0</td>\n",
       "      <td>1.0</td>\n",
       "      <td>0.0</td>\n",
       "      <td>4.0</td>\n",
       "      <td>4</td>\n",
       "      <td>0.0</td>\n",
       "      <td>132</td>\n",
       "      <td>1.0</td>\n",
       "      <td>15.0</td>\n",
       "      <td>2.0</td>\n",
       "      <td>9.0</td>\n",
       "      <td>14.0</td>\n",
       "      <td>3.0</td>\n",
       "      <td>5.0</td>\n",
       "      <td>3.0</td>\n",
       "      <td>5.0</td>\n",
       "      <td>2.0</td>\n",
       "      <td>2.0</td>\n",
       "      <td>11.0</td>\n",
       "      <td>0.0</td>\n",
       "      <td>0.0</td>\n",
       "      <td>12.0</td>\n",
       "      <td>48.0</td>\n",
       "      <td>214.750000</td>\n",
       "      <td>5.369475</td>\n",
       "      <td>1</td>\n",
       "      <td>1</td>\n",
       "    </tr>\n",
       "    <tr>\n",
       "      <th>3</th>\n",
       "      <td>30002055</td>\n",
       "      <td>2171-09-26 14:28:00</td>\n",
       "      <td>2171-09-29 08:55:00</td>\n",
       "      <td>WALK-IN/SELF REFERRAL</td>\n",
       "      <td>Medicare</td>\n",
       "      <td>ENGLISH</td>\n",
       "      <td>BLACK/AFRICAN AMERICAN</td>\n",
       "      <td>MARRIED</td>\n",
       "      <td>M</td>\n",
       "      <td>69</td>\n",
       "      <td>2</td>\n",
       "      <td>58.8</td>\n",
       "      <td>178.0</td>\n",
       "      <td>NaN</td>\n",
       "      <td>NaN</td>\n",
       "      <td>NaN</td>\n",
       "      <td>NaN</td>\n",
       "      <td>NaN</td>\n",
       "      <td>NaN</td>\n",
       "      <td>NaN</td>\n",
       "      <td>NaN</td>\n",
       "      <td>NaN</td>\n",
       "      <td>NaN</td>\n",
       "      <td>137.0</td>\n",
       "      <td>116.500000</td>\n",
       "      <td>90.0</td>\n",
       "      <td>150.0</td>\n",
       "      <td>83.250000</td>\n",
       "      <td>44.0</td>\n",
       "      <td>65.0</td>\n",
       "      <td>53.25</td>\n",
       "      <td>44.0</td>\n",
       "      <td>26.0</td>\n",
       "      <td>19.580000</td>\n",
       "      <td>10.0</td>\n",
       "      <td>35.00</td>\n",
       "      <td>33.950000</td>\n",
       "      <td>33.20</td>\n",
       "      <td>100.0</td>\n",
       "      <td>99.190476</td>\n",
       "      <td>84.0</td>\n",
       "      <td>271.0</td>\n",
       "      <td>229.111111</td>\n",
       "      <td>167.0</td>\n",
       "      <td>0</td>\n",
       "      <td>1</td>\n",
       "      <td>0</td>\n",
       "      <td>1</td>\n",
       "      <td>0</td>\n",
       "      <td>0</td>\n",
       "      <td>2</td>\n",
       "      <td>30.0</td>\n",
       "      <td>30.000000</td>\n",
       "      <td>30.0</td>\n",
       "      <td>19.0</td>\n",
       "      <td>11.933333</td>\n",
       "      <td>8.0</td>\n",
       "      <td>30.0</td>\n",
       "      <td>23.833333</td>\n",
       "      <td>18.0</td>\n",
       "      <td>0</td>\n",
       "      <td>0.0</td>\n",
       "      <td>0</td>\n",
       "      <td>1</td>\n",
       "      <td>0</td>\n",
       "      <td>0</td>\n",
       "      <td>1</td>\n",
       "      <td>0</td>\n",
       "      <td>0</td>\n",
       "      <td>0</td>\n",
       "      <td>0</td>\n",
       "      <td>0</td>\n",
       "      <td>0</td>\n",
       "      <td>0</td>\n",
       "      <td>0</td>\n",
       "      <td>0</td>\n",
       "      <td>0</td>\n",
       "      <td>5</td>\n",
       "      <td>NaN</td>\n",
       "      <td>NaN</td>\n",
       "      <td>NaN</td>\n",
       "      <td>4.0</td>\n",
       "      <td>1</td>\n",
       "      <td>0.0</td>\n",
       "      <td>62</td>\n",
       "      <td>7.0</td>\n",
       "      <td>10.0</td>\n",
       "      <td>20.0</td>\n",
       "      <td>0.0</td>\n",
       "      <td>15.0</td>\n",
       "      <td>NaN</td>\n",
       "      <td>NaN</td>\n",
       "      <td>NaN</td>\n",
       "      <td>5.0</td>\n",
       "      <td>NaN</td>\n",
       "      <td>NaN</td>\n",
       "      <td>NaN</td>\n",
       "      <td>NaN</td>\n",
       "      <td>3.0</td>\n",
       "      <td>2.0</td>\n",
       "      <td>0.0</td>\n",
       "      <td>66.450000</td>\n",
       "      <td>4.196450</td>\n",
       "      <td>0</td>\n",
       "      <td>1</td>\n",
       "    </tr>\n",
       "    <tr>\n",
       "      <th>4</th>\n",
       "      <td>30003299</td>\n",
       "      <td>2169-08-22 01:51:00</td>\n",
       "      <td>2169-08-28 12:02:00</td>\n",
       "      <td>EMERGENCY ROOM</td>\n",
       "      <td>Other</td>\n",
       "      <td>ENGLISH</td>\n",
       "      <td>WHITE</td>\n",
       "      <td>SINGLE</td>\n",
       "      <td>M</td>\n",
       "      <td>26</td>\n",
       "      <td>1</td>\n",
       "      <td>120.0</td>\n",
       "      <td>178.0</td>\n",
       "      <td>29.0</td>\n",
       "      <td>24.888889</td>\n",
       "      <td>21.0</td>\n",
       "      <td>7.40</td>\n",
       "      <td>7.335556</td>\n",
       "      <td>7.27</td>\n",
       "      <td>4.0</td>\n",
       "      <td>2.777778</td>\n",
       "      <td>1.5</td>\n",
       "      <td>280.0</td>\n",
       "      <td>133.0</td>\n",
       "      <td>119.500000</td>\n",
       "      <td>101.0</td>\n",
       "      <td>122.0</td>\n",
       "      <td>93.071429</td>\n",
       "      <td>70.0</td>\n",
       "      <td>NaN</td>\n",
       "      <td>NaN</td>\n",
       "      <td>NaN</td>\n",
       "      <td>18.0</td>\n",
       "      <td>17.105263</td>\n",
       "      <td>12.0</td>\n",
       "      <td>37.44</td>\n",
       "      <td>36.971667</td>\n",
       "      <td>36.39</td>\n",
       "      <td>100.0</td>\n",
       "      <td>98.555556</td>\n",
       "      <td>96.0</td>\n",
       "      <td>185.0</td>\n",
       "      <td>152.166667</td>\n",
       "      <td>130.0</td>\n",
       "      <td>0</td>\n",
       "      <td>0</td>\n",
       "      <td>0</td>\n",
       "      <td>0</td>\n",
       "      <td>0</td>\n",
       "      <td>0</td>\n",
       "      <td>0</td>\n",
       "      <td>50.0</td>\n",
       "      <td>48.333333</td>\n",
       "      <td>40.0</td>\n",
       "      <td>5.0</td>\n",
       "      <td>5.000000</td>\n",
       "      <td>5.0</td>\n",
       "      <td>25.0</td>\n",
       "      <td>23.600000</td>\n",
       "      <td>22.0</td>\n",
       "      <td>0</td>\n",
       "      <td>0.0</td>\n",
       "      <td>0</td>\n",
       "      <td>0</td>\n",
       "      <td>0</td>\n",
       "      <td>0</td>\n",
       "      <td>0</td>\n",
       "      <td>0</td>\n",
       "      <td>0</td>\n",
       "      <td>0</td>\n",
       "      <td>0</td>\n",
       "      <td>0</td>\n",
       "      <td>0</td>\n",
       "      <td>0</td>\n",
       "      <td>0</td>\n",
       "      <td>0</td>\n",
       "      <td>0</td>\n",
       "      <td>3</td>\n",
       "      <td>0.0</td>\n",
       "      <td>0.0</td>\n",
       "      <td>NaN</td>\n",
       "      <td>0.0</td>\n",
       "      <td>3</td>\n",
       "      <td>0.0</td>\n",
       "      <td>48</td>\n",
       "      <td>7.0</td>\n",
       "      <td>7.0</td>\n",
       "      <td>0.0</td>\n",
       "      <td>0.0</td>\n",
       "      <td>0.0</td>\n",
       "      <td>3.0</td>\n",
       "      <td>0.0</td>\n",
       "      <td>0.0</td>\n",
       "      <td>4.0</td>\n",
       "      <td>0.0</td>\n",
       "      <td>0.0</td>\n",
       "      <td>NaN</td>\n",
       "      <td>NaN</td>\n",
       "      <td>0.0</td>\n",
       "      <td>12.0</td>\n",
       "      <td>15.0</td>\n",
       "      <td>154.183333</td>\n",
       "      <td>5.038142</td>\n",
       "      <td>1</td>\n",
       "      <td>1</td>\n",
       "    </tr>\n",
       "  </tbody>\n",
       "</table>\n",
       "</div>"
      ],
      "text/plain": [
       "    stay_id            starttime              endtime     admission_location  \\\n",
       "0  30000670  2182-04-14 07:45:00  2182-04-15 10:00:00         EMERGENCY ROOM   \n",
       "1  30000974  2119-06-21 19:30:00  2119-07-07 13:10:00         EMERGENCY ROOM   \n",
       "2  30001939  2151-04-06 16:55:00  2151-04-15 15:40:00         EMERGENCY ROOM   \n",
       "3  30002055  2171-09-26 14:28:00  2171-09-29 08:55:00  WALK-IN/SELF REFERRAL   \n",
       "4  30003299  2169-08-22 01:51:00  2169-08-28 12:02:00         EMERGENCY ROOM   \n",
       "\n",
       "  insurance language               ethnicity marital_status gender  age  \\\n",
       "0  Medicare  ENGLISH  BLACK/AFRICAN AMERICAN       DIVORCED      M   69   \n",
       "1  Medicare  ENGLISH                   WHITE         SINGLE      F   92   \n",
       "2  Medicaid  ENGLISH                   WHITE         SINGLE      M   47   \n",
       "3  Medicare  ENGLISH  BLACK/AFRICAN AMERICAN        MARRIED      M   69   \n",
       "4     Other  ENGLISH                   WHITE         SINGLE      M   26   \n",
       "\n",
       "   hours_in_hosp_before_intubation  weight  height  co2_total_max  \\\n",
       "0                               81    51.7   173.0           38.0   \n",
       "1                                0    55.0   157.0           25.0   \n",
       "2                              460    42.0   175.0           20.0   \n",
       "3                                2    58.8   178.0            NaN   \n",
       "4                                1   120.0   178.0           29.0   \n",
       "\n",
       "   co2_total_avg  co2_total_min  ph_max    ph_avg  ph_min  lactate_max  \\\n",
       "0      37.000000           36.0    7.39  7.390000    7.39          2.2   \n",
       "1      25.000000           25.0    7.44  7.440000    7.44          2.4   \n",
       "2      19.142857           18.0    7.28  7.224286    7.18          1.3   \n",
       "3            NaN            NaN     NaN       NaN     NaN          NaN   \n",
       "4      24.888889           21.0    7.40  7.335556    7.27          4.0   \n",
       "\n",
       "   lactate_avg  lactate_min  pao2fio2ratio  heart_rate_max  heart_rate_avg  \\\n",
       "0     2.200000          2.2          305.0            83.0       67.520000   \n",
       "1     2.400000          2.4          252.0            91.0       82.500000   \n",
       "2     1.250000          1.2           92.5           108.0       87.821429   \n",
       "3          NaN          NaN            NaN           137.0      116.500000   \n",
       "4     2.777778          1.5          280.0           133.0      119.500000   \n",
       "\n",
       "   heart_rate_min  mbp_max    mbp_avg  mbp_min  mbp_ni_max  mbp_ni_avg  \\\n",
       "0            56.0     95.0  79.880000     68.0        95.0       79.88   \n",
       "1            69.0     78.0  66.478261     52.0        53.0       52.50   \n",
       "2            62.0     98.0  76.431034     58.0        98.0       78.15   \n",
       "3            90.0    150.0  83.250000     44.0        65.0       53.25   \n",
       "4           101.0    122.0  93.071429     70.0         NaN         NaN   \n",
       "\n",
       "   mbp_ni_min  resp_rate_max  resp_rate_avg  resp_rate_min  temp_max  \\\n",
       "0        68.0           20.5      15.442308           13.0     36.61   \n",
       "1        52.0           34.0      29.108696           20.0     38.22   \n",
       "2        57.0           34.0      21.550000           14.0     36.67   \n",
       "3        44.0           26.0      19.580000           10.0     35.00   \n",
       "4         NaN           18.0      17.105263           12.0     37.44   \n",
       "\n",
       "    temp_avg  temp_min  spo2_max   spo2_avg  spo2_min  glucose_max  \\\n",
       "0  35.787500     35.00     100.0  99.923077      98.0        179.0   \n",
       "1  37.406667     37.00     100.0  98.318182      97.0        159.0   \n",
       "2  36.325000     35.89     100.0  96.964286      92.0        158.0   \n",
       "3  33.950000     33.20     100.0  99.190476      84.0        271.0   \n",
       "4  36.971667     36.39     100.0  98.555556      96.0        185.0   \n",
       "\n",
       "   glucose_avg  glucose_min  vasopressin  epinephrine  dobutamine  \\\n",
       "0   165.500000        149.0            0            0           0   \n",
       "1   130.500000        102.0            0            0           0   \n",
       "2   112.400000         91.0            0            0           0   \n",
       "3   229.111111        167.0            0            1           0   \n",
       "4   152.166667        130.0            0            0           0   \n",
       "\n",
       "   norepinephrine  phenylephrine  dopamine  count_of_vaso  fio2_max  \\\n",
       "0               0              0         0              0      50.0   \n",
       "1               1              0         0              1      50.0   \n",
       "2               1              0         0              1     100.0   \n",
       "3               1              0         0              2      30.0   \n",
       "4               0              0         0              0      50.0   \n",
       "\n",
       "    fio2_avg  fio2_min  peep_max   peep_avg  peep_min  plateau_pressure_max  \\\n",
       "0  41.111111      40.0       6.4   4.640000       0.0                  18.0   \n",
       "1  50.000000      50.0       5.0   5.000000       5.0                  17.0   \n",
       "2  88.333333      80.0       7.0   4.454545       0.0                  31.0   \n",
       "3  30.000000      30.0      19.0  11.933333       8.0                  30.0   \n",
       "4  48.333333      40.0       5.0   5.000000       5.0                  25.0   \n",
       "\n",
       "   plateau_pressure_avg  plateau_pressure_min  rrt  sinus_rhythm  \\\n",
       "0             14.200000                  11.0    0           1.0   \n",
       "1             15.500000                  14.0    0           1.0   \n",
       "2             31.000000                  31.0    0           1.0   \n",
       "3             23.833333                  18.0    0           0.0   \n",
       "4             23.600000                  22.0    0           0.0   \n",
       "\n",
       "   neuroblocker  congestive_heart_failure  cerebrovascular_disease  dementia  \\\n",
       "0             0                         0                        0         0   \n",
       "1             0                         0                        0         0   \n",
       "2             0                         0                        0         0   \n",
       "3             0                         1                        0         0   \n",
       "4             0                         0                        0         0   \n",
       "\n",
       "   chronic_pulmonary_disease  rheumatic_disease  mild_liver_disease  \\\n",
       "0                          1                  0                   0   \n",
       "1                          0                  0                   0   \n",
       "2                          0                  0                   1   \n",
       "3                          1                  0                   0   \n",
       "4                          0                  0                   0   \n",
       "\n",
       "   diabetes_without_cc  diabetes_with_cc  paraplegia  renal_disease  \\\n",
       "0                    0                 0           0              0   \n",
       "1                    0                 0           0              0   \n",
       "2                    0                 0           0              0   \n",
       "3                    0                 0           0              0   \n",
       "4                    0                 0           0              0   \n",
       "\n",
       "   malignant_cancer  severe_liver_disease  metastatic_solid_tumor  aids  SOFA  \\\n",
       "0                 0                     0                       0     1     4   \n",
       "1                 0                     0                       0     0     6   \n",
       "2                 1                     0                       0     1    13   \n",
       "3                 0                     0                       0     0     5   \n",
       "4                 0                     0                       0     0     3   \n",
       "\n",
       "   respiration  coagulation  liver  cardiovascular  cns  renal  apsiii  \\\n",
       "0          2.0          0.0    NaN             0.0    1    1.0      47   \n",
       "1          0.0          0.0    0.0             3.0    3    0.0      76   \n",
       "2          4.0          1.0    0.0             4.0    4    0.0     132   \n",
       "3          NaN          NaN    NaN             4.0    1    0.0      62   \n",
       "4          0.0          0.0    NaN             0.0    3    0.0      48   \n",
       "\n",
       "   hr_score  mbp_score  temp_score  resp_rate_score  pao2_aado2_score  \\\n",
       "0       1.0        7.0         2.0              8.0               0.0   \n",
       "1       0.0       15.0         0.0              6.0               0.0   \n",
       "2       1.0       15.0         2.0              9.0              14.0   \n",
       "3       7.0       10.0        20.0              0.0              15.0   \n",
       "4       7.0        7.0         0.0              0.0               0.0   \n",
       "\n",
       "   hematocrit_score  wbc_score  creatinine_score  uo_score  bun_score  \\\n",
       "0               3.0        0.0               0.0       7.0        7.0   \n",
       "1               3.0        5.0               0.0       5.0       11.0   \n",
       "2               3.0        5.0               3.0       5.0        2.0   \n",
       "3               NaN        NaN               NaN       5.0        NaN   \n",
       "4               3.0        0.0               0.0       4.0        0.0   \n",
       "\n",
       "   sodium_score  albumin_score  bilirubin_score  glucose_score  \\\n",
       "0           0.0            NaN              NaN            0.0   \n",
       "1           0.0            6.0              0.0            0.0   \n",
       "2           2.0           11.0              0.0            0.0   \n",
       "3           NaN            NaN              NaN            3.0   \n",
       "4           0.0            NaN              NaN            0.0   \n",
       "\n",
       "   acidbase_score  gcs_score    duration  log_duration  over72h  alive96h  \n",
       "0            12.0        0.0   26.250000      3.267666        0         1  \n",
       "1            12.0       13.0  377.666667      5.934012        1         1  \n",
       "2            12.0       48.0  214.750000      5.369475        1         1  \n",
       "3             2.0        0.0   66.450000      4.196450        0         1  \n",
       "4            12.0       15.0  154.183333      5.038142        1         1  "
      ]
     },
     "execution_count": 21,
     "metadata": {},
     "output_type": "execute_result"
    }
   ],
   "source": [
    "df = pd.read_csv(\"../data/mimic-ft98.csv\")\n",
    "print(df.shape)\n",
    "df.head()"
   ]
  },
  {
   "cell_type": "code",
   "execution_count": null,
   "metadata": {
    "collapsed": true
   },
   "outputs": [],
   "source": [
    "df.corrwith(df.log_duration).abs().sort_values(ascending=False).head(10)"
   ]
  },
  {
   "cell_type": "markdown",
   "metadata": {},
   "source": [
    "**Numeric variables: a single variable**\n",
    "\n",
    "Group by the outcome variable, calculate mean and std, round to 1 decimal"
   ]
  },
  {
   "cell_type": "code",
   "execution_count": null,
   "metadata": {
    "collapsed": true
   },
   "outputs": [],
   "source": [
    "df.groupby(\"over72h\").age.agg([np.mean, np.std]).round(1)"
   ]
  },
  {
   "cell_type": "markdown",
   "metadata": {},
   "source": [
    "**All numeric variables**"
   ]
  },
  {
   "cell_type": "code",
   "execution_count": null,
   "metadata": {
    "collapsed": true
   },
   "outputs": [],
   "source": [
    "num_vars = df.select_dtypes('number').columns[1: -2]"
   ]
  },
  {
   "cell_type": "code",
   "execution_count": null,
   "metadata": {
    "collapsed": true
   },
   "outputs": [],
   "source": [
    "df.groupby(\"over72h\")[num_vars].agg([np.mean, np.std]).round(1)"
   ]
  },
  {
   "cell_type": "markdown",
   "metadata": {},
   "source": [
    "**Categorical variables: a single dichotomous variable**\n",
    "\n",
    "The number of females `\"F\"` in the cohort: sum, calculate the percentage, round to 1 decimal"
   ]
  },
  {
   "cell_type": "code",
   "execution_count": null,
   "metadata": {
    "collapsed": true
   },
   "outputs": [],
   "source": [
    "df.groupby(\"over72h\").apply(lambda x: (x.gender == \"F\").sum() * 100 / x.shape[0]).round(1)"
   ]
  },
  {
   "cell_type": "markdown",
   "metadata": {},
   "source": [
    "**Categorical variables: a single variable with multiple values**\n",
    "\n",
    "Print the most common value, then calculate its percentage in both groups"
   ]
  },
  {
   "cell_type": "code",
   "execution_count": null,
   "metadata": {
    "collapsed": true
   },
   "outputs": [],
   "source": [
    "print(\"Most common value:\", df.groupby(\"over72h\").admission_location.describe().top)\n",
    "\n",
    "df.groupby(\"over72h\").admission_location.describe().apply(lambda x: x.freq / x['count'] * 100, axis=1).round(1)"
   ]
  },
  {
   "cell_type": "markdown",
   "metadata": {},
   "source": [
    "**All categorica variables**"
   ]
  },
  {
   "cell_type": "code",
   "execution_count": null,
   "metadata": {
    "collapsed": true
   },
   "outputs": [],
   "source": [
    "cat_vars = df.select_dtypes('object').columns[2:]"
   ]
  },
  {
   "cell_type": "markdown",
   "metadata": {},
   "source": [
    "### Other characteristics\n",
    "\n",
    "**Length of MV, ICU and hospital stays**"
   ]
  },
  {
   "cell_type": "code",
   "execution_count": null,
   "metadata": {
    "collapsed": true
   },
   "outputs": [],
   "source": [
    "df_meta[\"icu_duration\"] = (df_meta.icu_outtime - df_meta.icu_intime).dt.days\n",
    "df_meta[\"hosp_duration\"] = (df_meta.hosp_outtime - df_meta.hosp_intime).dt.days"
   ]
  },
  {
   "cell_type": "code",
   "execution_count": null,
   "metadata": {
    "collapsed": true
   },
   "outputs": [],
   "source": [
    "df_meta.groupby(\"over72h\")[[\"duration\", \"icu_duration\", \"hosp_duration\"]].agg([np.mean, np.std]).round(1)"
   ]
  },
  {
   "cell_type": "markdown",
   "metadata": {},
   "source": [
    "**Percentage of people that died during their ICU stay**"
   ]
  },
  {
   "cell_type": "code",
   "execution_count": null,
   "metadata": {
    "collapsed": true
   },
   "outputs": [],
   "source": [
    "df_meta[\"expired_in_icu\"] = (df_meta.deathtime < df_meta.icu_outtime).astype(int)\n",
    "df_meta.groupby(\"over72h\").apply(lambda x: x.expired_in_icu.sum() * 100 / x.shape[0]).round(1)"
   ]
  },
  {
   "cell_type": "markdown",
   "metadata": {},
   "source": [
    "**Time to death**"
   ]
  },
  {
   "cell_type": "code",
   "execution_count": null,
   "metadata": {
    "collapsed": true
   },
   "outputs": [],
   "source": [
    "df_meta.groupby(\"over72h\").time_to_death.agg([np.mean, np.std]).round(1)"
   ]
  },
  {
   "cell_type": "code",
   "execution_count": 1,
   "metadata": {
    "collapsed": true
   },
   "outputs": [],
   "source": [
    "import pandas as pd"
   ]
  },
  {
   "cell_type": "code",
   "execution_count": 19,
   "metadata": {
    "collapsed": true
   },
   "outputs": [],
   "source": [
    "df = pd.read_csv(\"../data/mimic-ft98.csv\")"
   ]
  },
  {
   "cell_type": "code",
   "execution_count": 10,
   "metadata": {},
   "outputs": [
    {
     "data": {
      "text/plain": [
       "log_duration            1.000000\n",
       "duration                0.845894\n",
       "over72h                 0.822789\n",
       "cns                     0.373248\n",
       "gcs_score               0.369510\n",
       "apsiii                  0.355160\n",
       "acidbase_score          0.296702\n",
       "peep_avg                0.252978\n",
       "peep_min                0.244585\n",
       "peep_max                0.227299\n",
       "SOFA                    0.219285\n",
       "plateau_pressure_avg    0.214201\n",
       "resp_rate_avg           0.206005\n",
       "alive96h                0.203994\n",
       "plateau_pressure_min    0.173816\n",
       "plateau_pressure_max    0.167817\n",
       "fio2_avg                0.165991\n",
       "dtype: float64"
      ]
     },
     "execution_count": 10,
     "metadata": {},
     "output_type": "execute_result"
    }
   ],
   "source": [
    "df.corrwith(df.log_duration).abs().sort_values(ascending=False).head(17)"
   ]
  },
  {
   "cell_type": "code",
   "execution_count": 20,
   "metadata": {},
   "outputs": [
    {
     "data": {
      "text/plain": [
       "log_duration            1.00\n",
       "duration                0.85\n",
       "over72h                 0.82\n",
       "gcs_score               0.37\n",
       "cns                     0.37\n",
       "apsiii                  0.36\n",
       "acidbase_score          0.30\n",
       "peep_avg                0.25\n",
       "peep_min                0.24\n",
       "peep_max                0.23\n",
       "SOFA                    0.22\n",
       "resp_rate_avg           0.21\n",
       "plateau_pressure_avg    0.21\n",
       "alive96h                0.20\n",
       "plateau_pressure_min    0.17\n",
       "fio2_avg                0.17\n",
       "plateau_pressure_max    0.17\n",
       "dtype: float64"
      ]
     },
     "execution_count": 20,
     "metadata": {},
     "output_type": "execute_result"
    }
   ],
   "source": [
    "df.corrwith(df.log_duration).round(2).sort_values(ascending=False).head(17)"
   ]
  },
  {
   "cell_type": "code",
   "execution_count": 12,
   "metadata": {},
   "outputs": [
    {
     "data": {
      "text/plain": [
       "log_duration            1.000000\n",
       "duration                0.845894\n",
       "over72h                 0.822789\n",
       "cns                     0.373248\n",
       "gcs_score               0.369510\n",
       "apsiii                  0.355160\n",
       "acidbase_score          0.296702\n",
       "peep_avg                0.252978\n",
       "peep_min                0.244585\n",
       "peep_max                0.227299\n",
       "SOFA                    0.219285\n",
       "plateau_pressure_avg    0.214201\n",
       "resp_rate_avg           0.206005\n",
       "alive96h                0.203994\n",
       "plateau_pressure_min    0.173816\n",
       "plateau_pressure_max    0.167817\n",
       "fio2_avg                0.165991\n",
       "dtype: float64"
      ]
     },
     "execution_count": 12,
     "metadata": {},
     "output_type": "execute_result"
    }
   ],
   "source": [
    "df.corrwith(df.log_duration)[df.corrwith(df.log_duration).abs().sort_values(ascending=False).head(17).index]"
   ]
  },
  {
   "cell_type": "markdown",
   "metadata": {},
   "source": [
    "___\n",
    "# eICU"
   ]
  },
  {
   "cell_type": "markdown",
   "metadata": {},
   "source": [
    "### Explore the target variable"
   ]
  },
  {
   "cell_type": "code",
   "execution_count": 21,
   "metadata": {},
   "outputs": [
    {
     "name": "stdout",
     "output_type": "stream",
     "text": [
      "(21185, 64)\n"
     ]
    },
    {
     "data": {
      "text/html": [
       "<div>\n",
       "<style scoped>\n",
       "    .dataframe tbody tr th:only-of-type {\n",
       "        vertical-align: middle;\n",
       "    }\n",
       "\n",
       "    .dataframe tbody tr th {\n",
       "        vertical-align: top;\n",
       "    }\n",
       "\n",
       "    .dataframe thead th {\n",
       "        text-align: right;\n",
       "    }\n",
       "</style>\n",
       "<table border=\"1\" class=\"dataframe\">\n",
       "  <thead>\n",
       "    <tr style=\"text-align: right;\">\n",
       "      <th></th>\n",
       "      <th>stay_id</th>\n",
       "      <th>starttime</th>\n",
       "      <th>endtime</th>\n",
       "      <th>duration</th>\n",
       "      <th>over72h</th>\n",
       "      <th>ph_max</th>\n",
       "      <th>spo2_min</th>\n",
       "      <th>heart_rate_min</th>\n",
       "      <th>heart_rate_max</th>\n",
       "      <th>resp_rate_min</th>\n",
       "      <th>...</th>\n",
       "      <th>teachingstatus</th>\n",
       "      <th>lactate_max</th>\n",
       "      <th>lactate_min</th>\n",
       "      <th>lactate_avg</th>\n",
       "      <th>resp_rate_avg</th>\n",
       "      <th>plateau_pressure_avg</th>\n",
       "      <th>plateau_pressure_min</th>\n",
       "      <th>age</th>\n",
       "      <th>hours_in_hosp_before_intubation</th>\n",
       "      <th>log_duration</th>\n",
       "    </tr>\n",
       "  </thead>\n",
       "  <tbody>\n",
       "    <tr>\n",
       "      <th>0</th>\n",
       "      <td>2127890</td>\n",
       "      <td>1853</td>\n",
       "      <td>4506</td>\n",
       "      <td>44.217</td>\n",
       "      <td>0</td>\n",
       "      <td>NaN</td>\n",
       "      <td>89.0</td>\n",
       "      <td>107.0</td>\n",
       "      <td>196.0</td>\n",
       "      <td>16.0</td>\n",
       "      <td>...</td>\n",
       "      <td>False</td>\n",
       "      <td>9.1</td>\n",
       "      <td>4.5</td>\n",
       "      <td>6.875</td>\n",
       "      <td>24.600</td>\n",
       "      <td>20.200</td>\n",
       "      <td>19.0</td>\n",
       "      <td>55</td>\n",
       "      <td>38</td>\n",
       "      <td>3.789109</td>\n",
       "    </tr>\n",
       "    <tr>\n",
       "      <th>1</th>\n",
       "      <td>2519150</td>\n",
       "      <td>95</td>\n",
       "      <td>4175</td>\n",
       "      <td>68.000</td>\n",
       "      <td>0</td>\n",
       "      <td>NaN</td>\n",
       "      <td>88.0</td>\n",
       "      <td>96.0</td>\n",
       "      <td>116.0</td>\n",
       "      <td>13.0</td>\n",
       "      <td>...</td>\n",
       "      <td>False</td>\n",
       "      <td>1.3</td>\n",
       "      <td>1.3</td>\n",
       "      <td>1.300</td>\n",
       "      <td>18.600</td>\n",
       "      <td>20.500</td>\n",
       "      <td>12.0</td>\n",
       "      <td>29</td>\n",
       "      <td>4</td>\n",
       "      <td>4.219508</td>\n",
       "    </tr>\n",
       "    <tr>\n",
       "      <th>2</th>\n",
       "      <td>919705</td>\n",
       "      <td>3012</td>\n",
       "      <td>5367</td>\n",
       "      <td>39.250</td>\n",
       "      <td>0</td>\n",
       "      <td>7.51</td>\n",
       "      <td>85.0</td>\n",
       "      <td>58.0</td>\n",
       "      <td>73.0</td>\n",
       "      <td>15.0</td>\n",
       "      <td>...</td>\n",
       "      <td>False</td>\n",
       "      <td>NaN</td>\n",
       "      <td>NaN</td>\n",
       "      <td>NaN</td>\n",
       "      <td>16.359</td>\n",
       "      <td>26.857</td>\n",
       "      <td>16.0</td>\n",
       "      <td>61</td>\n",
       "      <td>51</td>\n",
       "      <td>3.669951</td>\n",
       "    </tr>\n",
       "    <tr>\n",
       "      <th>3</th>\n",
       "      <td>1554681</td>\n",
       "      <td>44</td>\n",
       "      <td>1724</td>\n",
       "      <td>28.000</td>\n",
       "      <td>0</td>\n",
       "      <td>7.40</td>\n",
       "      <td>91.0</td>\n",
       "      <td>87.0</td>\n",
       "      <td>113.0</td>\n",
       "      <td>0.0</td>\n",
       "      <td>...</td>\n",
       "      <td>False</td>\n",
       "      <td>NaN</td>\n",
       "      <td>NaN</td>\n",
       "      <td>NaN</td>\n",
       "      <td>16.136</td>\n",
       "      <td>18.000</td>\n",
       "      <td>18.0</td>\n",
       "      <td>66</td>\n",
       "      <td>36</td>\n",
       "      <td>3.332205</td>\n",
       "    </tr>\n",
       "    <tr>\n",
       "      <th>4</th>\n",
       "      <td>260998</td>\n",
       "      <td>89</td>\n",
       "      <td>1937</td>\n",
       "      <td>30.800</td>\n",
       "      <td>0</td>\n",
       "      <td>7.25</td>\n",
       "      <td>75.0</td>\n",
       "      <td>109.0</td>\n",
       "      <td>121.0</td>\n",
       "      <td>28.0</td>\n",
       "      <td>...</td>\n",
       "      <td>False</td>\n",
       "      <td>7.1</td>\n",
       "      <td>5.5</td>\n",
       "      <td>6.133</td>\n",
       "      <td>31.333</td>\n",
       "      <td>NaN</td>\n",
       "      <td>NaN</td>\n",
       "      <td>64</td>\n",
       "      <td>1</td>\n",
       "      <td>3.427515</td>\n",
       "    </tr>\n",
       "  </tbody>\n",
       "</table>\n",
       "<p>5 rows × 64 columns</p>\n",
       "</div>"
      ],
      "text/plain": [
       "   stay_id  starttime  endtime  duration  over72h  ph_max  spo2_min  \\\n",
       "0  2127890       1853     4506    44.217        0     NaN      89.0   \n",
       "1  2519150         95     4175    68.000        0     NaN      88.0   \n",
       "2   919705       3012     5367    39.250        0    7.51      85.0   \n",
       "3  1554681         44     1724    28.000        0    7.40      91.0   \n",
       "4   260998         89     1937    30.800        0    7.25      75.0   \n",
       "\n",
       "   heart_rate_min  heart_rate_max  resp_rate_min  ...  teachingstatus  \\\n",
       "0           107.0           196.0           16.0  ...           False   \n",
       "1            96.0           116.0           13.0  ...           False   \n",
       "2            58.0            73.0           15.0  ...           False   \n",
       "3            87.0           113.0            0.0  ...           False   \n",
       "4           109.0           121.0           28.0  ...           False   \n",
       "\n",
       "   lactate_max  lactate_min  lactate_avg  resp_rate_avg  plateau_pressure_avg  \\\n",
       "0          9.1          4.5        6.875         24.600                20.200   \n",
       "1          1.3          1.3        1.300         18.600                20.500   \n",
       "2          NaN          NaN          NaN         16.359                26.857   \n",
       "3          NaN          NaN          NaN         16.136                18.000   \n",
       "4          7.1          5.5        6.133         31.333                   NaN   \n",
       "\n",
       "   plateau_pressure_min  age  hours_in_hosp_before_intubation  log_duration  \n",
       "0                  19.0   55                               38      3.789109  \n",
       "1                  12.0   29                                4      4.219508  \n",
       "2                  16.0   61                               51      3.669951  \n",
       "3                  18.0   66                               36      3.332205  \n",
       "4                   NaN   64                                1      3.427515  \n",
       "\n",
       "[5 rows x 64 columns]"
      ]
     },
     "execution_count": 21,
     "metadata": {},
     "output_type": "execute_result"
    }
   ],
   "source": [
    "df = pd.read_csv(\"../data/eicu-ft58.csv\")\n",
    "print(df.shape)\n",
    "df.head()"
   ]
  },
  {
   "cell_type": "code",
   "execution_count": 4,
   "metadata": {},
   "outputs": [
    {
     "data": {
      "text/plain": [
       "Index(['ph_max', 'spo2_min', 'heart_rate_min', 'heart_rate_max',\n",
       "       'resp_rate_min', 'resp_rate_max', 'temp_min', 'temp_max', 'glucose_max',\n",
       "       'glucose_min', 'co2_total_max', 'co2_total_min', 'mbp_max',\n",
       "       'mbp_ni_min', 'apsiii', 'peep_max', 'peep_min', 'co2_total_avg',\n",
       "       'fio2_min', 'plateau_pressure_max', 'height', 'peep_avg', 'temp_avg',\n",
       "       'hr_score', 'mbp_score', 'temp_score', 'resp_rate_score',\n",
       "       'pao2_aado2_score', 'hematocrit_score', 'wbc_score', 'creatinine_score',\n",
       "       'uo_score', 'bun_score', 'sodium_score', 'albumin_score',\n",
       "       'bilirubin_score', 'glucose_score', 'acidbase_score', 'gcs_score',\n",
       "       'SOFA', 'respiration', 'coagulation', 'liver', 'cardiovascular', 'cns',\n",
       "       'renal', 'hospitalid', 'numbedscategory', 'region', 'teachingstatus',\n",
       "       'lactate_max', 'lactate_min', 'lactate_avg', 'resp_rate_avg',\n",
       "       'plateau_pressure_avg', 'plateau_pressure_min', 'age',\n",
       "       'hours_in_hosp_before_intubation'],\n",
       "      dtype='object')"
      ]
     },
     "execution_count": 4,
     "metadata": {},
     "output_type": "execute_result"
    }
   ],
   "source": [
    "df.columns[5:-1]"
   ]
  },
  {
   "cell_type": "markdown",
   "metadata": {},
   "source": [
    "**Duration of mechanical ventilation**"
   ]
  },
  {
   "cell_type": "code",
   "execution_count": 5,
   "metadata": {},
   "outputs": [
    {
     "data": {
      "image/png": "[encoded data removed]",
      "text/plain": [
       "<Figure size 432x288 with 1 Axes>"
      ]
     },
     "metadata": {
      "needs_background": "light"
     },
     "output_type": "display_data"
    }
   ],
   "source": [
    "sns.histplot(x=df.duration, bins=500);\n",
    "plt.axvline(72, color=\"r\");\n",
    "plt.xlabel(\"Duration of MV, hours\");\n",
    "plt.title(\"eICU\");\n",
    "\n",
    "# Uncomment to save the figure in high resolution\n",
    "plt.savefig('../results/length of MV eICU.png', bbox_inches='tight', dpi=300)"
   ]
  },
  {
   "cell_type": "code",
   "execution_count": 6,
   "metadata": {},
   "outputs": [
    {
     "data": {
      "image/png": "[encoded data removed]",
      "text/plain": [
       "<Figure size 432x288 with 1 Axes>"
      ]
     },
     "metadata": {
      "needs_background": "light"
     },
     "output_type": "display_data"
    }
   ],
   "source": [
    "sns.histplot(x=df.duration, bins=500);\n",
    "plt.axvline(72, color=\"r\");\n",
    "plt.xlabel(\"Duration of MV, hours\");\n",
    "plt.xlim([0,500]);\n",
    "\n",
    "# Uncomment to save the figure in high resolution\n",
    "plt.savefig('../results/length of MV eICU 2.png', bbox_inches='tight', dpi=300)"
   ]
  },
  {
   "cell_type": "markdown",
   "metadata": {},
   "source": [
    "**Distribution of class variable `over72h`**"
   ]
  },
  {
   "cell_type": "code",
   "execution_count": 7,
   "metadata": {},
   "outputs": [
    {
     "data": {
      "text/plain": [
       "(1    11726\n",
       " 0     9459\n",
       " Name: over72h, dtype: int64,\n",
       " 1    0.553505\n",
       " 0    0.446495\n",
       " Name: over72h, dtype: float64)"
      ]
     },
     "execution_count": 7,
     "metadata": {},
     "output_type": "execute_result"
    }
   ],
   "source": [
    "df.over72h.value_counts(), df.over72h.value_counts() / df.shape[0]"
   ]
  },
  {
   "cell_type": "markdown",
   "metadata": {},
   "source": [
    "### Correlation with MV"
   ]
  },
  {
   "cell_type": "code",
   "execution_count": 22,
   "metadata": {
    "scrolled": true
   },
   "outputs": [
    {
     "data": {
      "text/plain": [
       "log_duration            1.00\n",
       "duration                0.81\n",
       "over72h                 0.80\n",
       "endtime                 0.79\n",
       "peep_avg                0.18\n",
       "peep_max                0.15\n",
       "peep_min                0.15\n",
       "fio2_min                0.15\n",
       "apsiii                  0.11\n",
       "hr_score                0.09\n",
       "bun_score               0.09\n",
       "plateau_pressure_min    0.09\n",
       "resp_rate_avg           0.09\n",
       "heart_rate_max          0.09\n",
       "heart_rate_min          0.09\n",
       "starttime               0.09\n",
       "SOFA                    0.08\n",
       "temp_max                0.08\n",
       "dtype: float64"
      ]
     },
     "execution_count": 22,
     "metadata": {},
     "output_type": "execute_result"
    }
   ],
   "source": [
    "df.corrwith(df.log_duration).round(2).sort_values(ascending=False).head(18)"
   ]
  },
  {
   "cell_type": "markdown",
   "metadata": {},
   "source": [
    "**Three largest hospitals**\n",
    "\n",
    "df.hospitalid.nunique()"
   ]
  },
  {
   "cell_type": "code",
   "execution_count": null,
   "metadata": {
    "collapsed": true
   },
   "outputs": [],
   "source": [
    "df.hospitalid.value_counts()"
   ]
  },
  {
   "cell_type": "code",
   "execution_count": null,
   "metadata": {
    "collapsed": true
   },
   "outputs": [],
   "source": [
    "hospid = df.hospitalid.value_counts().head(3).index"
   ]
  },
  {
   "cell_type": "code",
   "execution_count": null,
   "metadata": {
    "collapsed": true
   },
   "outputs": [],
   "source": [
    "df[df.hospitalid==hospid[0]].corrwith(df.log_duration).abs().sort_values(ascending=False).head(7)"
   ]
  },
  {
   "cell_type": "code",
   "execution_count": null,
   "metadata": {
    "collapsed": true
   },
   "outputs": [],
   "source": [
    "df[df.hospitalid==hospid[1]].corrwith(df.log_duration).abs().sort_values(ascending=False).head(7)"
   ]
  },
  {
   "cell_type": "code",
   "execution_count": null,
   "metadata": {
    "collapsed": true
   },
   "outputs": [],
   "source": [
    "df[df.hospitalid==hospid[2]].corrwith(df.log_duration).abs().sort_values(ascending=False).head(7)"
   ]
  },
  {
   "cell_type": "markdown",
   "metadata": {},
   "source": [
    "**Different sizes**"
   ]
  },
  {
   "cell_type": "code",
   "execution_count": null,
   "metadata": {
    "collapsed": true
   },
   "outputs": [],
   "source": [
    "df[df.numbedscategory==\"S\"].corrwith(df.log_duration).abs().sort_values(ascending=False).head(7)"
   ]
  },
  {
   "cell_type": "code",
   "execution_count": null,
   "metadata": {
    "collapsed": true
   },
   "outputs": [],
   "source": [
    "df[df.numbedscategory==\"M\"].corrwith(df.log_duration).abs().sort_values(ascending=False).head(7)"
   ]
  },
  {
   "cell_type": "code",
   "execution_count": null,
   "metadata": {
    "collapsed": true
   },
   "outputs": [],
   "source": [
    "df[df.numbedscategory==\"L\"].corrwith(df.log_duration).abs().sort_values(ascending=False).head(7)"
   ]
  },
  {
   "cell_type": "code",
   "execution_count": null,
   "metadata": {
    "collapsed": true
   },
   "outputs": [],
   "source": [
    "df[df.numbedscategory==\"XL\"].corrwith(df.log_duration).abs().sort_values(ascending=False).head(7)"
   ]
  },
  {
   "cell_type": "markdown",
   "metadata": {},
   "source": [
    "# MIMIC and selected features"
   ]
  },
  {
   "cell_type": "code",
   "execution_count": null,
   "metadata": {
    "collapsed": true
   },
   "outputs": [],
   "source": [
    "features = [\"acidbase_score\",\n",
    "            \"cns\",\n",
    "            \"co2_total_avg\",\n",
    "            \"gcs_score\",\n",
    "            \"height\",\n",
    "            \"malignant_cancer\",\n",
    "            \"paraplegia\",\n",
    "            \"peep_avg\",\n",
    "            \"peep_min\",\n",
    "            \"resp_rate_min\",\n",
    "            \"temp_avg\",\n",
    "            \"uo_score\"]"
   ]
  },
  {
   "cell_type": "code",
   "execution_count": null,
   "metadata": {
    "collapsed": true
   },
   "outputs": [],
   "source": [
    "df = pd.read_csv(\"../data/mimic-ft98.csv\")\n",
    "print(df.shape)\n",
    "df.head()"
   ]
  },
  {
   "cell_type": "code",
   "execution_count": null,
   "metadata": {
    "collapsed": true,
    "scrolled": false
   },
   "outputs": [],
   "source": [
    "for f in features:\n",
    "    plt.figure();\n",
    "    sns.scatterplot(x=f, y=\"log_duration\", data=df);"
   ]
  },
  {
   "cell_type": "code",
   "execution_count": null,
   "metadata": {
    "collapsed": true
   },
   "outputs": [],
   "source": [
    "sns.lmplot(x=\"height\", y=\"duration\", data=df);\n",
    "plt.xlabel(\"Height, cm\");\n",
    "plt.ylabel(\"Duration of MV, hours\");\n",
    "\n",
    "plt.savefig('../results/height vs MV MIMIC.jpg', bbox_inches='tight', dpi=300)"
   ]
  },
  {
   "cell_type": "code",
   "execution_count": 27,
   "metadata": {},
   "outputs": [
    {
     "data": {
      "text/plain": [
       "KstestResult(statistic=0.050442972202413255, pvalue=5.8971352267460485e-18)"
      ]
     },
     "execution_count": 27,
     "metadata": {},
     "output_type": "execute_result"
    }
   ],
   "source": [
    "from scipy.stats import kstest\n",
    "\n",
    "kstest(x1, x2, alternative='two-sided')"
   ]
  },
  {
   "cell_type": "code",
   "execution_count": null,
   "metadata": {
    "collapsed": true
   },
   "outputs": [],
   "source": []
  }
 ],
 "metadata": {
  "kernelspec": {
   "display_name": "Python 3 (ipykernel)",
   "language": "python",
   "name": "python3"
  },
  "language_info": {
   "codemirror_mode": {
    "name": "ipython",
    "version": 3
   },
   "file_extension": ".py",
   "mimetype": "text/x-python",
   "name": "python",
   "nbconvert_exporter": "python",
   "pygments_lexer": "ipython3",
   "version": "3.8.10"
  },
  "toc": {
   "base_numbering": 1,
   "nav_menu": {},
   "number_sections": false,
   "sideBar": true,
   "skip_h1_title": false,
   "title_cell": "Table of Contents",
   "title_sidebar": "Contents",
   "toc_cell": false,
   "toc_position": {},
   "toc_section_display": true,
   "toc_window_display": false
  }
 },
 "nbformat": 4,
 "nbformat_minor": 2
}
