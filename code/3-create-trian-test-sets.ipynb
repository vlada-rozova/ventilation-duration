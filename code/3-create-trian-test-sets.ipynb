{
 "cells": [
  {
   "cell_type": "markdown",
   "metadata": {},
   "source": [
    "# Create training and test sets\n",
    "1. Load the dataset with metadata and a separate dataset with clinical features\n",
    "2. Select a subset of patients that have an associated CXR study\n",
    "3. Fill in missing values\n",
    "4. Create train/test splits for 4 different classification strategies"
   ]
  },
  {
   "cell_type": "markdown",
   "metadata": {},
   "source": [
    "___\n",
    "# EMR data"
   ]
  },
  {
   "cell_type": "code",
   "execution_count": 1,
   "metadata": {
    "collapsed": true
   },
   "outputs": [],
   "source": [
    "import numpy as np\n",
    "import pandas as pd\n",
    "import utils\n",
    "from sklearn.model_selection import train_test_split"
   ]
  },
  {
   "cell_type": "markdown",
   "metadata": {},
   "source": [
    "**Load datasets**"
   ]
  },
  {
   "cell_type": "code",
   "execution_count": 2,
   "metadata": {},
   "outputs": [
    {
     "name": "stdout",
     "output_type": "stream",
     "text": [
      "(12652, 105)\n"
     ]
    },
    {
     "data": {
      "text/html": [
       "<div>\n",
       "<style scoped>\n",
       "    .dataframe tbody tr th:only-of-type {\n",
       "        vertical-align: middle;\n",
       "    }\n",
       "\n",
       "    .dataframe tbody tr th {\n",
       "        vertical-align: top;\n",
       "    }\n",
       "\n",
       "    .dataframe thead th {\n",
       "        text-align: right;\n",
       "    }\n",
       "</style>\n",
       "<table border=\"1\" class=\"dataframe\">\n",
       "  <thead>\n",
       "    <tr style=\"text-align: right;\">\n",
       "      <th></th>\n",
       "      <th>stay_id</th>\n",
       "      <th>starttime</th>\n",
       "      <th>endtime</th>\n",
       "      <th>admission_location</th>\n",
       "      <th>insurance</th>\n",
       "      <th>language</th>\n",
       "      <th>ethnicity</th>\n",
       "      <th>marital_status</th>\n",
       "      <th>gender</th>\n",
       "      <th>age</th>\n",
       "      <th>...</th>\n",
       "      <th>sodium_score</th>\n",
       "      <th>albumin_score</th>\n",
       "      <th>bilirubin_score</th>\n",
       "      <th>glucose_score</th>\n",
       "      <th>acidbase_score</th>\n",
       "      <th>gcs_score</th>\n",
       "      <th>duration</th>\n",
       "      <th>log_duration</th>\n",
       "      <th>over72h</th>\n",
       "      <th>alive96h</th>\n",
       "    </tr>\n",
       "  </thead>\n",
       "  <tbody>\n",
       "    <tr>\n",
       "      <th>0</th>\n",
       "      <td>30000670</td>\n",
       "      <td>2182-04-14 07:45:00</td>\n",
       "      <td>2182-04-15 10:00:00</td>\n",
       "      <td>EMERGENCY ROOM</td>\n",
       "      <td>Medicare</td>\n",
       "      <td>ENGLISH</td>\n",
       "      <td>BLACK/AFRICAN AMERICAN</td>\n",
       "      <td>DIVORCED</td>\n",
       "      <td>M</td>\n",
       "      <td>69</td>\n",
       "      <td>...</td>\n",
       "      <td>0.0</td>\n",
       "      <td>NaN</td>\n",
       "      <td>NaN</td>\n",
       "      <td>0.0</td>\n",
       "      <td>12.0</td>\n",
       "      <td>0.0</td>\n",
       "      <td>26.250000</td>\n",
       "      <td>3.267666</td>\n",
       "      <td>0</td>\n",
       "      <td>1</td>\n",
       "    </tr>\n",
       "    <tr>\n",
       "      <th>1</th>\n",
       "      <td>30000974</td>\n",
       "      <td>2119-06-21 19:30:00</td>\n",
       "      <td>2119-07-07 13:10:00</td>\n",
       "      <td>EMERGENCY ROOM</td>\n",
       "      <td>Medicare</td>\n",
       "      <td>ENGLISH</td>\n",
       "      <td>WHITE</td>\n",
       "      <td>SINGLE</td>\n",
       "      <td>F</td>\n",
       "      <td>92</td>\n",
       "      <td>...</td>\n",
       "      <td>0.0</td>\n",
       "      <td>6.0</td>\n",
       "      <td>0.0</td>\n",
       "      <td>0.0</td>\n",
       "      <td>12.0</td>\n",
       "      <td>13.0</td>\n",
       "      <td>377.666667</td>\n",
       "      <td>5.934012</td>\n",
       "      <td>1</td>\n",
       "      <td>1</td>\n",
       "    </tr>\n",
       "    <tr>\n",
       "      <th>2</th>\n",
       "      <td>30001939</td>\n",
       "      <td>2151-04-06 16:55:00</td>\n",
       "      <td>2151-04-15 15:40:00</td>\n",
       "      <td>EMERGENCY ROOM</td>\n",
       "      <td>Medicaid</td>\n",
       "      <td>ENGLISH</td>\n",
       "      <td>WHITE</td>\n",
       "      <td>SINGLE</td>\n",
       "      <td>M</td>\n",
       "      <td>47</td>\n",
       "      <td>...</td>\n",
       "      <td>2.0</td>\n",
       "      <td>11.0</td>\n",
       "      <td>0.0</td>\n",
       "      <td>0.0</td>\n",
       "      <td>12.0</td>\n",
       "      <td>48.0</td>\n",
       "      <td>214.750000</td>\n",
       "      <td>5.369475</td>\n",
       "      <td>1</td>\n",
       "      <td>1</td>\n",
       "    </tr>\n",
       "    <tr>\n",
       "      <th>3</th>\n",
       "      <td>30002055</td>\n",
       "      <td>2171-09-26 14:28:00</td>\n",
       "      <td>2171-09-29 08:55:00</td>\n",
       "      <td>WALK-IN/SELF REFERRAL</td>\n",
       "      <td>Medicare</td>\n",
       "      <td>ENGLISH</td>\n",
       "      <td>BLACK/AFRICAN AMERICAN</td>\n",
       "      <td>MARRIED</td>\n",
       "      <td>M</td>\n",
       "      <td>69</td>\n",
       "      <td>...</td>\n",
       "      <td>NaN</td>\n",
       "      <td>NaN</td>\n",
       "      <td>NaN</td>\n",
       "      <td>3.0</td>\n",
       "      <td>2.0</td>\n",
       "      <td>0.0</td>\n",
       "      <td>66.450000</td>\n",
       "      <td>4.196450</td>\n",
       "      <td>0</td>\n",
       "      <td>1</td>\n",
       "    </tr>\n",
       "    <tr>\n",
       "      <th>4</th>\n",
       "      <td>30003299</td>\n",
       "      <td>2169-08-22 01:51:00</td>\n",
       "      <td>2169-08-28 12:02:00</td>\n",
       "      <td>EMERGENCY ROOM</td>\n",
       "      <td>Other</td>\n",
       "      <td>ENGLISH</td>\n",
       "      <td>WHITE</td>\n",
       "      <td>SINGLE</td>\n",
       "      <td>M</td>\n",
       "      <td>26</td>\n",
       "      <td>...</td>\n",
       "      <td>0.0</td>\n",
       "      <td>NaN</td>\n",
       "      <td>NaN</td>\n",
       "      <td>0.0</td>\n",
       "      <td>12.0</td>\n",
       "      <td>15.0</td>\n",
       "      <td>154.183333</td>\n",
       "      <td>5.038142</td>\n",
       "      <td>1</td>\n",
       "      <td>1</td>\n",
       "    </tr>\n",
       "  </tbody>\n",
       "</table>\n",
       "<p>5 rows × 105 columns</p>\n",
       "</div>"
      ],
      "text/plain": [
       "    stay_id            starttime              endtime     admission_location  \\\n",
       "0  30000670  2182-04-14 07:45:00  2182-04-15 10:00:00         EMERGENCY ROOM   \n",
       "1  30000974  2119-06-21 19:30:00  2119-07-07 13:10:00         EMERGENCY ROOM   \n",
       "2  30001939  2151-04-06 16:55:00  2151-04-15 15:40:00         EMERGENCY ROOM   \n",
       "3  30002055  2171-09-26 14:28:00  2171-09-29 08:55:00  WALK-IN/SELF REFERRAL   \n",
       "4  30003299  2169-08-22 01:51:00  2169-08-28 12:02:00         EMERGENCY ROOM   \n",
       "\n",
       "  insurance language               ethnicity marital_status gender  age  ...  \\\n",
       "0  Medicare  ENGLISH  BLACK/AFRICAN AMERICAN       DIVORCED      M   69  ...   \n",
       "1  Medicare  ENGLISH                   WHITE         SINGLE      F   92  ...   \n",
       "2  Medicaid  ENGLISH                   WHITE         SINGLE      M   47  ...   \n",
       "3  Medicare  ENGLISH  BLACK/AFRICAN AMERICAN        MARRIED      M   69  ...   \n",
       "4     Other  ENGLISH                   WHITE         SINGLE      M   26  ...   \n",
       "\n",
       "   sodium_score  albumin_score  bilirubin_score  glucose_score  \\\n",
       "0           0.0            NaN              NaN            0.0   \n",
       "1           0.0            6.0              0.0            0.0   \n",
       "2           2.0           11.0              0.0            0.0   \n",
       "3           NaN            NaN              NaN            3.0   \n",
       "4           0.0            NaN              NaN            0.0   \n",
       "\n",
       "   acidbase_score  gcs_score    duration  log_duration  over72h  alive96h  \n",
       "0            12.0        0.0   26.250000      3.267666        0         1  \n",
       "1            12.0       13.0  377.666667      5.934012        1         1  \n",
       "2            12.0       48.0  214.750000      5.369475        1         1  \n",
       "3             2.0        0.0   66.450000      4.196450        0         1  \n",
       "4            12.0       15.0  154.183333      5.038142        1         1  \n",
       "\n",
       "[5 rows x 105 columns]"
      ]
     },
     "execution_count": 2,
     "metadata": {},
     "output_type": "execute_result"
    }
   ],
   "source": [
    "df = pd.read_csv(\"../data/mimic-ft98.csv\")\n",
    "print(df.shape)\n",
    "df.head()"
   ]
  },
  {
   "cell_type": "markdown",
   "metadata": {},
   "source": [
    "**Cluster by severity**"
   ]
  },
  {
   "cell_type": "code",
   "execution_count": 3,
   "metadata": {},
   "outputs": [
    {
     "name": "stdout",
     "output_type": "stream",
     "text": [
      "Using 24 severity scores...\n",
      "Fitting PCA...\n",
      "2    4350\n",
      "1    4297\n",
      "4    2084\n",
      "3    1921\n",
      "Name: cluster, dtype: int64\n"
     ]
    }
   ],
   "source": [
    "df, pca = utils.cluster_by_severity(df)"
   ]
  },
  {
   "cell_type": "markdown",
   "metadata": {},
   "source": [
    "**Only XLarge hospitals**"
   ]
  },
  {
   "cell_type": "code",
   "execution_count": null,
   "metadata": {
    "collapsed": true
   },
   "outputs": [],
   "source": [
    "df = df[df.numbedscategory==\"XL\"]\n",
    "df.shape"
   ]
  },
  {
   "cell_type": "markdown",
   "metadata": {},
   "source": [
    "**Single hospitals**"
   ]
  },
  {
   "cell_type": "code",
   "execution_count": null,
   "metadata": {
    "collapsed": true
   },
   "outputs": [],
   "source": [
    "hospid = df.hospitalid.value_counts().head(3).index"
   ]
  },
  {
   "cell_type": "code",
   "execution_count": null,
   "metadata": {
    "collapsed": true
   },
   "outputs": [],
   "source": [
    "df = df[df.hospitalid == hospid[2]]\n",
    "df.shape"
   ]
  },
  {
   "cell_type": "markdown",
   "metadata": {},
   "source": [
    "**Complete cases only**"
   ]
  },
  {
   "cell_type": "code",
   "execution_count": null,
   "metadata": {
    "collapsed": true,
    "scrolled": true
   },
   "outputs": [],
   "source": [
    "df.info()"
   ]
  },
  {
   "cell_type": "code",
   "execution_count": null,
   "metadata": {
    "collapsed": true,
    "scrolled": false
   },
   "outputs": [],
   "source": [
    "df.isna().sum(axis=0).sort_values(ascending=False).head(10)"
   ]
  },
  {
   "cell_type": "code",
   "execution_count": null,
   "metadata": {
    "collapsed": true
   },
   "outputs": [],
   "source": [
    "# df.drop(columns=['co2_total_max', 'co2_total_min', 'co2_total_avg'], inplace=True)\n",
    "# df.drop(columns=['albumin_score'], inplace=True)"
   ]
  },
  {
   "cell_type": "code",
   "execution_count": null,
   "metadata": {
    "collapsed": true
   },
   "outputs": [],
   "source": [
    "df.dropna(axis=0, how=\"any\", inplace=True)\n",
    "df.shape"
   ]
  },
  {
   "cell_type": "code",
   "execution_count": null,
   "metadata": {
    "collapsed": true
   },
   "outputs": [],
   "source": [
    "df.log_duration.hist();"
   ]
  },
  {
   "cell_type": "code",
   "execution_count": null,
   "metadata": {
    "collapsed": true
   },
   "outputs": [],
   "source": [
    "df.over72h.value_counts()"
   ]
  },
  {
   "cell_type": "markdown",
   "metadata": {},
   "source": [
    "**Extract records with associated CXR data**"
   ]
  },
  {
   "cell_type": "code",
   "execution_count": null,
   "metadata": {
    "collapsed": true
   },
   "outputs": [],
   "source": [
    "df_meta = pd.read_csv(\"../data/mimic-metadata.csv\")\n",
    "print(df_meta.shape)\n",
    "df_meta.head()"
   ]
  },
  {
   "cell_type": "code",
   "execution_count": null,
   "metadata": {
    "collapsed": true
   },
   "outputs": [],
   "source": [
    "# df = df[df.stay_id.isin(df_meta[df_meta.study_id.notna()].stay_id)].copy()\n",
    "# df.head()"
   ]
  },
  {
   "cell_type": "markdown",
   "metadata": {},
   "source": [
    "### Create a train/test split for EMR data\n",
    "\n",
    "<img src=\"../results/class distribution.jpeg\" alt=\"Groups\" style=\"width: 400px;\"/>"
   ]
  },
  {
   "cell_type": "code",
   "execution_count": 4,
   "metadata": {
    "collapsed": true
   },
   "outputs": [],
   "source": [
    "def get_train_test_split(df, strata):   \n",
    "    df_train, df_test = train_test_split(df, test_size=0.2, random_state=42, stratify=df[strata])\n",
    "    print(\"The training set contains %d records.\" % df_train.shape[0])\n",
    "    print()\n",
    "    print(\"Proportion of patients intubated over 72h:\")\n",
    "    print(df_train.over72h.value_counts() / df_train.shape[0])\n",
    "    print()\n",
    "    try:\n",
    "        print(\"Proportion of patients alive after 96h:\")\n",
    "        print(df_train.alive96h.value_counts() / df_train.shape[0])\n",
    "        print()\n",
    "    except:\n",
    "        print()\n",
    "    \n",
    "    print(\"The test set contains %d records.\" % df_test.shape[0])\n",
    "    print()\n",
    "    print(\"Proportion of patients intubated over 72h:\")\n",
    "    print(df_test.over72h.value_counts() / df_test.shape[0])\n",
    "    print()\n",
    "    try:\n",
    "        print(\"Proportion of patients alive after 96h:\")\n",
    "        print(df_test.alive96h.value_counts() / df_test.shape[0])\n",
    "        print()\n",
    "    except:\n",
    "        print()\n",
    "    return df_train, df_test"
   ]
  },
  {
   "cell_type": "code",
   "execution_count": 5,
   "metadata": {
    "collapsed": true
   },
   "outputs": [],
   "source": [
    "def split_data_S0(df, name):\n",
    "    \n",
    "    \"\"\"Classification strategy 0: simply split by prolonged ventilation\"\"\"\n",
    "    \n",
    "    print(\"Strategy 0\")\n",
    "    print()\n",
    "    df_train, df_test = get_train_test_split(df, \"over72h\")\n",
    "    print(\"%d samples in the final training set. \"% df_train.shape[0])\n",
    "    print(\"%d samples in the final test set. \"% df_test.shape[0])\n",
    "    print()\n",
    "\n",
    "    df_train.to_csv(\"../data/\" + name + \"-S0-train.csv\", index=False)\n",
    "    df_test.to_csv(\"../data/\" + name + \"-S0-test.csv\", index=False)\n",
    "    \n",
    "def split_data_S1(df, name):\n",
    "    \n",
    "    \"\"\"Classification strategy 1: exclude A and C, predict B vs D\"\"\"\n",
    "    \n",
    "    print(\"Strategy 1\")\n",
    "    print()\n",
    "    df_train, df_test = get_train_test_split(df[df.alive96h == 1], \"over72h\")\n",
    "    df_test = pd.concat([df_test, df[df.alive96h == 0]], axis=0)\n",
    "    print(\"%d samples in the final training set. \"% df_train.shape[0])\n",
    "    print(\"%d samples in the final test set. \"% df_test.shape[0])\n",
    "    print()\n",
    "\n",
    "    df_train.to_csv(\"../data/\" + name + \"-S1-train.csv\", index=False)\n",
    "    df_test.to_csv(\"../data/\" + name + \"-S1-test.csv\", index=False)\n",
    "\n",
    "\n",
    "def split_data_S2(df, name):\n",
    "    \n",
    "    \"\"\"Classification strategy 2: exclude A, predict B vs C+D\"\"\"\n",
    "    \n",
    "    print(\"Strategy 2\")\n",
    "    print()\n",
    "    df[\"strata\"] = df.over72h.astype(str) + df.alive96h.astype(str)\n",
    "    df_train, df_test = get_train_test_split(df[df.strata != \"00\"], \"strata\")\n",
    "    df_test = pd.concat([df_test, df[df.strata == \"00\"]], axis=0)\n",
    "    print(\"%d samples in the final training set. \"% df_train.shape[0])\n",
    "    print(\"%d samples in the final test set. \"% df_test.shape[0])\n",
    "    print()\n",
    "    \n",
    "    df_train.drop(columns='strata').to_csv(\"../data/\" + name + \"-S2-train.csv\", index=False)\n",
    "    df_test.drop(columns='strata').to_csv(\"../data/\" + name + \"-S2-test.csv\", index=False)\n",
    "    \n",
    "    \n",
    "def split_data_S3(df, name):\n",
    "    \n",
    "    \"\"\"Classification strategy 3: add group A to \"bad outcome\", predict B vs A+C+D\"\"\"\n",
    "    \n",
    "    print(\"Strategy 3\")\n",
    "    print()\n",
    "    df[\"strata\"] = df.over72h.astype(str) + df.alive96h.astype(str)\n",
    "    df[\"good_outcome\"] = np.where(df.strata == \"01\", 1, 0)\n",
    "    df_train, df_test = get_train_test_split(df, \"good_outcome\")\n",
    "    print(\"%d samples in the final training set. \"% df_train.shape[0])\n",
    "    print(\"%d samples in the final test set. \"% df_test.shape[0])\n",
    "    print()\n",
    "    \n",
    "    df_train.drop(columns='strata').to_csv(\"../data/\" + name + \"-S3-train.csv\", index=False)\n",
    "    df_test.drop(columns='strata').to_csv(\"../data/\" + name + \"-S3-test.csv\", index=False)\n",
    "    \n",
    "\n",
    "def split_data_S4(df, name):\n",
    "    \n",
    "    \"\"\"\n",
    "    Classification strategy 4: two-label classification\n",
    "    - Predict proonged ventilation: A+B vs C+D\n",
    "    - Predict survival: A+C vs B+D\n",
    "    \"\"\"\n",
    "    \n",
    "    print(\"Strategy 4\")\n",
    "    print()\n",
    "    df[\"strata\"] = df.over72h.astype(str) + df.alive96h.astype(str)\n",
    "    df_train, df_test = get_train_test_split(df, \"strata\")\n",
    "    print(\"%d samples in the final training set. \"% df_train.shape[0])\n",
    "    print(\"%d samples in the final test set. \"% df_test.shape[0])\n",
    "    print()\n",
    "    \n",
    "    df_train.drop(columns=['strata', 'good_outcome']).to_csv(\"../data/\" + name + \"-S4-train.csv\", index=False)\n",
    "    df_test.drop(columns=['strata', 'good_outcome']).to_csv(\"../data/\" + name + \"-S4-test.csv\", index=False)"
   ]
  },
  {
   "cell_type": "markdown",
   "metadata": {},
   "source": [
    "**Split data**"
   ]
  },
  {
   "cell_type": "code",
   "execution_count": 6,
   "metadata": {},
   "outputs": [
    {
     "name": "stdout",
     "output_type": "stream",
     "text": [
      "Strategy 0\n",
      "\n",
      "The training set contains 10121 records.\n",
      "\n",
      "Proportion of patients intubated over 72h:\n",
      "1    0.519711\n",
      "0    0.480289\n",
      "Name: over72h, dtype: float64\n",
      "\n",
      "Proportion of patients alive after 96h:\n",
      "1    0.908803\n",
      "0    0.091197\n",
      "Name: alive96h, dtype: float64\n",
      "\n",
      "The test set contains 2531 records.\n",
      "\n",
      "Proportion of patients intubated over 72h:\n",
      "1    0.519953\n",
      "0    0.480047\n",
      "Name: over72h, dtype: float64\n",
      "\n",
      "Proportion of patients alive after 96h:\n",
      "1    0.917819\n",
      "0    0.082181\n",
      "Name: alive96h, dtype: float64\n",
      "\n",
      "10121 samples in the final training set. \n",
      "2531 samples in the final test set. \n",
      "\n"
     ]
    }
   ],
   "source": [
    "split_data_S0(df, name=\"mimic-ft98-clustered\")"
   ]
  },
  {
   "cell_type": "code",
   "execution_count": null,
   "metadata": {
    "collapsed": true
   },
   "outputs": [],
   "source": [
    "split_data_S1(df, name=\"mimic-emr\")"
   ]
  },
  {
   "cell_type": "code",
   "execution_count": null,
   "metadata": {
    "collapsed": true
   },
   "outputs": [],
   "source": [
    "split_data_S2(df, name=\"mimic-emr\")"
   ]
  },
  {
   "cell_type": "code",
   "execution_count": null,
   "metadata": {
    "collapsed": true
   },
   "outputs": [],
   "source": [
    "split_data_S3(df, name=\"mimic-emr\")"
   ]
  },
  {
   "cell_type": "code",
   "execution_count": null,
   "metadata": {
    "collapsed": true
   },
   "outputs": [],
   "source": [
    "split_data_S4(df, name=\"mimic-emr\")"
   ]
  },
  {
   "cell_type": "markdown",
   "metadata": {},
   "source": [
    "___\n",
    "### Imputation"
   ]
  },
  {
   "cell_type": "code",
   "execution_count": null,
   "metadata": {
    "collapsed": true
   },
   "outputs": [],
   "source": [
    "df_train = pd.read_csv(\"../data/eicu-ft46-S0-train.csv\")\n",
    "df_train.drop(columns=[\"starttime\", \"endtime\"], inplace=True)\n",
    "\n",
    "label = \"log_duration\"\n",
    "\n",
    "print(df_train.shape)\n",
    "df_train.head()"
   ]
  },
  {
   "cell_type": "code",
   "execution_count": null,
   "metadata": {
    "collapsed": true
   },
   "outputs": [],
   "source": [
    "df_test = pd.read_csv(\"../data/eicu-ft46-S0-test.csv\")\n",
    "df_test.drop(columns=[\"starttime\", \"endtime\"], inplace=True)\n",
    "\n",
    "label = \"log_duration\"\n",
    "\n",
    "print(df_test.shape)\n",
    "df_test.head()"
   ]
  },
  {
   "cell_type": "code",
   "execution_count": null,
   "metadata": {
    "collapsed": true
   },
   "outputs": [],
   "source": [
    "features = ['ph_max', 'spo2_min',\n",
    "       'heart_rate_min', 'heart_rate_max', 'resp_rate_min', 'resp_rate_max',\n",
    "       'temp_min', 'temp_max', 'glucose_max', 'glucose_min', 'co2_total_max',\n",
    "       'co2_total_min', 'mbp_max', 'mbp_ni_min', 'apsiii', 'peep_max',\n",
    "       'peep_min', 'co2_total_avg', 'fio2_min', 'plateau_pressure_max',\n",
    "       'height', 'peep_avg', 'temp_avg', 'hr_score', 'mbp_score', 'temp_score',\n",
    "       'resp_rate_score', 'pao2_aado2_score', 'hematocrit_score', 'wbc_score',\n",
    "       'creatinine_score', 'uo_score', 'bun_score', 'sodium_score',\n",
    "       'albumin_score', 'bilirubin_score', 'glucose_score', 'acidbase_score',\n",
    "       'gcs_score', 'SOFA', 'respiration', 'coagulation', 'liver',\n",
    "       'cardiovascular', 'cns', 'renal']"
   ]
  },
  {
   "cell_type": "code",
   "execution_count": null,
   "metadata": {
    "collapsed": true
   },
   "outputs": [],
   "source": [
    "X_train, y_train = utils.get_X_and_y(df_train, features=features, label=label)\n",
    "print(X_train.shape, y_train.shape)\n",
    "\n",
    "X_test, y_test = utils.get_X_and_y(df_test, features=features, label=label)\n",
    "print(X_test.shape, y_test.shape)\n",
    "\n",
    "preprocessor = utils.define_preprocessor(X_train.columns)"
   ]
  },
  {
   "cell_type": "code",
   "execution_count": null,
   "metadata": {
    "collapsed": true
   },
   "outputs": [],
   "source": [
    "X_train_imp = preprocessor.transformers[0][1]['imputer'].fit_transform(X_train)\n",
    "X_test_imp = preprocessor.transformers[0][1]['imputer'].transform(X_test)"
   ]
  },
  {
   "cell_type": "code",
   "execution_count": null,
   "metadata": {
    "collapsed": true
   },
   "outputs": [],
   "source": [
    "pd.concat([df_train[[\"stay_id\", \"over72h\", \"duration\", \"log_duration\"]], \n",
    "                          pd.DataFrame(X_train_imp, columns=features)], \n",
    "                         axis=1).to_csv(\"../data/eicu-ft46-S0-train-imputed.csv\", index=False)\n",
    "\n",
    "pd.concat([df_test[[\"stay_id\", \"over72h\", \"duration\", \"log_duration\"]], \n",
    "                          pd.DataFrame(X_test_imp, columns=features)], \n",
    "                         axis=1).to_csv(\"../data/eicu-ft46-S0-test-imputed.csv\", index=False)"
   ]
  },
  {
   "cell_type": "markdown",
   "metadata": {},
   "source": [
    "___\n",
    "## Text data"
   ]
  },
  {
   "cell_type": "markdown",
   "metadata": {},
   "source": [
    "**Load data**"
   ]
  },
  {
   "cell_type": "code",
   "execution_count": null,
   "metadata": {
    "collapsed": true
   },
   "outputs": [],
   "source": [
    "df = pd.read_csv(\"../data/cxr-reports/mimic_cxr_sections.csv\", header=None, names=[\"study_id\", \"text\"])\n",
    "print(df.shape)\n",
    "df.head()"
   ]
  },
  {
   "cell_type": "code",
   "execution_count": null,
   "metadata": {
    "collapsed": true
   },
   "outputs": [],
   "source": [
    "df.study_id = df.study_id.apply(lambda x: int(x.split(\"s\")[1]))"
   ]
  },
  {
   "cell_type": "code",
   "execution_count": null,
   "metadata": {
    "collapsed": true
   },
   "outputs": [],
   "source": [
    "assert df.shape[0] == df_meta[df_meta.study_id.notna()].shape[0]"
   ]
  },
  {
   "cell_type": "markdown",
   "metadata": {},
   "source": [
    "**Merge with labels**"
   ]
  },
  {
   "cell_type": "code",
   "execution_count": null,
   "metadata": {
    "collapsed": true
   },
   "outputs": [],
   "source": [
    "df = df.merge(df_meta[[\"over72h\", \"alive96h\", \"study_id\"]], left_on=\"study_id\", right_on=\"study_id\")"
   ]
  },
  {
   "cell_type": "markdown",
   "metadata": {},
   "source": [
    "**Split data**"
   ]
  },
  {
   "cell_type": "code",
   "execution_count": null,
   "metadata": {
    "collapsed": true
   },
   "outputs": [],
   "source": [
    "split_data_S1(df, name=\"reports\")"
   ]
  },
  {
   "cell_type": "code",
   "execution_count": null,
   "metadata": {
    "collapsed": true
   },
   "outputs": [],
   "source": [
    "split_data_S2(df, name=\"reports\")"
   ]
  },
  {
   "cell_type": "code",
   "execution_count": null,
   "metadata": {
    "collapsed": true
   },
   "outputs": [],
   "source": [
    "split_data_S3(df, name=\"reports\")"
   ]
  },
  {
   "cell_type": "code",
   "execution_count": null,
   "metadata": {
    "collapsed": true
   },
   "outputs": [],
   "source": [
    "split_data_S4(df, name=\"reports\")"
   ]
  }
 ],
 "metadata": {
  "kernelspec": {
   "display_name": "Python 3 (ipykernel)",
   "language": "python",
   "name": "python3"
  },
  "language_info": {
   "codemirror_mode": {
    "name": "ipython",
    "version": 3
   },
   "file_extension": ".py",
   "mimetype": "text/x-python",
   "name": "python",
   "nbconvert_exporter": "python",
   "pygments_lexer": "ipython3",
   "version": "3.8.10"
  },
  "toc": {
   "base_numbering": 1,
   "nav_menu": {},
   "number_sections": false,
   "sideBar": true,
   "skip_h1_title": false,
   "title_cell": "Table of Contents",
   "title_sidebar": "Contents",
   "toc_cell": false,
   "toc_position": {},
   "toc_section_display": true,
   "toc_window_display": false
  }
 },
 "nbformat": 4,
 "nbformat_minor": 4
}
