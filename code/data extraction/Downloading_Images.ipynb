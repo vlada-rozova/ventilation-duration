{
 "cells": [
  {
   "cell_type": "markdown",
   "metadata": {},
   "source": [
    "## Downloding mimic-cxr-jpg\n",
    "1) Match the csv files to extract the path to wanted images \n",
    "\n",
    "2) If there are more than 1 cxr for any study_id only use the first one\n",
    "\n",
    "3) Create a text file of executable codes to run on command line\n",
    "\n",
    "4) run the text file and download all the images "
   ]
  },
  {
   "cell_type": "code",
   "execution_count": 1,
   "metadata": {},
   "outputs": [
    {
     "name": "stdout",
     "output_type": "stream",
     "text": [
      "(377110, 4)\n",
      "(4244, 3)\n"
     ]
    }
   ],
   "source": [
    "import pandas as pd\n",
    "import numpy as np\n",
    "\n",
    "df_path = pd.read_csv(\"../data/cxr-record-list.csv\")\n",
    "df_img = pd.read_csv(\"../data/cxr-image-list.csv\")\n",
    "print(df_path.shape)\n",
    "print(df_img.shape)"
   ]
  },
  {
   "cell_type": "code",
   "execution_count": 2,
   "metadata": {},
   "outputs": [
    {
     "name": "stdout",
     "output_type": "stream",
     "text": [
      "(3704, 3) (3704,)\n"
     ]
    }
   ],
   "source": [
    "#remove images if they belong to lower bodey\n",
    "df_img = df_img.loc[df_img['study_id'] != df_img['study_id'].shift()] \n",
    "target_dicom_id = df_img['dicom_id']\n",
    "print(df_img.shape,target_dicom_id.shape)"
   ]
  },
  {
   "cell_type": "code",
   "execution_count": 3,
   "metadata": {},
   "outputs": [
    {
     "data": {
      "text/plain": [
       "0       54c2ed5c-f4fbc20d-3bf4c783-283c3878-e9eb320d\n",
       "1       c1981851-eee51654-80b71d01-2ee65952-4c70c720\n",
       "3       828dd9de-ee245eb4-e8513715-9218b1f9-081a1742\n",
       "4       5b05c3da-4f8f9c06-7b8c4faf-4c12d978-6cb22b83\n",
       "5       a7b42563-594d6a7c-8d7c5b2e-1b7080c9-2e855344\n",
       "                            ...                     \n",
       "4236    249d3023-2a6c5d7c-035f843d-207c6b06-6e0d9333\n",
       "4237    3d12d866-7fc53c50-e5f9fb8e-4734dce6-9ef1b63a\n",
       "4239    e1f00f37-adbf3223-d152cc85-8691579f-160da068\n",
       "4241    c399ec76-68ca5c61-f6901d6c-73446826-3e1d0300\n",
       "4243    b3de193f-980afff8-5f90661c-819d6823-6757f24d\n",
       "Name: dicom_id, Length: 3704, dtype: object"
      ]
     },
     "execution_count": 3,
     "metadata": {},
     "output_type": "execute_result"
    }
   ],
   "source": [
    "target_dicom_id"
   ]
  },
  {
   "cell_type": "code",
   "execution_count": 4,
   "metadata": {},
   "outputs": [
    {
     "name": "stdout",
     "output_type": "stream",
     "text": [
      "['files/p10/p10002428/s52460896/54c2ed5c-f4fbc20d-3bf4c783-283c3878-e9eb320d.dcm'\n",
      " 'files/p10/p10003400/s50100991/c1981851-eee51654-80b71d01-2ee65952-4c70c720.dcm'\n",
      " 'files/p10/p10003400/s52941169/828dd9de-ee245eb4-e8513715-9218b1f9-081a1742.dcm'\n",
      " ...\n",
      " 'files/p19/p19997293/s58520294/e1f00f37-adbf3223-d152cc85-8691579f-160da068.dcm'\n",
      " 'files/p19/p19997293/s58701953/c399ec76-68ca5c61-f6901d6c-73446826-3e1d0300.dcm'\n",
      " 'files/p19/p19998843/s55683952/b3de193f-980afff8-5f90661c-819d6823-6757f24d.dcm']\n"
     ]
    }
   ],
   "source": [
    "#Get the path of the images in the df_img based on dicom id\n",
    "target_path_indx = df_path['path'][(df_path['dicom_id'].isin(df_img['dicom_id'])==True)].to_numpy()\n",
    "print(target_path_indx)"
   ]
  },
  {
   "cell_type": "code",
   "execution_count": 5,
   "metadata": {
    "collapsed": true
   },
   "outputs": [],
   "source": [
    "#Please remember to change username and password to your username and password\n",
    "username = 'username'\n",
    "password = 'password'\n",
    "comment_ = 'wget -r -N -c -np -R \"index.html*\" --user ' + username + ' --http-password='+password+' https://physionet.org/files/mimic-cxr-jpg/2.0.0/'\n",
    "myfile = open('download_jpg.txt', 'w')\n",
    "for cntr in range (3):\n",
    "    len_ = len(target_path_indx[cntr])\n",
    "    path_jpg = target_path_indx[cntr][0:(len_-3)] \n",
    "    var = str( comment_ + path_jpg +'jpg')\n",
    "    myfile.write(\"%s\\n\" % var)\n",
    "myfile.close()  "
   ]
  }
 ],
 "metadata": {
  "kernelspec": {
   "display_name": "Python 3",
   "language": "python",
   "name": "python3"
  },
  "language_info": {
   "codemirror_mode": {
    "name": "ipython",
    "version": 3
   },
   "file_extension": ".py",
   "mimetype": "text/x-python",
   "name": "python",
   "nbconvert_exporter": "python",
   "pygments_lexer": "ipython3",
   "version": "3.6.8"
  },
  "toc": {
   "base_numbering": 1,
   "nav_menu": {},
   "number_sections": false,
   "sideBar": true,
   "skip_h1_title": false,
   "title_cell": "Table of Contents",
   "title_sidebar": "Contents",
   "toc_cell": false,
   "toc_position": {},
   "toc_section_display": true,
   "toc_window_display": false
  }
 },
 "nbformat": 4,
 "nbformat_minor": 4
}
