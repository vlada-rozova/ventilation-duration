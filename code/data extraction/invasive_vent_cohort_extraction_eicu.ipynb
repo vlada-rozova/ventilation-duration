{
 "cells": [
  {
   "cell_type": "markdown",
   "metadata": {
    "id": "rmgU4zmxCMA1"
   },
   "source": [
    "# Setup"
   ]
  },
  {
   "cell_type": "code",
   "execution_count": 3,
   "metadata": {
    "id": "e9pPm3h9CMBA"
   },
   "outputs": [],
   "source": [
    "import os \n",
    "import pandas as pd\n",
    "\n",
    "project_id=\"upbeat-legacy-282508\" # need to specify accordingly\n",
    "os.environ[\"GOOGLE_CLOUD_PROJECT\"]=project_id"
   ]
  },
  {
   "cell_type": "code",
   "execution_count": 4,
   "metadata": {
    "colab": {
     "base_uri": "https://localhost:8080/"
    },
    "id": "1YBbN6kMCMBB",
    "outputId": "08a02131-023a-4601-9dd3-15d16fab146c"
   },
   "outputs": [
    {
     "name": "stdout",
     "output_type": "stream",
     "text": [
      "Authenticated\n"
     ]
    }
   ],
   "source": [
    "from google.colab import auth\n",
    "auth.authenticate_user()\n",
    "print('Authenticated')"
   ]
  },
  {
   "cell_type": "code",
   "execution_count": 5,
   "metadata": {
    "colab": {
     "base_uri": "https://localhost:8080/",
     "height": 478
    },
    "id": "-3R2F5JzCMBB",
    "outputId": "741a8904-dd94-4837-e408-a60489f49f5b"
   },
   "outputs": [
    {
     "name": "stdout",
     "output_type": "stream",
     "text": [
      "10 rows\n",
      "   subject_id   hadm_id   stay_id\n",
      "0    10122297  25825366  36349608\n",
      "1    17168310  21560534  33376903\n",
      "2    15703353  29272306  35111434\n",
      "3    10308232  21297383  30153687\n",
      "4    13307171  21128752  38043905\n"
     ]
    },
    {
     "data": {
      "text/html": [
       "<div>\n",
       "<style scoped>\n",
       "    .dataframe tbody tr th:only-of-type {\n",
       "        vertical-align: middle;\n",
       "    }\n",
       "\n",
       "    .dataframe tbody tr th {\n",
       "        vertical-align: top;\n",
       "    }\n",
       "\n",
       "    .dataframe thead th {\n",
       "        text-align: right;\n",
       "    }\n",
       "</style>\n",
       "<table border=\"1\" class=\"dataframe\">\n",
       "  <thead>\n",
       "    <tr style=\"text-align: right;\">\n",
       "      <th></th>\n",
       "      <th>subject_id</th>\n",
       "      <th>hadm_id</th>\n",
       "      <th>stay_id</th>\n",
       "    </tr>\n",
       "  </thead>\n",
       "  <tbody>\n",
       "    <tr>\n",
       "      <th>0</th>\n",
       "      <td>10122297</td>\n",
       "      <td>25825366</td>\n",
       "      <td>36349608</td>\n",
       "    </tr>\n",
       "    <tr>\n",
       "      <th>1</th>\n",
       "      <td>17168310</td>\n",
       "      <td>21560534</td>\n",
       "      <td>33376903</td>\n",
       "    </tr>\n",
       "    <tr>\n",
       "      <th>2</th>\n",
       "      <td>15703353</td>\n",
       "      <td>29272306</td>\n",
       "      <td>35111434</td>\n",
       "    </tr>\n",
       "    <tr>\n",
       "      <th>3</th>\n",
       "      <td>10308232</td>\n",
       "      <td>21297383</td>\n",
       "      <td>30153687</td>\n",
       "    </tr>\n",
       "    <tr>\n",
       "      <th>4</th>\n",
       "      <td>13307171</td>\n",
       "      <td>21128752</td>\n",
       "      <td>38043905</td>\n",
       "    </tr>\n",
       "    <tr>\n",
       "      <th>5</th>\n",
       "      <td>13386137</td>\n",
       "      <td>25196108</td>\n",
       "      <td>35892179</td>\n",
       "    </tr>\n",
       "    <tr>\n",
       "      <th>6</th>\n",
       "      <td>15671682</td>\n",
       "      <td>29195317</td>\n",
       "      <td>32077948</td>\n",
       "    </tr>\n",
       "    <tr>\n",
       "      <th>7</th>\n",
       "      <td>11960199</td>\n",
       "      <td>27343339</td>\n",
       "      <td>32798313</td>\n",
       "    </tr>\n",
       "    <tr>\n",
       "      <th>8</th>\n",
       "      <td>19612002</td>\n",
       "      <td>24483791</td>\n",
       "      <td>39073700</td>\n",
       "    </tr>\n",
       "    <tr>\n",
       "      <th>9</th>\n",
       "      <td>18275181</td>\n",
       "      <td>28133399</td>\n",
       "      <td>35881435</td>\n",
       "    </tr>\n",
       "  </tbody>\n",
       "</table>\n",
       "</div>"
      ],
      "text/plain": [
       "   subject_id   hadm_id   stay_id\n",
       "0    10122297  25825366  36349608\n",
       "1    17168310  21560534  33376903\n",
       "2    15703353  29272306  35111434\n",
       "3    10308232  21297383  30153687\n",
       "4    13307171  21128752  38043905\n",
       "5    13386137  25196108  35892179\n",
       "6    15671682  29195317  32077948\n",
       "7    11960199  27343339  32798313\n",
       "8    19612002  24483791  39073700\n",
       "9    18275181  28133399  35881435"
      ]
     },
     "execution_count": 5,
     "metadata": {
      "tags": []
     },
     "output_type": "execute_result"
    }
   ],
   "source": [
    "def run_query(query):\n",
    "    df = pd.io.gbq.read_gbq(query, project_id=project_id, verbose=False, configuration={'query':{'useLegacySql': False}})\n",
    "    print(len(df), 'rows')\n",
    "    print(df.head())\n",
    "    return df\n",
    "\n",
    "# an example\n",
    "df = run_query('''\n",
    "SELECT\n",
    "  subject_id,\n",
    "  hadm_id,\n",
    "  stay_id\n",
    "FROM\n",
    "  `physionet-data.mimic_icu.icustays`\n",
    "LIMIT 10\n",
    "''')\n",
    "df"
   ]
  },
  {
   "cell_type": "markdown",
   "metadata": {
    "id": "n3hk51gVCMBB"
   },
   "source": [
    "# Cohort extraction"
   ]
  },
  {
   "cell_type": "markdown",
   "metadata": {
    "id": "zEdXX4M_CMBC"
   },
   "source": [
    "The cohort extraction in eICU is more complicated than mimiv-iv as eICU does not provide explicitly an event on invasive mechanical ventilation. Furthermore, all events in eICU have only a chart time instead of duration, making it challenging to decide when a continuous event actually ends. So there are two main tasks to tackle in order to construct the prolonged MV cohort with eICU. First, identify charted events/items that indicate invasive MV; and second, decide start and end time of the MV. \n",
    "\n",
    "Below is the SQL modified based on https://github.com/nus-mornin-lab/oxygenation_kc/blob/master/data-extraction/eICU/eicu_oxygen_therapy.sql to address the two tasks and extract the eICU cohort. Again, only first ventilation in an ICU with duration longer than 24h is kept, with an over-72h flag."
   ]
  },
  {
   "cell_type": "code",
   "execution_count": 4,
   "metadata": {
    "id": "sNI-yvmACMBC"
   },
   "outputs": [],
   "source": [
    "sql_vent_cohort = '''\n",
    "\n",
    "WITH respchart AS (\n",
    "    SELECT *\n",
    "    FROM `physionet-data.eicu_crd.respiratorycharting`\n",
    ")\n",
    "\n",
    ", nursechart AS (\n",
    "    SELECT *\n",
    "    FROM `physionet-data.eicu_crd.nursecharting`\n",
    ")\n",
    "\n",
    ", pat AS (\n",
    "    SELECT *\n",
    "    FROM `physionet-data.eicu_crd.patient`\n",
    ")\n",
    "\n",
    "-- paterns modified based on \n",
    "-- https://github.com/nus-mornin-lab/oxygenation_kc/blob/master/data-extraction/eICU/eicu_oxygen_therapy.sql\n",
    "\n",
    "-- The categories are invasive ventilation,\n",
    "-- noninvasive ventilation, and either/or.\n",
    ", ventsettings0 AS (\n",
    "    SELECT patientunitstayid AS icustay_id\n",
    "        , charttime\n",
    "        , CASE\n",
    "\n",
    "            -- Invasive ventilation\n",
    "            WHEN\n",
    "                string IN (\n",
    "                    'plateau pressure',\n",
    "                    'postion at lip',\n",
    "                    'position at lip',\n",
    "                    'pressure control'\n",
    "                )\n",
    "                OR string LIKE '%set vt%'\n",
    "                OR string LIKE '%sputum%'\n",
    "                OR string LIKE '%rsbi%'\n",
    "                OR string LIKE '%tube%'\n",
    "                OR string LIKE '%ett%'\n",
    "                OR string LIKE '%endotracheal%'\n",
    "                OR string LIKE '%tracheal suctioning%'\n",
    "                OR string LIKE '%tracheostomy%'\n",
    "                OR string LIKE '%reintubation%' # re?\n",
    "                OR string LIKE '%intubation%' # remove re?\n",
    "                OR string LIKE '%assist controlled%'\n",
    "                OR string LIKE '%volume controlled%'\n",
    "                OR string LIKE '%pressure controlled%'\n",
    "                OR string LIKE '%trach collar%'\n",
    "            THEN 0\n",
    "\n",
    "            -- Noninvasive ventilation\n",
    "            WHEN\n",
    "                string IN (\n",
    "                    'bi-pap',\n",
    "                    'ambubag'\n",
    "                )\n",
    "                OR string LIKE '%ipap%'\n",
    "                OR string LIKE '%niv%'\n",
    "                OR string LIKE '%epap%'\n",
    "                OR string LIKE '%mask leak%'\n",
    "                OR string LIKE '%volume assured%'\n",
    "                OR string LIKE '%non-invasive ventilation%'\n",
    "                OR string LIKE '%cpap%'\n",
    "            THEN 1\n",
    "\n",
    "            -- Either invasive or noninvasive ventilation:\n",
    "            WHEN\n",
    "                string IN (\n",
    "                    'flowtrigger',\n",
    "                    'peep',\n",
    "                    'tv/kg ibw',\n",
    "                    'mean airway pressure',\n",
    "                    'peak insp. pressure',\n",
    "                    'exhaled mv',\n",
    "                    'exhaled tv (machine)',\n",
    "                    'exhaled tv (patient)',\n",
    "                    'flow sensitivity',\n",
    "                    'peak flow',\n",
    "                    'f total',\n",
    "                    'pressure to trigger ps',\n",
    "                    'adult con setting set rr',\n",
    "                    'adult con setting set vt',\n",
    "                    'vti',\n",
    "                    'exhaled vt',\n",
    "                    'adult con alarms hi press alarm',\n",
    "                    'mve',\n",
    "                    'respiratory phase',\n",
    "                    'inspiratory pressure, set',\n",
    "                    'a1: high exhaled vt',\n",
    "                    'set fraction of inspired oxygen (fio2)',\n",
    "                    'insp flow (l/min)',\n",
    "                    'adult con setting spont exp vt',\n",
    "                    'spont tv',\n",
    "                    'pulse ox results vt',\n",
    "                    'vt spontaneous (ml)',\n",
    "                    'peak pressure',\n",
    "                    'ltv1200',\n",
    "                    'tc'\n",
    "                )\n",
    "                OR (\n",
    "                    string LIKE '%vent%'\n",
    "                    AND NOT string LIKE '%hyperventilat%'\n",
    "                )\n",
    "                OR string LIKE '%tidal%'\n",
    "                OR string LIKE '%flow rate%'\n",
    "                OR string LIKE '%minute volume%'\n",
    "                OR string LIKE '%leak%'\n",
    "                OR string LIKE '%pressure support%'\n",
    "                OR string LIKE '%peep%'\n",
    "                OR string LIKE '%tidal volume%'\n",
    "            THEN 2\n",
    "\n",
    "            ELSE NULL\n",
    "\n",
    "        END AS vent_type\n",
    "        , activeUponDischarge\n",
    "    FROM (\n",
    "\n",
    "        SELECT patientunitstayid\n",
    "            , nursingChartOffset AS charttime\n",
    "            , LOWER(nursingchartvalue) AS string\n",
    "            , NULL AS activeUponDischarge\n",
    "        FROM nursechart\n",
    "\n",
    "        UNION ALL\n",
    "\n",
    "        SELECT patientunitstayid\n",
    "            , respchartoffset AS charttime\n",
    "            , LOWER(respchartvaluelabel) AS string\n",
    "            , NULL AS activeUponDischarge\n",
    "        FROM respchart\n",
    "\n",
    "        UNION ALL\n",
    "\n",
    "        -- Oxygen device from respchart\n",
    "        SELECT patientunitstayid\n",
    "            , respchartoffset AS charttime\n",
    "            , LOWER(respchartvalue) AS string\n",
    "            , NULL AS activeUponDischarge\n",
    "        FROM respchart\n",
    "        WHERE LOWER(respchartvaluelabel) IN (\n",
    "            'o2 device',\n",
    "            'respiratory device',\n",
    "            'ventilator type',\n",
    "            'oxygen delivery method'\n",
    "        )\n",
    "\n",
    "        UNION ALL\n",
    "\n",
    "        -- The treatment table also contains info on oxygen therapy.\n",
    "        SELECT patientunitstayid\n",
    "            , treatmentoffset AS charttime\n",
    "            , LOWER(treatmentstring) AS string\n",
    "            , activeUponDischarge\n",
    "        FROM `physionet-data.eicu_crd.treatment`\n",
    "    )\n",
    "    WHERE charttime >= -60\n",
    "\n",
    ")\n",
    "-- \n",
    "-- Ensure charttime is unique\n",
    ", ventsettings AS (\n",
    "    SELECT icustay_id\n",
    "        , charttime\n",
    "        -- , MIN(vent_type) AS vent_type\n",
    "        , vent_type\n",
    "        , MAX(activeUponDischarge) AS activeUponDischarge\n",
    "    FROM ventsettings0\n",
    "    WHERE vent_type IS NOT NULL\n",
    "    GROUP BY icustay_id, charttime, vent_type\n",
    "    order by icustay_id, charttime, vent_type\n",
    ")\n",
    "\n",
    "\n",
    ", vd0 as\n",
    "(\n",
    "  select\n",
    "    *\n",
    "    -- this carries over the previous charttime which had an event\n",
    "    , LAG(CHARTTIME, 1) OVER (partition by icustay_id order by charttime)\n",
    "    as charttime_lag\n",
    "    -- similarly, this is one for vent_type, to later identify first vent_type=0\n",
    "    , LAG(vent_type, 1) OVER (partition by icustay_id order by charttime)\n",
    "    as vent_type_lag\n",
    "  from ventsettings\n",
    ")\n",
    ", vd1 as\n",
    "(\n",
    "  select\n",
    "      icustay_id\n",
    "      , charttime\n",
    "      , vent_type\n",
    "      , vent_type_lag\n",
    "      , activeUponDischarge\n",
    "    -- If the time since the last oxygen therapy event is more than 24 hours,\n",
    "    -- we consider that ventilation had ended in between.\n",
    "    -- That is, the next ventilation record corresponds to a new ventilation session.\n",
    "      , CASE\n",
    "        WHEN charttime - charttime_lag > 24*60 THEN 1\n",
    "        WHEN charttime_lag IS NULL THEN 1 -- No lag can be computed for the very first record\n",
    "        ELSE 0\n",
    "      END AS newvent\n",
    "      \n",
    "  -- use the staging table with only oxygen therapy records from chart events\n",
    "  FROM vd0\n",
    ")\n",
    "-- select * from vd1 # 3677741 rows\n",
    ", vd2 as\n",
    "(\n",
    "  select vd1.*\n",
    "  -- create a cumulative sum of the instances of new ventilation\n",
    "  -- this results in a monotonic integer assigned to each instance of ventilation\n",
    "  , SUM( newvent )\n",
    "      OVER ( partition by icustay_id order by charttime )\n",
    "    as ventnum\n",
    "  from vd1\n",
    ")\n",
    "\n",
    "-- now we convert the charttime of the ventilator setting into durations\n",
    "-- here we focus on invasive ventilation, which has vent_type=0\n",
    "-- meanwhile, chartevents with vent_type=2 can be either invasive or non-invasive ventilation\n",
    "-- so here we pick the stays with an invasive chart event as long as vent_type=0 is in the stay\n",
    "-- and pick the earliest charttime (equals either 0 or 2) as the beginning time \n",
    "-- and find the end time as following\n",
    ",vd3 AS (\n",
    "  select icustay_id, charttime, vent_type, ventnum, activeUponDischarge\n",
    "      , CASE\n",
    "        WHEN vent_type - vent_type_lag = -2 THEN 0 #'non2in'\n",
    "        WHEN vent_type - vent_type_lag = 2 THEN 1 #'in2non'\n",
    "        WHEN vent_type - vent_type_lag = 0 THEN 2 #'non2non'\n",
    "        WHEN vent_type_lag IS NULL THEN 2 #'non2non' -- No lag can be computed for the very first record\n",
    "        ELSE 3\n",
    "      END AS vent_type_transit\n",
    "  from vd2\n",
    "  where (vent_type=0) or (vent_type=2)\n",
    ")\n",
    "\n",
    "\n",
    "\n",
    ", vd_endtime AS \n",
    "(\n",
    "    SELECT icustay_id\n",
    "        , ventnum\n",
    "        , CASE \n",
    "            WHEN (\n",
    "                MAX(activeUponDischarge)\n",
    "                -- vent_end cannot be later than the unit discharge time.\n",
    "                -- However, unitdischargeoffset often seems too low.\n",
    "                -- So, we only use it if it yields and extension of the\n",
    "                -- ventilation time from ventsettings.\n",
    "                AND MAX(charttime)+60 < MAX(pat.unitdischargeoffset)\n",
    "\n",
    "            ) THEN MAX(pat.unitdischargeoffset)\n",
    "\n",
    "            -- End time is currently a charting time\n",
    "            -- Since these are usually recorded hourly, ventilation is actually longer.\n",
    "            -- We therefore add 60 minutes to the last time.\n",
    "            ELSE MAX(charttime)+60\n",
    "        END AS vent_end\n",
    "    FROM vd3\n",
    "        LEFT JOIN pat \n",
    "        ON vd3.icustay_id = pat.patientunitstayid\n",
    "    GROUP BY icustay_id, ventnum\n",
    ")\n",
    ", vd_starttime AS\n",
    "(\n",
    "    SELECT icustay_id\n",
    "        , ventnum\n",
    "        , MIN(charttime) AS vent_start\n",
    "    FROM vd3\n",
    "    WHERE vent_type_transit = 0 # 116765 final 22372\n",
    "    # otherwise final count is 40749 (ventnum=1 and dur>24 and start>=0)\n",
    "    GROUP BY icustay_id, ventnum\n",
    ")\n",
    ", vd_final AS \n",
    "(\n",
    "    select e.icustay_id, e.ventnum, s.vent_start, e.vent_end\n",
    "    from vd_endtime e\n",
    "    left join vd_starttime s on e.icustay_id = s.icustay_id and e.ventnum = s.ventnum\n",
    ")\n",
    ", vd_dur AS\n",
    "(\n",
    "    select *\n",
    "        , (vent_end - vent_start) / 60 AS vent_duration\n",
    "    from vd_final\n",
    "    order by icustay_id \n",
    ")\n",
    "select icustay_id patientunitstayid, vent_start, vent_end, vent_duration\n",
    ", case \n",
    "    when vent_duration > 72 then 1\n",
    "    else 0\n",
    "  end over72h\n",
    "from vd_dur \n",
    "where ventnum=1 and vent_duration>=24 and vent_start>=0\n",
    "\n",
    "\n",
    "'''"
   ]
  },
  {
   "cell_type": "code",
   "execution_count": 16,
   "metadata": {
    "id": "FulrTqVVOjUg"
   },
   "outputs": [],
   "source": [
    "# create a view\n",
    "dataset_id = 'default' # change accordingly\n",
    "view_id = f\"{project_id}.{dataset_id}.vent_cohort_eicu_view\""
   ]
  },
  {
   "cell_type": "code",
   "execution_count": 5,
   "metadata": {
    "colab": {
     "base_uri": "https://localhost:8080/"
    },
    "id": "27XVsivzCMBG",
    "outputId": "853c0b7b-5d4d-4899-9a3b-7466c17e997d"
   },
   "outputs": [
    {
     "name": "stdout",
     "output_type": "stream",
     "text": [
      "Created view\n"
     ]
    }
   ],
   "source": [
    "\n",
    "\n",
    "from google.cloud import bigquery\n",
    "\n",
    "client = bigquery.Client()\n",
    "\n",
    "view = bigquery.Table(view_id)\n",
    "view.view_query = sql_vent_cohort\n",
    "\n",
    "view = client.create_table(view)\n",
    "print('Created view')"
   ]
  },
  {
   "cell_type": "markdown",
   "metadata": {
    "id": "ETJsxU-cCMBL"
   },
   "source": [
    "# Feature extraction"
   ]
  },
  {
   "cell_type": "markdown",
   "metadata": {
    "id": "14OUQcZkCMBM"
   },
   "source": [
    "9 features: hr min/max, resp min/max, temp min/max, peep max, ph max, spo2 min"
   ]
  },
  {
   "cell_type": "code",
   "execution_count": 17,
   "metadata": {
    "id": "VRhwEfCfCMBM"
   },
   "outputs": [],
   "source": [
    "sql_features = f'''\n",
    "with bg_ft as (\n",
    "    SELECT \n",
    "    v.patientunitstayid, \n",
    "    pH #, peep\n",
    "    FROM `{view_id}` v\n",
    "    left join `physionet-data.eicu_crd_derived.pivoted_bg` bg\n",
    "    on v.patientunitstayid=bg.patientunitstayid\n",
    "    where bg.chartoffset <= v.vent_end and bg.chartoffset >= v.vent_start\n",
    ")\n",
    "\n",
    ", vs_ft as (\n",
    "    SELECT \n",
    "    v.patientunitstayid, \n",
    "    heartrate, temperature, respiratoryrate, spo2\n",
    "    FROM `{view_id}` v\n",
    "    left join `physionet-data.eicu_crd_derived.pivoted_vital` vital\n",
    "    on v.patientunitstayid = vital.patientunitstayid\n",
    "    where vital.chartoffset <= v.vent_end and vital.chartoffset >= v.vent_start\n",
    ")\n",
    "select \n",
    "v.*\n",
    ",max(pH) ph_max\n",
    ", min(spo2) spo2_min\n",
    "\n",
    ",min(heartrate) hr_min\n",
    ",max(heartrate) hr_max\n",
    ",min(respiratoryrate) resp_min\n",
    ",max(respiratoryrate) resp_max\n",
    ",min(temperature) temp_min \n",
    ",max(temperature) temp_max\n",
    "\n",
    "from `{view_id}` v\n",
    "left join bg_ft b on b.patientunitstayid=v.patientunitstayid\n",
    "left join vs_ft s on s.patientunitstayid=v.patientunitstayid\n",
    "group by patientunitstayid, vent_start, vent_end, vent_duration, over72h\n",
    "\n",
    "'''"
   ]
  },
  {
   "cell_type": "code",
   "execution_count": 29,
   "metadata": {
    "id": "1xMs4rLBMXUm"
   },
   "outputs": [],
   "source": [
    "sql_features2 = f'''\n",
    "with \n",
    "resp as (\n",
    "SELECT patientunitstayid,\n",
    "respchartoffset\n",
    ",lower(respchartvaluelabel) label\n",
    ",respchartvalue\n",
    "FROM `physionet-data.eicu_crd.respiratorycharting` \n",
    ")\n",
    ", peep_tmp as (\n",
    "select \n",
    "patientunitstayid\n",
    ",respchartoffset chartoffset\n",
    ",respchartvalue peep\n",
    "from resp\n",
    "where label like 'peep'\n",
    ")\n",
    ", peep_ft1 as (\n",
    "  select \n",
    "  v.patientunitstayid, safe_cast(peep as float64) peep\n",
    "  from `{view_id}` v\n",
    "  left join peep_tmp p on v.patientunitstayid=p.patientunitstayid\n",
    "  where p.chartoffset <= v.vent_end and p.chartoffset >= v.vent_start and safe_cast(peep as float64) < 100\n",
    ")\n",
    ", peep_ft2 as (\n",
    "    SELECT \n",
    "    v.patientunitstayid, peep\n",
    "    FROM `{view_id}` v\n",
    "    left join `physionet-data.eicu_crd_derived.pivoted_bg` bg\n",
    "    on v.patientunitstayid=bg.patientunitstayid\n",
    "    where bg.chartoffset <= v.vent_end and bg.chartoffset >= v.vent_start\n",
    ")\n",
    ", peep_union as (\n",
    "  select * from peep_ft1 \n",
    "  \n",
    "  union all\n",
    "\n",
    "  select * from peep_ft2\n",
    ")\n",
    "\n",
    "select \n",
    "v.*\n",
    ", max(peep) peep_max\n",
    "\n",
    "from `{view_id}` v\n",
    "left join peep_union p on p.patientunitstayid=v.patientunitstayid\n",
    "group by patientunitstayid, vent_start, vent_end, vent_duration, over72h\n",
    "\n",
    "'''"
   ]
  },
  {
   "cell_type": "code",
   "execution_count": 19,
   "metadata": {
    "colab": {
     "base_uri": "https://localhost:8080/"
    },
    "id": "uVAvvhGENK0x",
    "outputId": "6b5a1fd3-7481-42f1-cc10-d853f683944b"
   },
   "outputs": [
    {
     "name": "stdout",
     "output_type": "stream",
     "text": [
      "22326 rows\n",
      "   patientunitstayid  vent_start  vent_end  ...  resp_max  temp_min  temp_max\n",
      "0            3072790          18      1804  ...      16.0      35.7      36.6\n",
      "1            2767867          24      3204  ...      17.0      37.9      37.9\n",
      "2            3176933         121      2405  ...      17.0      35.6      37.8\n",
      "3             271620         141      4158  ...      14.0      36.2      37.5\n",
      "4            3183892         222      9121  ...      58.0      34.8      38.4\n",
      "\n",
      "[5 rows x 13 columns]\n"
     ]
    }
   ],
   "source": [
    "df_ft1 = run_query(sql_features)"
   ]
  },
  {
   "cell_type": "code",
   "execution_count": 30,
   "metadata": {
    "colab": {
     "base_uri": "https://localhost:8080/"
    },
    "id": "VyT5Yyo4CMBN",
    "outputId": "2043c2da-afbf-4264-a161-5718945161a1"
   },
   "outputs": [
    {
     "name": "stdout",
     "output_type": "stream",
     "text": [
      "22369 rows\n",
      "   patientunitstayid  vent_start  vent_end  vent_duration  over72h  peep_max\n",
      "0             141233           4      1672      27.800000        0      55.0\n",
      "1             156988        1329     29112     463.050000        1      56.0\n",
      "2             161176         266     10138     164.533333        1      11.0\n",
      "3             168134        1782      9577     129.916667        1       3.0\n",
      "4             179701          79     24195     401.933333        1       9.0\n"
     ]
    }
   ],
   "source": [
    "df_ft2 = run_query(sql_features2)"
   ]
  },
  {
   "cell_type": "code",
   "execution_count": 31,
   "metadata": {
    "colab": {
     "base_uri": "https://localhost:8080/"
    },
    "id": "Xwqgd1daNR0j",
    "outputId": "126994f1-9f8e-4ab3-dda5-3cd38e3f4ca2"
   },
   "outputs": [
    {
     "data": {
      "text/plain": [
       "22326"
      ]
     },
     "execution_count": 31,
     "metadata": {
      "tags": []
     },
     "output_type": "execute_result"
    }
   ],
   "source": [
    "cols = ['patientunitstayid', 'vent_start', 'vent_end', 'vent_duration', 'over72h']\n",
    "cohort_ft = pd.merge(df_ft1, df_ft2, on=cols, how='left')\n",
    "len(cohort_ft)"
   ]
  },
  {
   "cell_type": "code",
   "execution_count": 32,
   "metadata": {
    "colab": {
     "base_uri": "https://localhost:8080/",
     "height": 204
    },
    "id": "QOCovWAhN2g1",
    "outputId": "26e2175a-be73-4866-cda7-f1bab4bf0520"
   },
   "outputs": [
    {
     "data": {
      "text/html": [
       "<div>\n",
       "<style scoped>\n",
       "    .dataframe tbody tr th:only-of-type {\n",
       "        vertical-align: middle;\n",
       "    }\n",
       "\n",
       "    .dataframe tbody tr th {\n",
       "        vertical-align: top;\n",
       "    }\n",
       "\n",
       "    .dataframe thead th {\n",
       "        text-align: right;\n",
       "    }\n",
       "</style>\n",
       "<table border=\"1\" class=\"dataframe\">\n",
       "  <thead>\n",
       "    <tr style=\"text-align: right;\">\n",
       "      <th></th>\n",
       "      <th>patientunitstayid</th>\n",
       "      <th>vent_start</th>\n",
       "      <th>vent_end</th>\n",
       "      <th>vent_duration</th>\n",
       "      <th>over72h</th>\n",
       "      <th>ph_max</th>\n",
       "      <th>spo2_min</th>\n",
       "      <th>hr_min</th>\n",
       "      <th>hr_max</th>\n",
       "      <th>resp_min</th>\n",
       "      <th>resp_max</th>\n",
       "      <th>temp_min</th>\n",
       "      <th>temp_max</th>\n",
       "      <th>peep_max</th>\n",
       "    </tr>\n",
       "  </thead>\n",
       "  <tbody>\n",
       "    <tr>\n",
       "      <th>0</th>\n",
       "      <td>3072790</td>\n",
       "      <td>18</td>\n",
       "      <td>1804</td>\n",
       "      <td>29.766667</td>\n",
       "      <td>0</td>\n",
       "      <td>NaN</td>\n",
       "      <td>96.0</td>\n",
       "      <td>85.0</td>\n",
       "      <td>98.0</td>\n",
       "      <td>8.0</td>\n",
       "      <td>16.0</td>\n",
       "      <td>35.7</td>\n",
       "      <td>36.6</td>\n",
       "      <td>5.0</td>\n",
       "    </tr>\n",
       "    <tr>\n",
       "      <th>1</th>\n",
       "      <td>2767867</td>\n",
       "      <td>24</td>\n",
       "      <td>3204</td>\n",
       "      <td>53.000000</td>\n",
       "      <td>0</td>\n",
       "      <td>NaN</td>\n",
       "      <td>96.0</td>\n",
       "      <td>81.0</td>\n",
       "      <td>81.0</td>\n",
       "      <td>17.0</td>\n",
       "      <td>17.0</td>\n",
       "      <td>37.9</td>\n",
       "      <td>37.9</td>\n",
       "      <td>NaN</td>\n",
       "    </tr>\n",
       "    <tr>\n",
       "      <th>2</th>\n",
       "      <td>3176933</td>\n",
       "      <td>121</td>\n",
       "      <td>2405</td>\n",
       "      <td>38.066667</td>\n",
       "      <td>0</td>\n",
       "      <td>7.42</td>\n",
       "      <td>95.0</td>\n",
       "      <td>67.0</td>\n",
       "      <td>120.0</td>\n",
       "      <td>8.0</td>\n",
       "      <td>17.0</td>\n",
       "      <td>35.6</td>\n",
       "      <td>37.8</td>\n",
       "      <td>5.0</td>\n",
       "    </tr>\n",
       "    <tr>\n",
       "      <th>3</th>\n",
       "      <td>271620</td>\n",
       "      <td>141</td>\n",
       "      <td>4158</td>\n",
       "      <td>66.950000</td>\n",
       "      <td>0</td>\n",
       "      <td>NaN</td>\n",
       "      <td>91.0</td>\n",
       "      <td>65.0</td>\n",
       "      <td>88.0</td>\n",
       "      <td>14.0</td>\n",
       "      <td>14.0</td>\n",
       "      <td>36.2</td>\n",
       "      <td>37.5</td>\n",
       "      <td>NaN</td>\n",
       "    </tr>\n",
       "    <tr>\n",
       "      <th>4</th>\n",
       "      <td>3183892</td>\n",
       "      <td>222</td>\n",
       "      <td>9121</td>\n",
       "      <td>148.316667</td>\n",
       "      <td>1</td>\n",
       "      <td>7.43</td>\n",
       "      <td>83.0</td>\n",
       "      <td>66.0</td>\n",
       "      <td>163.0</td>\n",
       "      <td>12.0</td>\n",
       "      <td>58.0</td>\n",
       "      <td>34.8</td>\n",
       "      <td>38.4</td>\n",
       "      <td>NaN</td>\n",
       "    </tr>\n",
       "  </tbody>\n",
       "</table>\n",
       "</div>"
      ],
      "text/plain": [
       "   patientunitstayid  vent_start  vent_end  ...  temp_min  temp_max  peep_max\n",
       "0            3072790          18      1804  ...      35.7      36.6       5.0\n",
       "1            2767867          24      3204  ...      37.9      37.9       NaN\n",
       "2            3176933         121      2405  ...      35.6      37.8       5.0\n",
       "3             271620         141      4158  ...      36.2      37.5       NaN\n",
       "4            3183892         222      9121  ...      34.8      38.4       NaN\n",
       "\n",
       "[5 rows x 14 columns]"
      ]
     },
     "execution_count": 32,
     "metadata": {
      "tags": []
     },
     "output_type": "execute_result"
    }
   ],
   "source": [
    "cohort_ft.head()"
   ]
  },
  {
   "cell_type": "code",
   "execution_count": null,
   "metadata": {},
   "outputs": [],
   "source": [
    "# conform to the naming in mimic-iv dataset\n",
    "cohort_ft.rename(columns={'hr_max':'heart_rate_max',\n",
    "                   'hr_min':'heart_rate_min',\n",
    "                   'resp_max':'resp_rate_max',\n",
    "                   'resp_min':'resp_rate_min'}, inplace=True)"
   ]
  },
  {
   "cell_type": "code",
   "execution_count": 33,
   "metadata": {
    "colab": {
     "base_uri": "https://localhost:8080/"
    },
    "id": "425inOCUCMBN",
    "outputId": "330004f8-f402-4153-bc9b-1acffcdc9304"
   },
   "outputs": [
    {
     "data": {
      "text/plain": [
       "['.config', 'ft9_invasive_cohort_eicu.csv', 'adc.json', 'sample_data']"
      ]
     },
     "execution_count": 33,
     "metadata": {
      "tags": []
     },
     "output_type": "execute_result"
    }
   ],
   "source": [
    "cohort_ft.to_csv('ft9_invasive_cohort_eicu.csv', index=False)\n",
    "os.listdir('.')"
   ]
  },
  {
   "cell_type": "code",
   "execution_count": 34,
   "metadata": {
    "colab": {
     "base_uri": "https://localhost:8080/",
     "height": 17
    },
    "id": "fzrX1nrWCMBN",
    "outputId": "734bc048-1e69-410b-91ab-dcd38b9e6c51"
   },
   "outputs": [
    {
     "data": {
      "application/javascript": [
       "\n",
       "    async function download(id, filename, size) {\n",
       "      if (!google.colab.kernel.accessAllowed) {\n",
       "        return;\n",
       "      }\n",
       "      const div = document.createElement('div');\n",
       "      const label = document.createElement('label');\n",
       "      label.textContent = `Downloading \"${filename}\": `;\n",
       "      div.appendChild(label);\n",
       "      const progress = document.createElement('progress');\n",
       "      progress.max = size;\n",
       "      div.appendChild(progress);\n",
       "      document.body.appendChild(div);\n",
       "\n",
       "      const buffers = [];\n",
       "      let downloaded = 0;\n",
       "\n",
       "      const channel = await google.colab.kernel.comms.open(id);\n",
       "      // Send a message to notify the kernel that we're ready.\n",
       "      channel.send({})\n",
       "\n",
       "      for await (const message of channel.messages) {\n",
       "        // Send a message to notify the kernel that we're ready.\n",
       "        channel.send({})\n",
       "        if (message.buffers) {\n",
       "          for (const buffer of message.buffers) {\n",
       "            buffers.push(buffer);\n",
       "            downloaded += buffer.byteLength;\n",
       "            progress.value = downloaded;\n",
       "          }\n",
       "        }\n",
       "      }\n",
       "      const blob = new Blob(buffers, {type: 'application/binary'});\n",
       "      const a = document.createElement('a');\n",
       "      a.href = window.URL.createObjectURL(blob);\n",
       "      a.download = filename;\n",
       "      div.appendChild(a);\n",
       "      a.click();\n",
       "      div.remove();\n",
       "    }\n",
       "  "
      ],
      "text/plain": [
       "<IPython.core.display.Javascript object>"
      ]
     },
     "metadata": {
      "tags": []
     },
     "output_type": "display_data"
    },
    {
     "data": {
      "application/javascript": [
       "download(\"download_f7f538ec-13ab-4f67-a420-b4c4fc533321\", \"ft9_invasive_cohort_eicu.csv\", 1630553)"
      ],
      "text/plain": [
       "<IPython.core.display.Javascript object>"
      ]
     },
     "metadata": {
      "tags": []
     },
     "output_type": "display_data"
    }
   ],
   "source": [
    "from google.colab import files\n",
    "files.download('ft9_invasive_cohort_eicu.csv') "
   ]
  },
  {
   "cell_type": "code",
   "execution_count": null,
   "metadata": {
    "id": "b3QJki3XCMBO"
   },
   "outputs": [],
   "source": []
  },
  {
   "cell_type": "code",
   "execution_count": 35,
   "metadata": {
    "id": "abeiOGr7CMBO"
   },
   "outputs": [],
   "source": [
    "icustay_ids = [str(i) for i in cohort_ft.patientunitstayid.unique()]"
   ]
  },
  {
   "cell_type": "code",
   "execution_count": 36,
   "metadata": {
    "id": "ksV38sTKCMBO"
   },
   "outputs": [],
   "source": [
    "# demographic and discharge status\n",
    "sql_demo_etc = '''\n",
    "select \n",
    "patientunitstayid, patienthealthsystemstayid patient_id, age, gender, hospitalid, \n",
    "unitdischargeoffset,\n",
    "unitdischargestatus, \n",
    "hospitaldischargeoffset,\n",
    "hospitaldischargestatus\n",
    " from `physionet-data.eicu_crd.patient` \n",
    "where patientunitstayid in ({})\n",
    "'''.format(','.join(icustay_ids))"
   ]
  },
  {
   "cell_type": "code",
   "execution_count": 37,
   "metadata": {
    "colab": {
     "base_uri": "https://localhost:8080/"
    },
    "id": "AEOx2tAKCMBO",
    "outputId": "77b3b099-f2bb-4827-cb23-a928e3bbe7ca"
   },
   "outputs": [
    {
     "name": "stdout",
     "output_type": "stream",
     "text": [
      "22326 rows\n",
      "   patientunitstayid  ...  hospitaldischargestatus\n",
      "0            3139462  ...                  Expired\n",
      "1            3168101  ...                    Alive\n",
      "2            3184917  ...                    Alive\n",
      "3            3162539  ...                  Expired\n",
      "4            1364364  ...                    Alive\n",
      "\n",
      "[5 rows x 9 columns]\n"
     ]
    }
   ],
   "source": [
    "cohort_demo = run_query(sql_demo_etc)"
   ]
  },
  {
   "cell_type": "code",
   "execution_count": 38,
   "metadata": {
    "colab": {
     "base_uri": "https://localhost:8080/",
     "height": 17
    },
    "id": "S0rsc4mWC_mO",
    "outputId": "38292216-6532-4b0e-f7e4-e9264e167235"
   },
   "outputs": [
    {
     "data": {
      "application/javascript": [
       "\n",
       "    async function download(id, filename, size) {\n",
       "      if (!google.colab.kernel.accessAllowed) {\n",
       "        return;\n",
       "      }\n",
       "      const div = document.createElement('div');\n",
       "      const label = document.createElement('label');\n",
       "      label.textContent = `Downloading \"${filename}\": `;\n",
       "      div.appendChild(label);\n",
       "      const progress = document.createElement('progress');\n",
       "      progress.max = size;\n",
       "      div.appendChild(progress);\n",
       "      document.body.appendChild(div);\n",
       "\n",
       "      const buffers = [];\n",
       "      let downloaded = 0;\n",
       "\n",
       "      const channel = await google.colab.kernel.comms.open(id);\n",
       "      // Send a message to notify the kernel that we're ready.\n",
       "      channel.send({})\n",
       "\n",
       "      for await (const message of channel.messages) {\n",
       "        // Send a message to notify the kernel that we're ready.\n",
       "        channel.send({})\n",
       "        if (message.buffers) {\n",
       "          for (const buffer of message.buffers) {\n",
       "            buffers.push(buffer);\n",
       "            downloaded += buffer.byteLength;\n",
       "            progress.value = downloaded;\n",
       "          }\n",
       "        }\n",
       "      }\n",
       "      const blob = new Blob(buffers, {type: 'application/binary'});\n",
       "      const a = document.createElement('a');\n",
       "      a.href = window.URL.createObjectURL(blob);\n",
       "      a.download = filename;\n",
       "      div.appendChild(a);\n",
       "      a.click();\n",
       "      div.remove();\n",
       "    }\n",
       "  "
      ],
      "text/plain": [
       "<IPython.core.display.Javascript object>"
      ]
     },
     "metadata": {
      "tags": []
     },
     "output_type": "display_data"
    },
    {
     "data": {
      "application/javascript": [
       "download(\"download_ec106328-2441-49e0-83df-4c80b113386a\", \"ft9_invasive_cohort_eicu_demo_mort.csv\", 1156163)"
      ],
      "text/plain": [
       "<IPython.core.display.Javascript object>"
      ]
     },
     "metadata": {
      "tags": []
     },
     "output_type": "display_data"
    }
   ],
   "source": [
    "cohort_demo.to_csv('ft9_invasive_cohort_eicu_demo_mort.csv', index=False)\n",
    "files.download('ft9_invasive_cohort_eicu_demo_mort.csv') "
   ]
  },
  {
   "cell_type": "code",
   "execution_count": null,
   "metadata": {
    "id": "lCuW0IomDMFQ"
   },
   "outputs": [],
   "source": []
  }
 ],
 "metadata": {
  "colab": {
   "name": "invasive_vent_cohort_extraction_eicu.ipynb",
   "provenance": []
  },
  "kernelspec": {
   "display_name": "Python 3.6.9 64-bit ('env': venv)",
   "language": "python",
   "name": "python36964bitenvvenv0d2ba342935947bdaabbc325c799018e"
  },
  "language_info": {
   "codemirror_mode": {
    "name": "ipython",
    "version": 3
   },
   "file_extension": ".py",
   "mimetype": "text/x-python",
   "name": "python",
   "nbconvert_exporter": "python",
   "pygments_lexer": "ipython3",
   "version": "3.6.9"
  }
 },
 "nbformat": 4,
 "nbformat_minor": 1
}
