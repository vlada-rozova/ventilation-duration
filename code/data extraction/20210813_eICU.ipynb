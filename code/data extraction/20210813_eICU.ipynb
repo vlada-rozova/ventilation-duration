{
 "cells": [
  {
   "cell_type": "code",
   "execution_count": null,
   "metadata": {
    "id": "wXzJyusXd1cI"
   },
   "outputs": [],
   "source": []
  },
  {
   "cell_type": "markdown",
   "metadata": {
    "id": "LNA_n8e_TGpu"
   },
   "source": [
    " The variables are `age`, `hours_in_hosp_before_intubation`, `lactate_min`, `resp_rate_avg`,  `plateau_pressure_avg`, `parapleagia` "
   ]
  },
  {
   "cell_type": "code",
   "execution_count": null,
   "metadata": {
    "id": "XLtXMjfCT7WO"
   },
   "outputs": [],
   "source": [
    "# age SELECT  FROM `physionet-data.eicu_crd_derived.basic_demographics` LIMIT 1000\n",
    "# lactate SELECT lactate FROM `physionet-data.eicu_crd_derived.pivoted_lab` LIMIT 1000"
   ]
  },
  {
   "cell_type": "code",
   "execution_count": 1,
   "metadata": {
    "executionInfo": {
     "elapsed": 4,
     "status": "ok",
     "timestamp": 1628821414434,
     "user": {
      "displayName": "Jinghui Liu",
      "photoUrl": "",
      "userId": "18293373264061014802"
     },
     "user_tz": -480
    },
    "id": "Hr_xWFBtdxfD"
   },
   "outputs": [],
   "source": [
    "import os \n",
    "import pandas as pd\n",
    "\n",
    "project_id=\"upbeat-legacy-282508\" # need to specify accordingly\n",
    "os.environ[\"GOOGLE_CLOUD_PROJECT\"]=project_id"
   ]
  },
  {
   "cell_type": "code",
   "execution_count": 2,
   "metadata": {
    "colab": {
     "base_uri": "https://localhost:8080/"
    },
    "executionInfo": {
     "elapsed": 16848,
     "status": "ok",
     "timestamp": 1628821433090,
     "user": {
      "displayName": "Jinghui Liu",
      "photoUrl": "",
      "userId": "18293373264061014802"
     },
     "user_tz": -480
    },
    "id": "c8zVnVFPd69X",
    "outputId": "02360f60-a777-4f1a-bb93-c68efe4db4e6"
   },
   "outputs": [
    {
     "name": "stdout",
     "output_type": "stream",
     "text": [
      "Authenticated\n"
     ]
    }
   ],
   "source": [
    "from google.colab import auth\n",
    "auth.authenticate_user()\n",
    "print('Authenticated')"
   ]
  },
  {
   "cell_type": "code",
   "execution_count": 3,
   "metadata": {
    "colab": {
     "base_uri": "https://localhost:8080/"
    },
    "executionInfo": {
     "elapsed": 2711,
     "status": "ok",
     "timestamp": 1628821439504,
     "user": {
      "displayName": "Jinghui Liu",
      "photoUrl": "",
      "userId": "18293373264061014802"
     },
     "user_tz": -480
    },
    "id": "y81dC1NQd8L7",
    "outputId": "1eb1c4d6-d340-45cd-b41e-f5350f0ca687"
   },
   "outputs": [
    {
     "name": "stdout",
     "output_type": "stream",
     "text": [
      "10 rows\n",
      "   subject_id   hadm_id   stay_id\n",
      "0    12776735  20817525  34547665\n",
      "1    16256226  20013290  39289362\n",
      "2    12974563  29618057  32563675\n",
      "3    14609218  20606189  34947848\n",
      "4    12687112  26132667  37445058\n"
     ]
    }
   ],
   "source": [
    "def run_query(query):\n",
    "    df = pd.io.gbq.read_gbq(query, project_id=project_id, verbose=False, configuration={'query':{'useLegacySql': False}})\n",
    "    print(len(df), 'rows')\n",
    "    print(df.head())\n",
    "    return df\n",
    "\n",
    "# an example\n",
    "df = run_query('''\n",
    "SELECT\n",
    "  subject_id,\n",
    "  hadm_id,\n",
    "  stay_id\n",
    "FROM\n",
    "  `physionet-data.mimic_icu.icustays`\n",
    "LIMIT 10\n",
    "''')"
   ]
  },
  {
   "cell_type": "code",
   "execution_count": 4,
   "metadata": {
    "colab": {
     "base_uri": "https://localhost:8080/",
     "height": 35
    },
    "executionInfo": {
     "elapsed": 292,
     "status": "ok",
     "timestamp": 1628821441763,
     "user": {
      "displayName": "Jinghui Liu",
      "photoUrl": "",
      "userId": "18293373264061014802"
     },
     "user_tz": -480
    },
    "id": "49y3tRzFeD5w",
    "outputId": "7f026d2d-de09-4e40-bbdc-59d57a54aa62"
   },
   "outputs": [
    {
     "data": {
      "application/vnd.google.colaboratory.intrinsic+json": {
       "type": "string"
      },
      "text/plain": [
       "'upbeat-legacy-282508.default.vent_cohort_eicu_view'"
      ]
     },
     "execution_count": 4,
     "metadata": {
      "tags": []
     },
     "output_type": "execute_result"
    }
   ],
   "source": [
    "dataset_id = 'default' # change accordingly\n",
    "view_id = f\"{project_id}.{dataset_id}.vent_cohort_eicu_view\" # this need to be created in advance\n",
    "view_id"
   ]
  },
  {
   "cell_type": "code",
   "execution_count": 5,
   "metadata": {
    "executionInfo": {
     "elapsed": 493,
     "status": "ok",
     "timestamp": 1628821446538,
     "user": {
      "displayName": "Jinghui Liu",
      "photoUrl": "",
      "userId": "18293373264061014802"
     },
     "user_tz": -480
    },
    "id": "pGWvUmf1eLr7"
   },
   "outputs": [],
   "source": [
    "HOUR_GAP = 24\n",
    "cols = ['patientunitstayid', 'vent_start', 'vent_end', 'vent_duration','over72h']"
   ]
  },
  {
   "cell_type": "code",
   "execution_count": 23,
   "metadata": {
    "colab": {
     "base_uri": "https://localhost:8080/"
    },
    "executionInfo": {
     "elapsed": 21249,
     "status": "ok",
     "timestamp": 1628822581567,
     "user": {
      "displayName": "Jinghui Liu",
      "photoUrl": "",
      "userId": "18293373264061014802"
     },
     "user_tz": -480
    },
    "id": "oPPkAjq9Ut8D",
    "outputId": "7414de37-b96b-469a-e403-1194d91a8b5d"
   },
   "outputs": [
    {
     "name": "stdout",
     "output_type": "stream",
     "text": [
      "21185 rows\n",
      "   patientunitstayid  vent_start  ...  resp_rate_min  resp_rate_avg\n",
      "0             147985         539  ...            0.0      13.808824\n",
      "1             153409          11  ...           19.0      24.964912\n",
      "2             157895         384  ...            8.0      18.807692\n",
      "3             158050         304  ...           17.0      20.250000\n",
      "4             171281         460  ...           10.0      14.888889\n",
      "\n",
      "[5 rows x 11 columns]\n"
     ]
    }
   ],
   "source": [
    "# lactate, resp\n",
    "\n",
    "sql_features = f'''\n",
    "with lab_ft as (\n",
    "    SELECT \n",
    "    v.patientunitstayid, \n",
    "    lab.lactate\n",
    "    FROM `{view_id}` v\n",
    "    left join `physionet-data.eicu_crd_derived.pivoted_lab` lab\n",
    "    on v.patientunitstayid=lab.patientunitstayid\n",
    "    where lab.chartoffset <= v.vent_start + {HOUR_GAP}*60 and lab.chartoffset >= v.vent_start\n",
    ")\n",
    "\n",
    ", vs_ft as (\n",
    "    SELECT \n",
    "    v.patientunitstayid, \n",
    "    # vt.heartrate, vt.temperature, vt.spo2,\n",
    "    vt.respiratoryrate, \n",
    "    FROM `{view_id}` v\n",
    "    left join `physionet-data.eicu_crd_derived.pivoted_vital` vt\n",
    "    on v.patientunitstayid = vt.patientunitstayid\n",
    "    where vt.chartoffset <= v.vent_start + {HOUR_GAP}*60 and vt.chartoffset >= v.vent_start\n",
    ")\n",
    "select \n",
    "v.*\n",
    "# v.patientunitstayid\n",
    "\n",
    ",max(b.lactate) lactate_max\n",
    ",min(b.lactate) lactate_min\n",
    ",avg(b.lactate) lactate_avg\n",
    "\n",
    ",max(s.respiratoryrate) resp_rate_max\n",
    ",min(s.respiratoryrate) resp_rate_min\n",
    ",avg(s.respiratoryrate) resp_rate_avg\n",
    "\n",
    "# ,min(s.heartrate) hr_min\n",
    "# ,max(s.heartrate) hr_max\n",
    "# ,min(s.temperature) temp_min \n",
    "# ,max(s.temperature) temp_max\n",
    "\n",
    "from `{view_id}` v\n",
    "left join lab_ft b on b.patientunitstayid=v.patientunitstayid\n",
    "left join vs_ft s on s.patientunitstayid=v.patientunitstayid\n",
    "group by patientunitstayid, vent_start, vent_end, vent_duration, over72h\n",
    "\n",
    "'''\n",
    "ft = run_query(sql_features)"
   ]
  },
  {
   "cell_type": "code",
   "execution_count": 6,
   "metadata": {
    "colab": {
     "base_uri": "https://localhost:8080/"
    },
    "executionInfo": {
     "elapsed": 21879,
     "status": "ok",
     "timestamp": 1628821934910,
     "user": {
      "displayName": "Jinghui Liu",
      "photoUrl": "",
      "userId": "18293373264061014802"
     },
     "user_tz": -480
    },
    "id": "MJ0h6rW-Uuhd",
    "outputId": "8ab0b8f2-44df-40d5-bab1-41a8be7ae2a3"
   },
   "outputs": [
    {
     "name": "stdout",
     "output_type": "stream",
     "text": [
      "21185 rows\n",
      "   patientunitstayid  vent_start  ...  plateau_pressure_avg  plateau_pressure_min\n",
      "0            2260573         426  ...             36.500000                  35.0\n",
      "1            1642672         137  ...             17.285714                 -20.0\n",
      "2            3179588         118  ...             23.220000                  20.7\n",
      "3            3161044         102  ...             13.000000                  10.8\n",
      "4            3052672         147  ...             24.428571                  23.0\n",
      "\n",
      "[5 rows x 8 columns]\n"
     ]
    }
   ],
   "source": [
    "sql_eicu_plateau=f'''\n",
    "with tmp as (\n",
    "    SELECT \n",
    "    patientunitstayid, \n",
    "    respchartentryoffset chartoffset,\n",
    "    respchartvaluelabel, safe_cast(respchartvalue as float64) plateau\n",
    "    -- distinct respchartvaluelabel\n",
    "    FROM `physionet-data.eicu_crd.respiratorycharting` where lower(respchartvaluelabel) like '%plateau%'\n",
    "    )\n",
    ", plt as (\n",
    "    select v.patientunitstayid , plateau\n",
    "    FROM `{view_id}` v\n",
    "    left join tmp t on t.patientunitstayid = v.patientunitstayid \n",
    "    where t.chartoffset <= v.vent_start+{HOUR_GAP}*60 and t.chartoffset >= v.vent_start\n",
    "    )\n",
    "select \n",
    "    v.*\n",
    "    , max(plateau) plateau_pressure_max\n",
    "    , avg(plateau) plateau_pressure_avg\n",
    "    , min(plateau) plateau_pressure_min\n",
    "\n",
    "from `{view_id}` v\n",
    "left join plt p on p.patientunitstayid=v.patientunitstayid\n",
    "group by patientunitstayid, vent_start, vent_end, vent_duration, over72h\n",
    "\n",
    "'''\n",
    "\n",
    "plateau = run_query(sql_eicu_plateau)\n"
   ]
  },
  {
   "cell_type": "code",
   "execution_count": 10,
   "metadata": {
    "colab": {
     "base_uri": "https://localhost:8080/"
    },
    "executionInfo": {
     "elapsed": 8972,
     "status": "ok",
     "timestamp": 1628822152560,
     "user": {
      "displayName": "Jinghui Liu",
      "photoUrl": "",
      "userId": "18293373264061014802"
     },
     "user_tz": -480
    },
    "id": "AzR2LyGnWhJN",
    "outputId": "18a96b27-b147-49a7-f3e3-d489f6044ff6"
   },
   "outputs": [
    {
     "name": "stdout",
     "output_type": "stream",
     "text": [
      "200859 rows\n",
      "   patientunitstayid age\n",
      "0             141208  25\n",
      "1             141263  19\n",
      "2             141264  19\n",
      "3             141970  18\n",
      "4             142557  25\n"
     ]
    }
   ],
   "source": [
    "sql_age = \"\"\"\n",
    "SELECT patientunitstayid, age FROM `physionet-data.eicu_crd_derived.basic_demographics`\n",
    "\"\"\"\n",
    "age = run_query(sql_age)"
   ]
  },
  {
   "cell_type": "code",
   "execution_count": 24,
   "metadata": {
    "colab": {
     "base_uri": "https://localhost:8080/",
     "height": 130
    },
    "executionInfo": {
     "elapsed": 388,
     "status": "ok",
     "timestamp": 1628822600109,
     "user": {
      "displayName": "Jinghui Liu",
      "photoUrl": "",
      "userId": "18293373264061014802"
     },
     "user_tz": -480
    },
    "id": "735-0cmIWgZM",
    "outputId": "e1d83a45-1674-4cb6-dfa0-f7041861a75b"
   },
   "outputs": [
    {
     "data": {
      "text/html": [
       "<div>\n",
       "<style scoped>\n",
       "    .dataframe tbody tr th:only-of-type {\n",
       "        vertical-align: middle;\n",
       "    }\n",
       "\n",
       "    .dataframe tbody tr th {\n",
       "        vertical-align: top;\n",
       "    }\n",
       "\n",
       "    .dataframe thead th {\n",
       "        text-align: right;\n",
       "    }\n",
       "</style>\n",
       "<table border=\"1\" class=\"dataframe\">\n",
       "  <thead>\n",
       "    <tr style=\"text-align: right;\">\n",
       "      <th></th>\n",
       "      <th>patientunitstayid</th>\n",
       "      <th>vent_start</th>\n",
       "      <th>vent_end</th>\n",
       "      <th>vent_duration</th>\n",
       "      <th>over72h</th>\n",
       "      <th>lactate_max</th>\n",
       "      <th>lactate_min</th>\n",
       "      <th>lactate_avg</th>\n",
       "      <th>resp_rate_max</th>\n",
       "      <th>resp_rate_min</th>\n",
       "      <th>resp_rate_avg</th>\n",
       "    </tr>\n",
       "  </thead>\n",
       "  <tbody>\n",
       "    <tr>\n",
       "      <th>0</th>\n",
       "      <td>147985</td>\n",
       "      <td>539</td>\n",
       "      <td>2506</td>\n",
       "      <td>32.783333</td>\n",
       "      <td>0</td>\n",
       "      <td>12.6</td>\n",
       "      <td>4.0</td>\n",
       "      <td>7.933333</td>\n",
       "      <td>29.0</td>\n",
       "      <td>0.0</td>\n",
       "      <td>13.808824</td>\n",
       "    </tr>\n",
       "    <tr>\n",
       "      <th>1</th>\n",
       "      <td>153409</td>\n",
       "      <td>11</td>\n",
       "      <td>3132</td>\n",
       "      <td>52.016667</td>\n",
       "      <td>0</td>\n",
       "      <td>14.1</td>\n",
       "      <td>10.9</td>\n",
       "      <td>12.233333</td>\n",
       "      <td>31.0</td>\n",
       "      <td>19.0</td>\n",
       "      <td>24.964912</td>\n",
       "    </tr>\n",
       "  </tbody>\n",
       "</table>\n",
       "</div>"
      ],
      "text/plain": [
       "   patientunitstayid  vent_start  ...  resp_rate_min  resp_rate_avg\n",
       "0             147985         539  ...            0.0      13.808824\n",
       "1             153409          11  ...           19.0      24.964912\n",
       "\n",
       "[2 rows x 11 columns]"
      ]
     },
     "execution_count": 24,
     "metadata": {
      "tags": []
     },
     "output_type": "execute_result"
    }
   ],
   "source": [
    "ft.head(2)"
   ]
  },
  {
   "cell_type": "code",
   "execution_count": 12,
   "metadata": {
    "colab": {
     "base_uri": "https://localhost:8080/",
     "height": 110
    },
    "executionInfo": {
     "elapsed": 1647,
     "status": "ok",
     "timestamp": 1628822186797,
     "user": {
      "displayName": "Jinghui Liu",
      "photoUrl": "",
      "userId": "18293373264061014802"
     },
     "user_tz": -480
    },
    "id": "i5yF4f7kXMUB",
    "outputId": "c207284a-8e70-4c6c-e771-c7238523b546"
   },
   "outputs": [
    {
     "data": {
      "text/html": [
       "<div>\n",
       "<style scoped>\n",
       "    .dataframe tbody tr th:only-of-type {\n",
       "        vertical-align: middle;\n",
       "    }\n",
       "\n",
       "    .dataframe tbody tr th {\n",
       "        vertical-align: top;\n",
       "    }\n",
       "\n",
       "    .dataframe thead th {\n",
       "        text-align: right;\n",
       "    }\n",
       "</style>\n",
       "<table border=\"1\" class=\"dataframe\">\n",
       "  <thead>\n",
       "    <tr style=\"text-align: right;\">\n",
       "      <th></th>\n",
       "      <th>patientunitstayid</th>\n",
       "      <th>vent_start</th>\n",
       "      <th>vent_end</th>\n",
       "      <th>vent_duration</th>\n",
       "      <th>over72h</th>\n",
       "      <th>plateau_pressure_max</th>\n",
       "      <th>plateau_pressure_avg</th>\n",
       "      <th>plateau_pressure_min</th>\n",
       "    </tr>\n",
       "  </thead>\n",
       "  <tbody>\n",
       "    <tr>\n",
       "      <th>0</th>\n",
       "      <td>2260573</td>\n",
       "      <td>426</td>\n",
       "      <td>14252</td>\n",
       "      <td>230.433333</td>\n",
       "      <td>1</td>\n",
       "      <td>38.0</td>\n",
       "      <td>36.500000</td>\n",
       "      <td>35.0</td>\n",
       "    </tr>\n",
       "    <tr>\n",
       "      <th>1</th>\n",
       "      <td>1642672</td>\n",
       "      <td>137</td>\n",
       "      <td>4081</td>\n",
       "      <td>65.733333</td>\n",
       "      <td>0</td>\n",
       "      <td>50.0</td>\n",
       "      <td>17.285714</td>\n",
       "      <td>-20.0</td>\n",
       "    </tr>\n",
       "  </tbody>\n",
       "</table>\n",
       "</div>"
      ],
      "text/plain": [
       "   patientunitstayid  vent_start  ...  plateau_pressure_avg  plateau_pressure_min\n",
       "0            2260573         426  ...             36.500000                  35.0\n",
       "1            1642672         137  ...             17.285714                 -20.0\n",
       "\n",
       "[2 rows x 8 columns]"
      ]
     },
     "execution_count": 12,
     "metadata": {
      "tags": []
     },
     "output_type": "execute_result"
    }
   ],
   "source": [
    "plateau.head(2)"
   ]
  },
  {
   "cell_type": "code",
   "execution_count": 25,
   "metadata": {
    "colab": {
     "base_uri": "https://localhost:8080/",
     "height": 147
    },
    "executionInfo": {
     "elapsed": 842,
     "status": "ok",
     "timestamp": 1628822608346,
     "user": {
      "displayName": "Jinghui Liu",
      "photoUrl": "",
      "userId": "18293373264061014802"
     },
     "user_tz": -480
    },
    "id": "1V3Y2f9OXiMr",
    "outputId": "abd54f27-9134-4e8b-bd4f-5280f15d903d"
   },
   "outputs": [
    {
     "name": "stdout",
     "output_type": "stream",
     "text": [
      "21185\n"
     ]
    },
    {
     "data": {
      "text/html": [
       "<div>\n",
       "<style scoped>\n",
       "    .dataframe tbody tr th:only-of-type {\n",
       "        vertical-align: middle;\n",
       "    }\n",
       "\n",
       "    .dataframe tbody tr th {\n",
       "        vertical-align: top;\n",
       "    }\n",
       "\n",
       "    .dataframe thead th {\n",
       "        text-align: right;\n",
       "    }\n",
       "</style>\n",
       "<table border=\"1\" class=\"dataframe\">\n",
       "  <thead>\n",
       "    <tr style=\"text-align: right;\">\n",
       "      <th></th>\n",
       "      <th>patientunitstayid</th>\n",
       "      <th>vent_start</th>\n",
       "      <th>vent_end</th>\n",
       "      <th>vent_duration</th>\n",
       "      <th>over72h</th>\n",
       "      <th>lactate_max</th>\n",
       "      <th>lactate_min</th>\n",
       "      <th>lactate_avg</th>\n",
       "      <th>resp_rate_max</th>\n",
       "      <th>resp_rate_min</th>\n",
       "      <th>resp_rate_avg</th>\n",
       "      <th>plateau_pressure_max</th>\n",
       "      <th>plateau_pressure_avg</th>\n",
       "      <th>plateau_pressure_min</th>\n",
       "    </tr>\n",
       "  </thead>\n",
       "  <tbody>\n",
       "    <tr>\n",
       "      <th>0</th>\n",
       "      <td>147985</td>\n",
       "      <td>539</td>\n",
       "      <td>2506</td>\n",
       "      <td>32.783333</td>\n",
       "      <td>0</td>\n",
       "      <td>12.6</td>\n",
       "      <td>4.0</td>\n",
       "      <td>7.933333</td>\n",
       "      <td>29.0</td>\n",
       "      <td>0.0</td>\n",
       "      <td>13.808824</td>\n",
       "      <td>26.0</td>\n",
       "      <td>18.600000</td>\n",
       "      <td>11.0</td>\n",
       "    </tr>\n",
       "    <tr>\n",
       "      <th>1</th>\n",
       "      <td>153409</td>\n",
       "      <td>11</td>\n",
       "      <td>3132</td>\n",
       "      <td>52.016667</td>\n",
       "      <td>0</td>\n",
       "      <td>14.1</td>\n",
       "      <td>10.9</td>\n",
       "      <td>12.233333</td>\n",
       "      <td>31.0</td>\n",
       "      <td>19.0</td>\n",
       "      <td>24.964912</td>\n",
       "      <td>31.0</td>\n",
       "      <td>28.307692</td>\n",
       "      <td>23.0</td>\n",
       "    </tr>\n",
       "  </tbody>\n",
       "</table>\n",
       "</div>"
      ],
      "text/plain": [
       "   patientunitstayid  vent_start  ...  plateau_pressure_avg  plateau_pressure_min\n",
       "0             147985         539  ...             18.600000                  11.0\n",
       "1             153409          11  ...             28.307692                  23.0\n",
       "\n",
       "[2 rows x 14 columns]"
      ]
     },
     "execution_count": 25,
     "metadata": {
      "tags": []
     },
     "output_type": "execute_result"
    }
   ],
   "source": [
    "cols = ['patientunitstayid', 'vent_start', 'vent_end', 'vent_duration','over72h']\n",
    "\n",
    "df = ft.merge(plateau, on=cols, how='inner')\n",
    "print(len(df))\n",
    "df.head(2)"
   ]
  },
  {
   "cell_type": "code",
   "execution_count": 26,
   "metadata": {
    "colab": {
     "base_uri": "https://localhost:8080/",
     "height": 147
    },
    "executionInfo": {
     "elapsed": 23,
     "status": "ok",
     "timestamp": 1628822613466,
     "user": {
      "displayName": "Jinghui Liu",
      "photoUrl": "",
      "userId": "18293373264061014802"
     },
     "user_tz": -480
    },
    "id": "Eit1gbKXX5Vy",
    "outputId": "935e175a-9cd3-48e2-aae5-19b9e70b81bb"
   },
   "outputs": [
    {
     "name": "stdout",
     "output_type": "stream",
     "text": [
      "21185\n"
     ]
    },
    {
     "data": {
      "text/html": [
       "<div>\n",
       "<style scoped>\n",
       "    .dataframe tbody tr th:only-of-type {\n",
       "        vertical-align: middle;\n",
       "    }\n",
       "\n",
       "    .dataframe tbody tr th {\n",
       "        vertical-align: top;\n",
       "    }\n",
       "\n",
       "    .dataframe thead th {\n",
       "        text-align: right;\n",
       "    }\n",
       "</style>\n",
       "<table border=\"1\" class=\"dataframe\">\n",
       "  <thead>\n",
       "    <tr style=\"text-align: right;\">\n",
       "      <th></th>\n",
       "      <th>patientunitstayid</th>\n",
       "      <th>vent_start</th>\n",
       "      <th>vent_end</th>\n",
       "      <th>vent_duration</th>\n",
       "      <th>over72h</th>\n",
       "      <th>lactate_max</th>\n",
       "      <th>lactate_min</th>\n",
       "      <th>lactate_avg</th>\n",
       "      <th>resp_rate_max</th>\n",
       "      <th>resp_rate_min</th>\n",
       "      <th>resp_rate_avg</th>\n",
       "      <th>plateau_pressure_max</th>\n",
       "      <th>plateau_pressure_avg</th>\n",
       "      <th>plateau_pressure_min</th>\n",
       "      <th>age</th>\n",
       "    </tr>\n",
       "  </thead>\n",
       "  <tbody>\n",
       "    <tr>\n",
       "      <th>0</th>\n",
       "      <td>147985</td>\n",
       "      <td>539</td>\n",
       "      <td>2506</td>\n",
       "      <td>32.783333</td>\n",
       "      <td>0</td>\n",
       "      <td>12.6</td>\n",
       "      <td>4.0</td>\n",
       "      <td>7.933333</td>\n",
       "      <td>29.0</td>\n",
       "      <td>0.0</td>\n",
       "      <td>13.808824</td>\n",
       "      <td>26.0</td>\n",
       "      <td>18.600000</td>\n",
       "      <td>11.0</td>\n",
       "      <td>78</td>\n",
       "    </tr>\n",
       "    <tr>\n",
       "      <th>1</th>\n",
       "      <td>153409</td>\n",
       "      <td>11</td>\n",
       "      <td>3132</td>\n",
       "      <td>52.016667</td>\n",
       "      <td>0</td>\n",
       "      <td>14.1</td>\n",
       "      <td>10.9</td>\n",
       "      <td>12.233333</td>\n",
       "      <td>31.0</td>\n",
       "      <td>19.0</td>\n",
       "      <td>24.964912</td>\n",
       "      <td>31.0</td>\n",
       "      <td>28.307692</td>\n",
       "      <td>23.0</td>\n",
       "      <td>58</td>\n",
       "    </tr>\n",
       "  </tbody>\n",
       "</table>\n",
       "</div>"
      ],
      "text/plain": [
       "   patientunitstayid  vent_start  ...  plateau_pressure_min  age\n",
       "0             147985         539  ...                  11.0   78\n",
       "1             153409          11  ...                  23.0   58\n",
       "\n",
       "[2 rows x 15 columns]"
      ]
     },
     "execution_count": 26,
     "metadata": {
      "tags": []
     },
     "output_type": "execute_result"
    }
   ],
   "source": [
    "df = df.merge(age, how='left')\n",
    "print(len(df))\n",
    "df.head(2)"
   ]
  },
  {
   "cell_type": "code",
   "execution_count": 27,
   "metadata": {
    "executionInfo": {
     "elapsed": 390,
     "status": "ok",
     "timestamp": 1628822648696,
     "user": {
      "displayName": "Jinghui Liu",
      "photoUrl": "",
      "userId": "18293373264061014802"
     },
     "user_tz": -480
    },
    "id": "AAO5cBtdYP5U"
   },
   "outputs": [],
   "source": [
    "df.to_csv('eicu_some_ft.csv', index=False)"
   ]
  },
  {
   "cell_type": "code",
   "execution_count": 21,
   "metadata": {
    "executionInfo": {
     "elapsed": 4,
     "status": "ok",
     "timestamp": 1628822352444,
     "user": {
      "displayName": "Jinghui Liu",
      "photoUrl": "",
      "userId": "18293373264061014802"
     },
     "user_tz": -480
    },
    "id": "YORHQwAVVLFU"
   },
   "outputs": [],
   "source": [
    "#### ignore everything below"
   ]
  },
  {
   "cell_type": "markdown",
   "metadata": {
    "id": "fWY25uUTVOE4"
   },
   "source": [
    " # ignore everything below"
   ]
  },
  {
   "cell_type": "markdown",
   "metadata": {
    "id": "05HD-u4hd1_a"
   },
   "source": [
    "apsiii, peep_min, resp_rate_min\n",
    "\n",
    "(Neuroblocker, vasopressin), ph_max, height\n",
    "co2_total_min, co2_total_avg, temp_max, fio2_min\n",
    "plateau_pressure_max, peep_min\n",
    "\n",
    "gcs_score, acidbase_score"
   ]
  },
  {
   "cell_type": "markdown",
   "metadata": {
    "id": "Ti_2T6d0eXJ0"
   },
   "source": [
    "resp min, ph max, "
   ]
  },
  {
   "cell_type": "code",
   "execution_count": null,
   "metadata": {
    "id": "zE1-okY7eNkY"
   },
   "outputs": [],
   "source": [
    "sql_features = f'''\n",
    "with bg_ft as (\n",
    "    SELECT \n",
    "    v.patientunitstayid, \n",
    "    bg.pH #, peep\n",
    "    FROM `{view_id}` v\n",
    "    left join `physionet-data.eicu_crd_derived.pivoted_bg` bg\n",
    "    on v.patientunitstayid=bg.patientunitstayid\n",
    "    where bg.chartoffset <= v.vent_start + {HOUR_GAP}*60 and bg.chartoffset >= v.vent_start\n",
    ")\n",
    "\n",
    ", vs_ft as (\n",
    "    SELECT \n",
    "    v.patientunitstayid, \n",
    "    vt.heartrate, vt.temperature, vt.respiratoryrate, vt.spo2\n",
    "    FROM `{view_id}` v\n",
    "    left join `physionet-data.eicu_crd_derived.pivoted_vital` vt\n",
    "    on v.patientunitstayid = vt.patientunitstayid\n",
    "    where vt.chartoffset <= v.vent_start + {HOUR_GAP}*60 and vt.chartoffset >= v.vent_start\n",
    ")\n",
    "select \n",
    "v.*\n",
    "# v.patientunitstayid\n",
    ",max(b.pH) ph_max\n",
    ", min(s.spo2) spo2_min\n",
    "\n",
    ",min(s.heartrate) hr_min\n",
    ",max(s.heartrate) hr_max\n",
    ",min(s.respiratoryrate) resp_min\n",
    ",max(s.respiratoryrate) resp_max\n",
    ",min(s.temperature) temp_min \n",
    ",max(s.temperature) temp_max\n",
    "\n",
    "from `{view_id}` v\n",
    "left join bg_ft b on b.patientunitstayid=v.patientunitstayid\n",
    "left join vs_ft s on s.patientunitstayid=v.patientunitstayid\n",
    "group by patientunitstayid, vent_start, vent_end, vent_duration, over72h\n",
    "\n",
    "'''"
   ]
  },
  {
   "cell_type": "code",
   "execution_count": null,
   "metadata": {
    "id": "q3-15ypffup0"
   },
   "outputs": [],
   "source": [
    "sql_ft_new = f'''\n",
    "with lab as (\n",
    "  SELECT \n",
    "  v.patientunitstayid \n",
    "  ,glucose ,TotalCO2 \n",
    "  \n",
    "  FROM `{view_id}` v\n",
    "  left join `physionet-data.eicu_crd_derived.pivoted_lab` l\n",
    "  on v.patientunitstayid =l.patientunitstayid \n",
    "  where l.chartoffset <= v.vent_start + {HOUR_GAP}*60 and l.chartoffset >=v.vent_start \n",
    "), bp as (\n",
    "  SELECT\n",
    "  v.patientunitstayid \n",
    "  ,nibp_mean \n",
    "  \n",
    "  , case \n",
    "    when nibp_mean is null and ibp_mean is null then null\n",
    "    when nibp_mean is null or ibp_mean is null then coalesce(nibp_mean, ibp_mean)\n",
    "    else (nibp_mean+ibp_mean)/2\n",
    "\n",
    "    end as bp_mean\n",
    "  FROM `{view_id}` v\n",
    "  left join `physionet-data.eicu_crd_derived.pivoted_vital` b\n",
    "  on v.patientunitstayid =b.patientunitstayid \n",
    "  where b.chartoffset <= v.vent_start + {HOUR_GAP}*60 and b.chartoffset >=v.vent_start \n",
    ")\n",
    "select \n",
    "v.patientunitstayid\n",
    ", max(glucose) glucose_max\n",
    ", min(glucose) glucose_min\n",
    ", max(TotalCO2) co2_total_max\n",
    ", avg(TotalCO2) co2_total_avg\n",
    ", min(TotalCO2) co2_total_min\n",
    "\n",
    ", max(bp_mean) mbp_arterial_max\n",
    ", min(nibp_mean) mbp_ni_min\n",
    "\n",
    "FROM `{view_id}` v\n",
    "left join lab l on v.patientunitstayid =l.patientunitstayid \n",
    "left join bp b on v.patientunitstayid =b.patientunitstayid \n",
    "group by patientunitstayid, vent_start, vent_end, vent_duration, over72h\n",
    "\n",
    "'''"
   ]
  },
  {
   "cell_type": "code",
   "execution_count": null,
   "metadata": {
    "id": "vRxnOl6ngie-"
   },
   "outputs": [],
   "source": [
    "sql_apsiii = f'''\n",
    "select\n",
    "v.patientunitstayid\n",
    ",avg(acutephysiologyscore) apsiii\n",
    "\n",
    "FROM `{view_id}` v\n",
    "left join `physionet-data.eicu_crd.apachepatientresult` a\n",
    "on a.patientunitstayid =v.patientunitstayid \n",
    "group by patientunitstayid, vent_start, vent_end, vent_duration, over72h\n",
    "'''"
   ]
  },
  {
   "cell_type": "code",
   "execution_count": null,
   "metadata": {
    "colab": {
     "base_uri": "https://localhost:8080/"
    },
    "executionInfo": {
     "elapsed": 31057,
     "status": "ok",
     "timestamp": 1620134752977,
     "user": {
      "displayName": "Jinghui Liu",
      "photoUrl": "",
      "userId": "18293373264061014802"
     },
     "user_tz": -480
    },
    "id": "gLoFxQQPgkpX",
    "outputId": "15e0946a-9b01-4707-a250-68d927fc4fb5"
   },
   "outputs": [
    {
     "name": "stdout",
     "output_type": "stream",
     "text": [
      "21185 rows\n",
      "   patientunitstayid  glucose_max  ...  mbp_arterial_max  mbp_ni_min\n",
      "0             181480        142.0  ...             104.0       104.0\n",
      "1             225680        173.0  ...             130.0       105.0\n",
      "2             240457        211.0  ...             122.0        88.0\n",
      "3             257541        239.0  ...             101.0        94.0\n",
      "4             268004         93.0  ...              86.5        90.0\n",
      "\n",
      "[5 rows x 8 columns]\n"
     ]
    }
   ],
   "source": [
    "df_ft1 = run_query(sql_features)\n",
    "df_ft_new = run_query(sql_ft_new)\n",
    "df_aps = run_query(sql_apsiii)"
   ]
  },
  {
   "cell_type": "code",
   "execution_count": null,
   "metadata": {
    "id": "bSkX53yCiObQ"
   },
   "outputs": [],
   "source": [
    "df1 = df_ft1.merge(df_ft_new, \n",
    "                on=['patientunitstayid'], how='left').merge(df_aps, \n",
    "                                                      on=['patientunitstayid'], how='left')"
   ]
  },
  {
   "cell_type": "code",
   "execution_count": null,
   "metadata": {
    "colab": {
     "base_uri": "https://localhost:8080/",
     "height": 439
    },
    "executionInfo": {
     "elapsed": 1212,
     "status": "ok",
     "timestamp": 1620134846350,
     "user": {
      "displayName": "Jinghui Liu",
      "photoUrl": "",
      "userId": "18293373264061014802"
     },
     "user_tz": -480
    },
    "id": "26n_Y6AliTyA",
    "outputId": "b2527217-91bb-476a-88d1-496f3a36f0df"
   },
   "outputs": [
    {
     "data": {
      "text/html": [
       "<div>\n",
       "<style scoped>\n",
       "    .dataframe tbody tr th:only-of-type {\n",
       "        vertical-align: middle;\n",
       "    }\n",
       "\n",
       "    .dataframe tbody tr th {\n",
       "        vertical-align: top;\n",
       "    }\n",
       "\n",
       "    .dataframe thead th {\n",
       "        text-align: right;\n",
       "    }\n",
       "</style>\n",
       "<table border=\"1\" class=\"dataframe\">\n",
       "  <thead>\n",
       "    <tr style=\"text-align: right;\">\n",
       "      <th></th>\n",
       "      <th>patientunitstayid</th>\n",
       "      <th>vent_start</th>\n",
       "      <th>vent_end</th>\n",
       "      <th>vent_duration</th>\n",
       "      <th>over72h</th>\n",
       "      <th>ph_max</th>\n",
       "      <th>spo2_min</th>\n",
       "      <th>hr_min</th>\n",
       "      <th>hr_max</th>\n",
       "      <th>resp_min</th>\n",
       "      <th>resp_max</th>\n",
       "      <th>temp_min</th>\n",
       "      <th>temp_max</th>\n",
       "      <th>glucose_max</th>\n",
       "      <th>glucose_min</th>\n",
       "      <th>co2_total_max</th>\n",
       "      <th>co2_total_avg</th>\n",
       "      <th>co2_total_min</th>\n",
       "      <th>mbp_arterial_max</th>\n",
       "      <th>mbp_ni_min</th>\n",
       "      <th>apsiii</th>\n",
       "    </tr>\n",
       "  </thead>\n",
       "  <tbody>\n",
       "    <tr>\n",
       "      <th>0</th>\n",
       "      <td>177241</td>\n",
       "      <td>259</td>\n",
       "      <td>1836</td>\n",
       "      <td>26.283333</td>\n",
       "      <td>0</td>\n",
       "      <td>7.340</td>\n",
       "      <td>86.0</td>\n",
       "      <td>104.0</td>\n",
       "      <td>140.0</td>\n",
       "      <td>35.0</td>\n",
       "      <td>36.0</td>\n",
       "      <td>35.90000</td>\n",
       "      <td>36.90000</td>\n",
       "      <td>173.0</td>\n",
       "      <td>162.0</td>\n",
       "      <td>NaN</td>\n",
       "      <td>NaN</td>\n",
       "      <td>NaN</td>\n",
       "      <td>116.0</td>\n",
       "      <td>NaN</td>\n",
       "      <td>NaN</td>\n",
       "    </tr>\n",
       "    <tr>\n",
       "      <th>1</th>\n",
       "      <td>188948</td>\n",
       "      <td>2638</td>\n",
       "      <td>6630</td>\n",
       "      <td>66.533333</td>\n",
       "      <td>0</td>\n",
       "      <td>7.240</td>\n",
       "      <td>90.0</td>\n",
       "      <td>96.0</td>\n",
       "      <td>144.0</td>\n",
       "      <td>36.0</td>\n",
       "      <td>36.0</td>\n",
       "      <td>36.60000</td>\n",
       "      <td>37.20000</td>\n",
       "      <td>151.0</td>\n",
       "      <td>151.0</td>\n",
       "      <td>NaN</td>\n",
       "      <td>NaN</td>\n",
       "      <td>NaN</td>\n",
       "      <td>175.5</td>\n",
       "      <td>56.0</td>\n",
       "      <td>65.0</td>\n",
       "    </tr>\n",
       "    <tr>\n",
       "      <th>2</th>\n",
       "      <td>224432</td>\n",
       "      <td>3573</td>\n",
       "      <td>7952</td>\n",
       "      <td>72.983333</td>\n",
       "      <td>1</td>\n",
       "      <td>7.170</td>\n",
       "      <td>97.0</td>\n",
       "      <td>114.0</td>\n",
       "      <td>134.0</td>\n",
       "      <td>28.0</td>\n",
       "      <td>28.0</td>\n",
       "      <td>38.20000</td>\n",
       "      <td>40.70000</td>\n",
       "      <td>256.0</td>\n",
       "      <td>185.0</td>\n",
       "      <td>NaN</td>\n",
       "      <td>NaN</td>\n",
       "      <td>NaN</td>\n",
       "      <td>81.0</td>\n",
       "      <td>NaN</td>\n",
       "      <td>75.0</td>\n",
       "    </tr>\n",
       "    <tr>\n",
       "      <th>3</th>\n",
       "      <td>257535</td>\n",
       "      <td>134</td>\n",
       "      <td>6545</td>\n",
       "      <td>106.850000</td>\n",
       "      <td>1</td>\n",
       "      <td>7.300</td>\n",
       "      <td>86.0</td>\n",
       "      <td>89.0</td>\n",
       "      <td>102.0</td>\n",
       "      <td>28.0</td>\n",
       "      <td>38.0</td>\n",
       "      <td>36.33624</td>\n",
       "      <td>37.94748</td>\n",
       "      <td>115.0</td>\n",
       "      <td>81.0</td>\n",
       "      <td>NaN</td>\n",
       "      <td>NaN</td>\n",
       "      <td>NaN</td>\n",
       "      <td>117.0</td>\n",
       "      <td>60.0</td>\n",
       "      <td>67.0</td>\n",
       "    </tr>\n",
       "    <tr>\n",
       "      <th>4</th>\n",
       "      <td>349218</td>\n",
       "      <td>1332</td>\n",
       "      <td>6699</td>\n",
       "      <td>89.450000</td>\n",
       "      <td>1</td>\n",
       "      <td>7.461</td>\n",
       "      <td>94.0</td>\n",
       "      <td>128.0</td>\n",
       "      <td>158.0</td>\n",
       "      <td>26.0</td>\n",
       "      <td>26.0</td>\n",
       "      <td>35.80000</td>\n",
       "      <td>37.20000</td>\n",
       "      <td>152.0</td>\n",
       "      <td>117.0</td>\n",
       "      <td>NaN</td>\n",
       "      <td>NaN</td>\n",
       "      <td>NaN</td>\n",
       "      <td>100.0</td>\n",
       "      <td>22.0</td>\n",
       "      <td>116.0</td>\n",
       "    </tr>\n",
       "    <tr>\n",
       "      <th>...</th>\n",
       "      <td>...</td>\n",
       "      <td>...</td>\n",
       "      <td>...</td>\n",
       "      <td>...</td>\n",
       "      <td>...</td>\n",
       "      <td>...</td>\n",
       "      <td>...</td>\n",
       "      <td>...</td>\n",
       "      <td>...</td>\n",
       "      <td>...</td>\n",
       "      <td>...</td>\n",
       "      <td>...</td>\n",
       "      <td>...</td>\n",
       "      <td>...</td>\n",
       "      <td>...</td>\n",
       "      <td>...</td>\n",
       "      <td>...</td>\n",
       "      <td>...</td>\n",
       "      <td>...</td>\n",
       "      <td>...</td>\n",
       "      <td>...</td>\n",
       "    </tr>\n",
       "    <tr>\n",
       "      <th>21180</th>\n",
       "      <td>3131850</td>\n",
       "      <td>78</td>\n",
       "      <td>3198</td>\n",
       "      <td>52.000000</td>\n",
       "      <td>0</td>\n",
       "      <td>7.540</td>\n",
       "      <td>95.0</td>\n",
       "      <td>76.0</td>\n",
       "      <td>100.0</td>\n",
       "      <td>24.0</td>\n",
       "      <td>35.0</td>\n",
       "      <td>36.60000</td>\n",
       "      <td>37.20000</td>\n",
       "      <td>390.0</td>\n",
       "      <td>136.0</td>\n",
       "      <td>NaN</td>\n",
       "      <td>NaN</td>\n",
       "      <td>NaN</td>\n",
       "      <td>93.0</td>\n",
       "      <td>54.0</td>\n",
       "      <td>117.0</td>\n",
       "    </tr>\n",
       "    <tr>\n",
       "      <th>21181</th>\n",
       "      <td>3202275</td>\n",
       "      <td>868</td>\n",
       "      <td>9839</td>\n",
       "      <td>149.516667</td>\n",
       "      <td>1</td>\n",
       "      <td>NaN</td>\n",
       "      <td>97.0</td>\n",
       "      <td>71.0</td>\n",
       "      <td>100.0</td>\n",
       "      <td>24.0</td>\n",
       "      <td>35.0</td>\n",
       "      <td>37.90000</td>\n",
       "      <td>39.70000</td>\n",
       "      <td>162.0</td>\n",
       "      <td>146.0</td>\n",
       "      <td>NaN</td>\n",
       "      <td>NaN</td>\n",
       "      <td>NaN</td>\n",
       "      <td>117.0</td>\n",
       "      <td>80.0</td>\n",
       "      <td>113.0</td>\n",
       "    </tr>\n",
       "    <tr>\n",
       "      <th>21182</th>\n",
       "      <td>3223531</td>\n",
       "      <td>260</td>\n",
       "      <td>12862</td>\n",
       "      <td>210.033333</td>\n",
       "      <td>1</td>\n",
       "      <td>7.420</td>\n",
       "      <td>80.0</td>\n",
       "      <td>48.0</td>\n",
       "      <td>82.0</td>\n",
       "      <td>24.0</td>\n",
       "      <td>42.0</td>\n",
       "      <td>37.10000</td>\n",
       "      <td>38.50000</td>\n",
       "      <td>151.0</td>\n",
       "      <td>111.0</td>\n",
       "      <td>NaN</td>\n",
       "      <td>NaN</td>\n",
       "      <td>NaN</td>\n",
       "      <td>95.0</td>\n",
       "      <td>78.0</td>\n",
       "      <td>60.0</td>\n",
       "    </tr>\n",
       "    <tr>\n",
       "      <th>21183</th>\n",
       "      <td>3239782</td>\n",
       "      <td>490</td>\n",
       "      <td>8006</td>\n",
       "      <td>125.266667</td>\n",
       "      <td>1</td>\n",
       "      <td>7.440</td>\n",
       "      <td>90.0</td>\n",
       "      <td>73.0</td>\n",
       "      <td>100.0</td>\n",
       "      <td>24.0</td>\n",
       "      <td>40.0</td>\n",
       "      <td>37.10000</td>\n",
       "      <td>39.20000</td>\n",
       "      <td>112.0</td>\n",
       "      <td>93.0</td>\n",
       "      <td>NaN</td>\n",
       "      <td>NaN</td>\n",
       "      <td>NaN</td>\n",
       "      <td>117.0</td>\n",
       "      <td>34.0</td>\n",
       "      <td>60.0</td>\n",
       "    </tr>\n",
       "    <tr>\n",
       "      <th>21184</th>\n",
       "      <td>3242665</td>\n",
       "      <td>165</td>\n",
       "      <td>4242</td>\n",
       "      <td>67.950000</td>\n",
       "      <td>0</td>\n",
       "      <td>7.310</td>\n",
       "      <td>87.0</td>\n",
       "      <td>72.0</td>\n",
       "      <td>103.0</td>\n",
       "      <td>24.0</td>\n",
       "      <td>26.0</td>\n",
       "      <td>35.00000</td>\n",
       "      <td>37.20000</td>\n",
       "      <td>137.0</td>\n",
       "      <td>107.0</td>\n",
       "      <td>NaN</td>\n",
       "      <td>NaN</td>\n",
       "      <td>NaN</td>\n",
       "      <td>100.0</td>\n",
       "      <td>77.0</td>\n",
       "      <td>111.0</td>\n",
       "    </tr>\n",
       "  </tbody>\n",
       "</table>\n",
       "<p>21185 rows × 21 columns</p>\n",
       "</div>"
      ],
      "text/plain": [
       "       patientunitstayid  vent_start  ...  mbp_ni_min  apsiii\n",
       "0                 177241         259  ...         NaN     NaN\n",
       "1                 188948        2638  ...        56.0    65.0\n",
       "2                 224432        3573  ...         NaN    75.0\n",
       "3                 257535         134  ...        60.0    67.0\n",
       "4                 349218        1332  ...        22.0   116.0\n",
       "...                  ...         ...  ...         ...     ...\n",
       "21180            3131850          78  ...        54.0   117.0\n",
       "21181            3202275         868  ...        80.0   113.0\n",
       "21182            3223531         260  ...        78.0    60.0\n",
       "21183            3239782         490  ...        34.0    60.0\n",
       "21184            3242665         165  ...        77.0   111.0\n",
       "\n",
       "[21185 rows x 21 columns]"
      ]
     },
     "execution_count": 27,
     "metadata": {
      "tags": []
     },
     "output_type": "execute_result"
    }
   ],
   "source": [
    "df1"
   ]
  },
  {
   "cell_type": "markdown",
   "metadata": {
    "id": "TI3w33AKfvSH"
   },
   "source": [
    "peep_min, fio2_min, plateau_pressure_max"
   ]
  },
  {
   "cell_type": "code",
   "execution_count": null,
   "metadata": {
    "colab": {
     "base_uri": "https://localhost:8080/"
    },
    "executionInfo": {
     "elapsed": 4679,
     "status": "ok",
     "timestamp": 1620134441153,
     "user": {
      "displayName": "Jinghui Liu",
      "photoUrl": "",
      "userId": "18293373264061014802"
     },
     "user_tz": -480
    },
    "id": "FBTKXfNDelO2",
    "outputId": "e1ad57b4-dc1c-49ac-c12b-f9a25a011c2d"
   },
   "outputs": [
    {
     "name": "stdout",
     "output_type": "stream",
     "text": [
      "21185 rows\n",
      "   patientunitstayid  vent_start  vent_end  ...  peep_max   peep_avg  peep_min\n",
      "0             141233         225      1672  ...      55.0   9.545455       5.0\n",
      "1             161176         266     10138  ...      11.0  11.000000      11.0\n",
      "2             168134        1782      9577  ...       3.0   3.000000       3.0\n",
      "3             201456         953      5878  ...      22.0  16.333333      12.0\n",
      "4             221911          60      3734  ...      16.0   7.000000       5.0\n",
      "\n",
      "[5 rows x 8 columns]\n"
     ]
    }
   ],
   "source": [
    "sql_eicu_peep = f'''\n",
    "\n",
    "with \n",
    "resp as (\n",
    "SELECT patientunitstayid,\n",
    "respchartoffset chartoffset\n",
    ",respchartvalue peep\n",
    "FROM `physionet-data.eicu_crd.respiratorycharting` \n",
    "where lower(respchartvaluelabel) like 'peep'\n",
    ")\n",
    ", peep_ft1 as (\n",
    "  select \n",
    "  v.patientunitstayid, safe_cast(peep as float64) peep\n",
    "  from `{view_id}` v\n",
    "  left join resp p on v.patientunitstayid=p.patientunitstayid\n",
    "  where p.chartoffset <= v.vent_start+{HOUR_GAP}*60 and p.chartoffset >= v.vent_start and safe_cast(peep as float64) < 100\n",
    ")\n",
    ", peep_ft2 as (\n",
    "    SELECT \n",
    "    v.patientunitstayid, peep\n",
    "    FROM `{view_id}` v\n",
    "    left join `physionet-data.eicu_crd_derived.pivoted_bg` bg\n",
    "    on v.patientunitstayid=bg.patientunitstayid\n",
    "    where bg.chartoffset <= v.vent_start+{HOUR_GAP}*60 and bg.chartoffset >= v.vent_start\n",
    ")\n",
    ", peep_union as (\n",
    "  select * from peep_ft1 \n",
    "  \n",
    "  union all\n",
    "\n",
    "  select * from peep_ft2\n",
    ")\n",
    "\n",
    "select \n",
    "v.*\n",
    ", max(peep) peep_max\n",
    ", avg(peep) peep_avg\n",
    ", min(peep) peep_min\n",
    "\n",
    "from `{view_id}` v\n",
    "left join peep_union p on p.patientunitstayid=v.patientunitstayid\n",
    "group by patientunitstayid, vent_start, vent_end, vent_duration, over72h\n",
    "\n",
    "'''\n",
    "peep = run_query(sql_eicu_peep)"
   ]
  },
  {
   "cell_type": "code",
   "execution_count": null,
   "metadata": {
    "colab": {
     "base_uri": "https://localhost:8080/"
    },
    "executionInfo": {
     "elapsed": 53468,
     "status": "ok",
     "timestamp": 1620133816315,
     "user": {
      "displayName": "Jinghui Liu",
      "photoUrl": "",
      "userId": "18293373264061014802"
     },
     "user_tz": -480
    },
    "id": "KU5Bc17EfnP2",
    "outputId": "70a9f7d1-84be-4189-c1bd-4a2dee515118"
   },
   "outputs": [
    {
     "name": "stdout",
     "output_type": "stream",
     "text": [
      "21185 rows\n",
      "   patientunitstayid  vent_start  vent_end  ...  fio2_max  fio2_mean  fio2_min\n",
      "0             145464        1707      7622  ...      50.0  42.500000      40.0\n",
      "1             151860         451      3895  ...     100.0  91.666667      70.0\n",
      "2             153349         316      2726  ...     100.0  92.500000      80.0\n",
      "3             153440         197      4050  ...      90.0  66.250000      50.0\n",
      "4             154516         848     13748  ...     100.0  67.000000      55.0\n",
      "\n",
      "[5 rows x 8 columns]\n"
     ]
    }
   ],
   "source": [
    "sql_eicu_fio2=f'''\n",
    "\n",
    "with tmp as (\n",
    "SELECT \n",
    "patientunitstayid ,\n",
    "respchartoffset chartoffset, \n",
    "respchartvaluelabel\n",
    ", safe_cast(respchartvalue as float64) v\n",
    "FROM `physionet-data.eicu_crd.respiratorycharting` where lower(respchartvaluelabel) like 'fio2%' # Fio2, Fio2 (%)  \n",
    "), \n",
    "\n",
    "tmp2 as ( select\n",
    "patientunitstayid, chartoffset\n",
    ",case when v>=0.2 and v<=1 then v*100 else null end value1\n",
    ",case when v>=20 and v<=100 then v else null end value2\n",
    "from tmp\n",
    "-- where safe_cast(v as float64) >=0 and safe_cast(v as float64) <2\n",
    ") \n",
    "\n",
    ", fio2_1 as (\n",
    "select\n",
    "patientunitstayid , chartoffset, value1 fio2\n",
    "from tmp2 where value1 is not null)\n",
    ", fio2_2 as ( \n",
    "select\n",
    "patientunitstayid , chartoffset, value1 fio2\n",
    "from tmp2 where value2 is not null)\n",
    "\n",
    ", fio2_tmp_union as (\n",
    "  select * from fio2_1 \n",
    "  union all\n",
    "  select * from fio2_2\n",
    ")\n",
    "\n",
    ",fio2_resp as (\n",
    "select v.patientunitstayid, chartoffset, fio2\n",
    "from `{view_id}` v\n",
    "left join fio2_tmp_union f on v.patientunitstayid = f.patientunitstayid \n",
    "where f.chartoffset <= v.vent_start+{HOUR_GAP}*60 and f.chartoffset >= v.vent_start) \n",
    "\n",
    ",fio2_lab as (\n",
    "select v.patientunitstayid, chartoffset, fio2 * 100 fio2 \n",
    "from `{view_id}` v\n",
    "left join `physionet-data.eicu_crd_derived.pivoted_bg` f on v.patientunitstayid = f.patientunitstayid  \n",
    "where f.chartoffset <= v.vent_start+{HOUR_GAP}*60 and f.chartoffset >= v.vent_start )\n",
    "\n",
    ", fio2_union as (\n",
    "select * from fio2_resp \n",
    "union all\n",
    "select * from fio2_lab\n",
    ")\n",
    "select \n",
    "v.*\n",
    ", max(fio2) fio2_max\n",
    ", avg(fio2) fio2_mean\n",
    ", min(fio2) fio2_min\n",
    "\n",
    "from `{view_id}` v\n",
    "left join fio2_union f on f.patientunitstayid=v.patientunitstayid\n",
    "group by patientunitstayid, vent_start, vent_end, vent_duration, over72h\n",
    "'''\n",
    "\n",
    "fio2 = run_query(sql_eicu_fio2)"
   ]
  },
  {
   "cell_type": "code",
   "execution_count": null,
   "metadata": {
    "id": "oHvpt0_sWOfQ"
   },
   "outputs": [],
   "source": []
  },
  {
   "cell_type": "code",
   "execution_count": null,
   "metadata": {
    "colab": {
     "base_uri": "https://localhost:8080/"
    },
    "executionInfo": {
     "elapsed": 76734,
     "status": "ok",
     "timestamp": 1620133840246,
     "user": {
      "displayName": "Jinghui Liu",
      "photoUrl": "",
      "userId": "18293373264061014802"
     },
     "user_tz": -480
    },
    "id": "pQ9INdgsfqgs",
    "outputId": "19934fdb-a969-49ec-b4fa-c005b39c5918"
   },
   "outputs": [
    {
     "name": "stdout",
     "output_type": "stream",
     "text": [
      "21185 rows\n",
      "   patientunitstayid  vent_start  ...  plateau_pr_mean  plateau_pr_min\n",
      "0            2310888         494  ...        39.958333            33.0\n",
      "1            3243843         343  ...        11.333333            10.0\n",
      "2            2358786         390  ...        19.200000            17.8\n",
      "3            3102418        1851  ...        20.750000             4.5\n",
      "4            3191829           4  ...        14.600000            14.0\n",
      "\n",
      "[5 rows x 8 columns]\n"
     ]
    }
   ],
   "source": [
    "sql_eicu_plateau=f'''\n",
    "with tmp as (\n",
    "SELECT \n",
    "patientunitstayid, \n",
    "respchartentryoffset chartoffset,\n",
    "respchartvaluelabel, safe_cast(respchartvalue as float64) plateau\n",
    "-- distinct respchartvaluelabel\n",
    "FROM `physionet-data.eicu_crd.respiratorycharting` where lower(respchartvaluelabel) like '%plateau%'\n",
    ")\n",
    ", plt as (\n",
    "select v.patientunitstayid , plateau\n",
    "FROM `{view_id}` v\n",
    "left join tmp t on t.patientunitstayid = v.patientunitstayid \n",
    "where t.chartoffset <= v.vent_start+{HOUR_GAP}*60 and t.chartoffset >= v.vent_start\n",
    ")\n",
    "select \n",
    "v.*\n",
    ", max(plateau) plateau_pr_max\n",
    ", avg(plateau) plateau_pr_mean\n",
    ", min(plateau) plateau_pr_min\n",
    "\n",
    "from `{view_id}` v\n",
    "left join plt p on p.patientunitstayid=v.patientunitstayid\n",
    "group by patientunitstayid, vent_start, vent_end, vent_duration, over72h\n",
    "\n",
    "\n",
    "'''\n",
    "\n",
    "plateau = run_query(sql_eicu_plateau)\n"
   ]
  },
  {
   "cell_type": "code",
   "execution_count": null,
   "metadata": {
    "colab": {
     "base_uri": "https://localhost:8080/"
    },
    "executionInfo": {
     "elapsed": 1150,
     "status": "ok",
     "timestamp": 1620134477652,
     "user": {
      "displayName": "Jinghui Liu",
      "photoUrl": "",
      "userId": "18293373264061014802"
     },
     "user_tz": -480
    },
    "id": "TD_cDO1Af1lu",
    "outputId": "6779911d-847b-4aa5-bcad-d1c8a3925e78"
   },
   "outputs": [
    {
     "data": {
      "text/plain": [
       "21185"
      ]
     },
     "execution_count": 18,
     "metadata": {
      "tags": []
     },
     "output_type": "execute_result"
    }
   ],
   "source": [
    "df2 = peep.merge(fio2, on=cols).merge(plateau, on=cols)\n",
    "len(df2)"
   ]
  },
  {
   "cell_type": "code",
   "execution_count": null,
   "metadata": {
    "colab": {
     "base_uri": "https://localhost:8080/"
    },
    "executionInfo": {
     "elapsed": 1188,
     "status": "ok",
     "timestamp": 1620134761207,
     "user": {
      "displayName": "Jinghui Liu",
      "photoUrl": "",
      "userId": "18293373264061014802"
     },
     "user_tz": -480
    },
    "id": "N-nEnP4uijbG",
    "outputId": "ab54451d-546c-4122-8b82-a9ae7e8cf402"
   },
   "outputs": [
    {
     "data": {
      "text/plain": [
       "Index(['patientunitstayid', 'vent_start', 'vent_end', 'vent_duration',\n",
       "       'over72h', 'ph_max', 'spo2_min', 'hr_min', 'hr_max', 'resp_min',\n",
       "       'resp_max', 'temp_min', 'temp_max', 'glucose_max', 'glucose_min',\n",
       "       'co2_total_max', 'co2_total_avg', 'co2_total_min', 'mbp_arterial_max',\n",
       "       'mbp_ni_min', 'apsiii'],\n",
       "      dtype='object')"
      ]
     },
     "execution_count": 25,
     "metadata": {
      "tags": []
     },
     "output_type": "execute_result"
    }
   ],
   "source": [
    "df1.columns"
   ]
  },
  {
   "cell_type": "code",
   "execution_count": null,
   "metadata": {
    "colab": {
     "base_uri": "https://localhost:8080/"
    },
    "executionInfo": {
     "elapsed": 1356,
     "status": "ok",
     "timestamp": 1620134764942,
     "user": {
      "displayName": "Jinghui Liu",
      "photoUrl": "",
      "userId": "18293373264061014802"
     },
     "user_tz": -480
    },
    "id": "5kMzGWe7imzO",
    "outputId": "9cfeccce-30b2-4162-d08f-67bd3b07c170"
   },
   "outputs": [
    {
     "data": {
      "text/plain": [
       "Index(['patientunitstayid', 'vent_start', 'vent_end', 'vent_duration',\n",
       "       'over72h', 'peep_max', 'peep_avg', 'peep_min', 'fio2_max', 'fio2_mean',\n",
       "       'fio2_min', 'plateau_pr_max', 'plateau_pr_mean', 'plateau_pr_min'],\n",
       "      dtype='object')"
      ]
     },
     "execution_count": 26,
     "metadata": {
      "tags": []
     },
     "output_type": "execute_result"
    }
   ],
   "source": [
    "df2.columns"
   ]
  },
  {
   "cell_type": "code",
   "execution_count": null,
   "metadata": {
    "id": "wdfHIAgBjpo8"
   },
   "outputs": [],
   "source": [
    "ft1=['apsiii', 'resp_min', 'ph_max', 'temp_max', 'co2_total_avg', 'co2_total_min']\n",
    "ft2=['fio2_min', 'plateau_pr_max', 'peep_min']"
   ]
  },
  {
   "cell_type": "code",
   "execution_count": null,
   "metadata": {
    "id": "70PObb72kMM7"
   },
   "outputs": [],
   "source": [
    "ndf1 = df1[cols+ft1].rename(columns={'resp_min':'resp_rate_min'})\n",
    "ndf2 = df2[cols+ft2].rename(columns={'plateau_pr_max':'plateau_pressure_max'})"
   ]
  },
  {
   "cell_type": "code",
   "execution_count": null,
   "metadata": {
    "colab": {
     "base_uri": "https://localhost:8080/"
    },
    "executionInfo": {
     "elapsed": 13240,
     "status": "ok",
     "timestamp": 1620135068075,
     "user": {
      "displayName": "Jinghui Liu",
      "photoUrl": "",
      "userId": "18293373264061014802"
     },
     "user_tz": -480
    },
    "id": "Qel5mhIskZE_",
    "outputId": "e43571d6-74a7-4ed0-d600-d60cbb0f7134"
   },
   "outputs": [
    {
     "name": "stdout",
     "output_type": "stream",
     "text": [
      "200859 rows\n",
      "   patientunitstayid patient_id  gender age  height\n",
      "0             486998  005-69938    Male  46  176.53\n",
      "1            2188050  021-37174  Female  49  163.80\n",
      "2            3034287  030-55344  Female  82  168.90\n",
      "3            3036294  030-38039  Female  78  163.50\n",
      "4            3125153  030-60229  Female  82  147.30\n"
     ]
    }
   ],
   "source": [
    "sql_demo = '''\n",
    "select \n",
    "patientunitstayid, \n",
    "uniquepid patient_id,\n",
    "# patienthealthsystemstayid hospital_stay_id, \n",
    "# hospitalid hospital_id, \n",
    "# unitdischargeoffset,\n",
    "# hospitaldischargeoffset,\n",
    "# unitdischargestatus, \n",
    "# hospitaldischargestatus, \n",
    "gender, age,\n",
    "admissionheight height\n",
    " from `physionet-data.eicu_crd.patient` \n",
    "'''\n",
    "# where patientunitstayid in ({})\n",
    "# '''.format(','.join(icustay_ids))\n",
    "\n",
    "demo = run_query(sql_demo)"
   ]
  },
  {
   "cell_type": "code",
   "execution_count": null,
   "metadata": {
    "colab": {
     "base_uri": "https://localhost:8080/"
    },
    "executionInfo": {
     "elapsed": 3276,
     "status": "ok",
     "timestamp": 1620135089559,
     "user": {
      "displayName": "Jinghui Liu",
      "photoUrl": "",
      "userId": "18293373264061014802"
     },
     "user_tz": -480
    },
    "id": "ERpQcLwZkrX9",
    "outputId": "a3e0f530-a004-4d61-e5ef-99988cf49d3d"
   },
   "outputs": [
    {
     "name": "stdout",
     "output_type": "stream",
     "text": [
      "24381 rows\n",
      "   patientunitstayid  vasopressor\n",
      "0             242082            1\n",
      "1             242290            1\n",
      "2             242319            1\n",
      "3             243334            1\n",
      "4             243445            1\n"
     ]
    }
   ],
   "source": [
    "sql_vaso = '''\n",
    "with tmp as (\n",
    "SELECT\n",
    "  patientunitstayid,\n",
    "  chartoffset,\n",
    "  vasopressor # has only 1 value\n",
    "FROM\n",
    "  `physionet-data.eicu_crd_derived.pivoted_treatment_vasopressor`\n",
    ") \n",
    "select patientunitstayid, max(vasopressor) as vasopressor\n",
    "from tmp group by patientunitstayid\n",
    "'''\n",
    "vaso = run_query(sql_vaso)"
   ]
  },
  {
   "cell_type": "code",
   "execution_count": null,
   "metadata": {
    "id": "vDSsxsd5k4hw"
   },
   "outputs": [],
   "source": [
    "mdf = ndf1.merge(ndf2, on=cols)"
   ]
  },
  {
   "cell_type": "code",
   "execution_count": null,
   "metadata": {
    "id": "62DthZPWmLMG"
   },
   "outputs": [],
   "source": [
    "mdf1 = mdf.merge(demo[['patientunitstayid', 'height']], how='left', on=['patientunitstayid'])"
   ]
  },
  {
   "cell_type": "code",
   "execution_count": null,
   "metadata": {
    "id": "C10iokr8l5ZI"
   },
   "outputs": [],
   "source": [
    "mdf2 = mdf1.merge(vaso, how='left', on=['patientunitstayid'])\n",
    "mdf2.vasopressor.fillna(0, inplace=True)"
   ]
  },
  {
   "cell_type": "code",
   "execution_count": null,
   "metadata": {
    "id": "4X_uH6LnlXPe"
   },
   "outputs": [],
   "source": [
    "l = mdf2.columns[5:]"
   ]
  },
  {
   "cell_type": "code",
   "execution_count": null,
   "metadata": {
    "colab": {
     "base_uri": "https://localhost:8080/"
    },
    "executionInfo": {
     "elapsed": 1663,
     "status": "ok",
     "timestamp": 1620135577842,
     "user": {
      "displayName": "Jinghui Liu",
      "photoUrl": "",
      "userId": "18293373264061014802"
     },
     "user_tz": -480
    },
    "id": "jHcnl4nwlNk7",
    "outputId": "1b610a93-f995-469f-eda0-4628cce22925"
   },
   "outputs": [
    {
     "name": "stdout",
     "output_type": "stream",
     "text": [
      "apsiii, resp_rate_min, ph_max, temp_max, co2_total_avg, co2_total_min, fio2_min, plateau_pressure_max, peep_min, height, vasopressor\n"
     ]
    }
   ],
   "source": [
    "print(', '.join(l))"
   ]
  },
  {
   "cell_type": "code",
   "execution_count": null,
   "metadata": {
    "colab": {
     "base_uri": "https://localhost:8080/"
    },
    "executionInfo": {
     "elapsed": 1165,
     "status": "ok",
     "timestamp": 1620135616074,
     "user": {
      "displayName": "Jinghui Liu",
      "photoUrl": "",
      "userId": "18293373264061014802"
     },
     "user_tz": -480
    },
    "id": "Qm7eGAkam4qg",
    "outputId": "e2662c97-807e-477e-9ae5-676160244c27"
   },
   "outputs": [
    {
     "data": {
      "text/plain": [
       "11"
      ]
     },
     "execution_count": 61,
     "metadata": {
      "tags": []
     },
     "output_type": "execute_result"
    }
   ],
   "source": [
    "len(l)"
   ]
  },
  {
   "cell_type": "code",
   "execution_count": null,
   "metadata": {
    "colab": {
     "base_uri": "https://localhost:8080/",
     "height": 17
    },
    "executionInfo": {
     "elapsed": 1234,
     "status": "ok",
     "timestamp": 1620135651754,
     "user": {
      "displayName": "Jinghui Liu",
      "photoUrl": "",
      "userId": "18293373264061014802"
     },
     "user_tz": -480
    },
    "id": "nMwflnV8mmHR",
    "outputId": "f2b3a0c9-e591-4682-aa86-f63c795b490d"
   },
   "outputs": [
    {
     "data": {
      "application/javascript": [
       "\n",
       "    async function download(id, filename, size) {\n",
       "      if (!google.colab.kernel.accessAllowed) {\n",
       "        return;\n",
       "      }\n",
       "      const div = document.createElement('div');\n",
       "      const label = document.createElement('label');\n",
       "      label.textContent = `Downloading \"${filename}\": `;\n",
       "      div.appendChild(label);\n",
       "      const progress = document.createElement('progress');\n",
       "      progress.max = size;\n",
       "      div.appendChild(progress);\n",
       "      document.body.appendChild(div);\n",
       "\n",
       "      const buffers = [];\n",
       "      let downloaded = 0;\n",
       "\n",
       "      const channel = await google.colab.kernel.comms.open(id);\n",
       "      // Send a message to notify the kernel that we're ready.\n",
       "      channel.send({})\n",
       "\n",
       "      for await (const message of channel.messages) {\n",
       "        // Send a message to notify the kernel that we're ready.\n",
       "        channel.send({})\n",
       "        if (message.buffers) {\n",
       "          for (const buffer of message.buffers) {\n",
       "            buffers.push(buffer);\n",
       "            downloaded += buffer.byteLength;\n",
       "            progress.value = downloaded;\n",
       "          }\n",
       "        }\n",
       "      }\n",
       "      const blob = new Blob(buffers, {type: 'application/binary'});\n",
       "      const a = document.createElement('a');\n",
       "      a.href = window.URL.createObjectURL(blob);\n",
       "      a.download = filename;\n",
       "      div.appendChild(a);\n",
       "      a.click();\n",
       "      div.remove();\n",
       "    }\n",
       "  "
      ],
      "text/plain": [
       "<IPython.core.display.Javascript object>"
      ]
     },
     "metadata": {
      "tags": []
     },
     "output_type": "display_data"
    },
    {
     "data": {
      "application/javascript": [
       "download(\"download_645f3880-e84f-43e2-bc00-84bbc47ef80b\", \"eicu_features.csv\", 1636318)"
      ],
      "text/plain": [
       "<IPython.core.display.Javascript object>"
      ]
     },
     "metadata": {
      "tags": []
     },
     "output_type": "display_data"
    }
   ],
   "source": [
    "mdf2.to_csv('eicu_features.csv', index=False)\n",
    "os.listdir('.')\n",
    "\n",
    "from google.colab import files\n",
    "files.download('eicu_features.csv') "
   ]
  },
  {
   "cell_type": "code",
   "execution_count": null,
   "metadata": {
    "id": "zJd55_3YnCSH"
   },
   "outputs": [],
   "source": []
  }
 ],
 "metadata": {
  "colab": {
   "authorship_tag": "ABX9TyOfvcT6aUGye5duijHHVE89",
   "collapsed_sections": [],
   "name": "20210813_eICU.ipynb",
   "provenance": []
  },
  "kernelspec": {
   "display_name": "Python 3 (ipykernel)",
   "language": "python",
   "name": "python3"
  },
  "language_info": {
   "codemirror_mode": {
    "name": "ipython",
    "version": 3
   },
   "file_extension": ".py",
   "mimetype": "text/x-python",
   "name": "python",
   "nbconvert_exporter": "python",
   "pygments_lexer": "ipython3",
   "version": "3.8.10"
  }
 },
 "nbformat": 4,
 "nbformat_minor": 1
}
