{
 "cells": [
  {
   "cell_type": "code",
   "execution_count": 1,
   "metadata": {
    "executionInfo": {
     "elapsed": 1329,
     "status": "ok",
     "timestamp": 1608600273675,
     "user": {
      "displayName": "Jinghui Liu",
      "photoUrl": "",
      "userId": "18293373264061014802"
     },
     "user_tz": -480
    },
    "id": "uC67x_drQgIy"
   },
   "outputs": [],
   "source": [
    "import os \n",
    "import pandas as pd\n",
    "\n",
    "project_id=\"upbeat-legacy-282508\"\n",
    "os.environ[\"GOOGLE_CLOUD_PROJECT\"]=project_id"
   ]
  },
  {
   "cell_type": "code",
   "execution_count": 2,
   "metadata": {
    "colab": {
     "base_uri": "https://localhost:8080/"
    },
    "executionInfo": {
     "elapsed": 17322,
     "status": "ok",
     "timestamp": 1608600291941,
     "user": {
      "displayName": "Jinghui Liu",
      "photoUrl": "",
      "userId": "18293373264061014802"
     },
     "user_tz": -480
    },
    "id": "X0PRH-vwQwdG",
    "outputId": "0170ef06-dc7b-41f5-e7b8-4aa56a95cc53"
   },
   "outputs": [
    {
     "name": "stdout",
     "output_type": "stream",
     "text": [
      "Authenticated\n"
     ]
    }
   ],
   "source": [
    "from google.colab import auth\n",
    "auth.authenticate_user()\n",
    "print('Authenticated')"
   ]
  },
  {
   "cell_type": "code",
   "execution_count": 3,
   "metadata": {
    "executionInfo": {
     "elapsed": 1519,
     "status": "ok",
     "timestamp": 1608600298249,
     "user": {
      "displayName": "Jinghui Liu",
      "photoUrl": "",
      "userId": "18293373264061014802"
     },
     "user_tz": -480
    },
    "id": "OWCOl9mTRLZ2"
   },
   "outputs": [],
   "source": [
    "def run_query(query):\n",
    "  df = pd.io.gbq.read_gbq(query, project_id=project_id, verbose=False, configuration={'query':{'useLegacySql': False}})\n",
    "  print(len(df), 'rows')\n",
    "  print(df.head())\n",
    "  return df"
   ]
  },
  {
   "cell_type": "code",
   "execution_count": 4,
   "metadata": {
    "colab": {
     "base_uri": "https://localhost:8080/",
     "height": 478
    },
    "executionInfo": {
     "elapsed": 4908,
     "status": "ok",
     "timestamp": 1608600329361,
     "user": {
      "displayName": "Jinghui Liu",
      "photoUrl": "",
      "userId": "18293373264061014802"
     },
     "user_tz": -480
    },
    "id": "2dmb-j8SUbIV",
    "outputId": "71af0e3f-ce9d-45ed-e93d-0755be640eea"
   },
   "outputs": [
    {
     "name": "stdout",
     "output_type": "stream",
     "text": [
      "10 rows\n",
      "   subject_id   hadm_id   stay_id\n",
      "0    10122297  25825366  36349608\n",
      "1    17168310  21560534  33376903\n",
      "2    15703353  29272306  35111434\n",
      "3    10308232  21297383  30153687\n",
      "4    13307171  21128752  38043905\n"
     ]
    },
    {
     "data": {
      "text/html": [
       "<div>\n",
       "<style scoped>\n",
       "    .dataframe tbody tr th:only-of-type {\n",
       "        vertical-align: middle;\n",
       "    }\n",
       "\n",
       "    .dataframe tbody tr th {\n",
       "        vertical-align: top;\n",
       "    }\n",
       "\n",
       "    .dataframe thead th {\n",
       "        text-align: right;\n",
       "    }\n",
       "</style>\n",
       "<table border=\"1\" class=\"dataframe\">\n",
       "  <thead>\n",
       "    <tr style=\"text-align: right;\">\n",
       "      <th></th>\n",
       "      <th>subject_id</th>\n",
       "      <th>hadm_id</th>\n",
       "      <th>stay_id</th>\n",
       "    </tr>\n",
       "  </thead>\n",
       "  <tbody>\n",
       "    <tr>\n",
       "      <th>0</th>\n",
       "      <td>10122297</td>\n",
       "      <td>25825366</td>\n",
       "      <td>36349608</td>\n",
       "    </tr>\n",
       "    <tr>\n",
       "      <th>1</th>\n",
       "      <td>17168310</td>\n",
       "      <td>21560534</td>\n",
       "      <td>33376903</td>\n",
       "    </tr>\n",
       "    <tr>\n",
       "      <th>2</th>\n",
       "      <td>15703353</td>\n",
       "      <td>29272306</td>\n",
       "      <td>35111434</td>\n",
       "    </tr>\n",
       "    <tr>\n",
       "      <th>3</th>\n",
       "      <td>10308232</td>\n",
       "      <td>21297383</td>\n",
       "      <td>30153687</td>\n",
       "    </tr>\n",
       "    <tr>\n",
       "      <th>4</th>\n",
       "      <td>13307171</td>\n",
       "      <td>21128752</td>\n",
       "      <td>38043905</td>\n",
       "    </tr>\n",
       "    <tr>\n",
       "      <th>5</th>\n",
       "      <td>13386137</td>\n",
       "      <td>25196108</td>\n",
       "      <td>35892179</td>\n",
       "    </tr>\n",
       "    <tr>\n",
       "      <th>6</th>\n",
       "      <td>15671682</td>\n",
       "      <td>29195317</td>\n",
       "      <td>32077948</td>\n",
       "    </tr>\n",
       "    <tr>\n",
       "      <th>7</th>\n",
       "      <td>11960199</td>\n",
       "      <td>27343339</td>\n",
       "      <td>32798313</td>\n",
       "    </tr>\n",
       "    <tr>\n",
       "      <th>8</th>\n",
       "      <td>19612002</td>\n",
       "      <td>24483791</td>\n",
       "      <td>39073700</td>\n",
       "    </tr>\n",
       "    <tr>\n",
       "      <th>9</th>\n",
       "      <td>18275181</td>\n",
       "      <td>28133399</td>\n",
       "      <td>35881435</td>\n",
       "    </tr>\n",
       "  </tbody>\n",
       "</table>\n",
       "</div>"
      ],
      "text/plain": [
       "   subject_id   hadm_id   stay_id\n",
       "0    10122297  25825366  36349608\n",
       "1    17168310  21560534  33376903\n",
       "2    15703353  29272306  35111434\n",
       "3    10308232  21297383  30153687\n",
       "4    13307171  21128752  38043905\n",
       "5    13386137  25196108  35892179\n",
       "6    15671682  29195317  32077948\n",
       "7    11960199  27343339  32798313\n",
       "8    19612002  24483791  39073700\n",
       "9    18275181  28133399  35881435"
      ]
     },
     "execution_count": 4,
     "metadata": {
      "tags": []
     },
     "output_type": "execute_result"
    }
   ],
   "source": [
    "# an example\n",
    "df = run_query('''\n",
    "SELECT\n",
    "  subject_id,\n",
    "  hadm_id,\n",
    "  stay_id\n",
    "FROM\n",
    "  `physionet-data.mimic_icu.icustays`\n",
    "LIMIT 10\n",
    "''')\n",
    "df"
   ]
  },
  {
   "cell_type": "code",
   "execution_count": 5,
   "metadata": {
    "executionInfo": {
     "elapsed": 1546,
     "status": "ok",
     "timestamp": 1608600334558,
     "user": {
      "displayName": "Jinghui Liu",
      "photoUrl": "",
      "userId": "18293373264061014802"
     },
     "user_tz": -480
    },
    "id": "5f71ZhusUOXY"
   },
   "outputs": [],
   "source": [
    "sql_vent_cohort = '''\n",
    "with tmp as (\n",
    "  select stay_id, starttime, endtime, itemid \n",
    "  , DATETIME_DIFF(endtime, starttime, MINUTE) as duration\n",
    "  ,ROW_NUMBER() OVER (partition by stay_id order by starttime) as firstRow\n",
    "  from `physionet-data.mimic_icu.procedureevents` \n",
    "  where itemid = 225792\n",
    ") \n",
    "select\n",
    "stay_id, starttime, endtime, duration\n",
    ",CASE\n",
    "      WHEN duration > 72*60 THEN 1\n",
    "    ELSE\n",
    "    0\n",
    "  END\n",
    "    AS over72h\n",
    "from tmp\n",
    "where duration >= 24 * 60 and firstRow=1\n",
    "order by stay_id\n",
    "'''"
   ]
  },
  {
   "cell_type": "code",
   "execution_count": 6,
   "metadata": {
    "colab": {
     "base_uri": "https://localhost:8080/"
    },
    "executionInfo": {
     "elapsed": 4614,
     "status": "ok",
     "timestamp": 1608600359077,
     "user": {
      "displayName": "Jinghui Liu",
      "photoUrl": "",
      "userId": "18293373264061014802"
     },
     "user_tz": -480
    },
    "id": "6Hj1utxBRs_7",
    "outputId": "5117f363-db62-4479-d181-5097d1391573"
   },
   "outputs": [
    {
     "name": "stdout",
     "output_type": "stream",
     "text": [
      "12719 rows\n",
      "    stay_id           starttime             endtime  duration  over72h\n",
      "0  30000670 2182-04-14 07:45:00 2182-04-15 10:00:00      1575        0\n",
      "1  30000974 2119-06-21 19:30:00 2119-07-07 13:10:00     22660        1\n",
      "2  30001939 2151-04-06 16:55:00 2151-04-15 15:40:00     12885        1\n",
      "3  30002055 2171-09-26 14:28:00 2171-09-29 08:55:00      3987        0\n",
      "4  30003299 2169-08-22 01:51:00 2169-08-28 12:02:00      9251        1\n",
      "num of first ventilation cases in an ICU with duration longer than 24h 12719\n"
     ]
    }
   ],
   "source": [
    "cohort_df = run_query(sql_vent_cohort)\n",
    "print('num of first ventilation cases in an ICU with duration longer than 24h', len(cohort_df))"
   ]
  },
  {
   "cell_type": "code",
   "execution_count": 7,
   "metadata": {
    "colab": {
     "base_uri": "https://localhost:8080/"
    },
    "executionInfo": {
     "elapsed": 1325,
     "status": "ok",
     "timestamp": 1608601632086,
     "user": {
      "displayName": "Jinghui Liu",
      "photoUrl": "",
      "userId": "18293373264061014802"
     },
     "user_tz": -480
    },
    "id": "MNU99ffrR3II",
    "outputId": "0f986550-570d-4269-b95f-75a2fc1e66ca"
   },
   "outputs": [
    {
     "data": {
      "text/plain": [
       "1    6577\n",
       "0    6142\n",
       "Name: over72h, dtype: int64"
      ]
     },
     "execution_count": 7,
     "metadata": {
      "tags": []
     },
     "output_type": "execute_result"
    }
   ],
   "source": [
    "cohort_df.over72h.value_counts()\n"
   ]
  },
  {
   "cell_type": "markdown",
   "metadata": {
    "id": "nP8LsuZfgpFx"
   },
   "source": [
    "Here what I did is save this query to a view called `vent_cohort` in the Big Query UI console, under my project id. Basically I created a `default` dataset that contains the table `vent_cohort` and used it whenever I query something else. This just a personal choice to make things easier for me, but you may need to save the view in order to run the following code. So in the following SQLs, you'll see `'...{}.default.vent_cohort...'.format(project_id)`, and that's querying it and join with other mimic tables."
   ]
  },
  {
   "cell_type": "markdown",
   "metadata": {
    "id": "g8_WqqLkQ-88"
   },
   "source": [
    "# Run Queries!\n",
    "Below are a bunch of queries to run to get the features. As mentioned, a view named `{project_id}.default.vent_cohort` need to created first on Big Query using `sql_vent_cohort`. Then everything below should run smoothly. "
   ]
  },
  {
   "cell_type": "code",
   "execution_count": 8,
   "metadata": {
    "colab": {
     "base_uri": "https://localhost:8080/"
    },
    "executionInfo": {
     "elapsed": 3389,
     "status": "ok",
     "timestamp": 1608601636960,
     "user": {
      "displayName": "Jinghui Liu",
      "photoUrl": "",
      "userId": "18293373264061014802"
     },
     "user_tz": -480
    },
    "id": "kHBbdYhYVUbz",
    "outputId": "624c9d1b-9846-4ccf-ae49-a9c702ac20c9"
   },
   "outputs": [
    {
     "name": "stdout",
     "output_type": "stream",
     "text": [
      "9578 rows\n",
      "    stay_id  height\n",
      "0  34261577   122.0\n",
      "1  33440905   122.0\n",
      "2  31271874   122.0\n",
      "3  34801620   122.0\n",
      "4  34725210   122.0\n"
     ]
    }
   ],
   "source": [
    "sql_height = '''\n",
    "SELECT v.stay_id, he.height #v.starttime, v.endtime, he.* #, we.* \n",
    "\n",
    "FROM `{}.default.vent_cohort` v\n",
    "left join `physionet-data.mimic_derived.height` he on v.stay_id  = he.stay_id  \n",
    "where he.height is not null\n",
    "order by he.height \n",
    "\n",
    "'''.format(project_id)\n",
    "height = run_query(sql_height)"
   ]
  },
  {
   "cell_type": "code",
   "execution_count": 9,
   "metadata": {
    "colab": {
     "base_uri": "https://localhost:8080/"
    },
    "executionInfo": {
     "elapsed": 3805,
     "status": "ok",
     "timestamp": 1608601642093,
     "user": {
      "displayName": "Jinghui Liu",
      "photoUrl": "",
      "userId": "18293373264061014802"
     },
     "user_tz": -480
    },
    "id": "Y1Y7Ow4CgHXE",
    "outputId": "2898b582-b568-4849-c515-c069ecbe546c"
   },
   "outputs": [
    {
     "name": "stdout",
     "output_type": "stream",
     "text": [
      "12636 rows\n",
      "    stay_id  weight\n",
      "0  30244450    49.1\n",
      "1  30560074    68.0\n",
      "2  31268187   149.0\n",
      "3  31352038    70.7\n",
      "4  31552421    61.2\n"
     ]
    }
   ],
   "source": [
    "sql_weight = '''\n",
    "with tmp as (\n",
    "  SELECT v.stay_id, v.starttime, v.endtime,  max(we.starttime) as weight_time \n",
    "  FROM `{}.default.vent_cohort` v\n",
    "  -- left join `physionet-data.mimic_derived.height` he on v.stay_id  = he.stay_id  \n",
    "  left join `physionet-data.mimic_derived.weight_durations` we on v.stay_id  = we.stay_id \n",
    "  where we.weight is not null # there are some missing values\n",
    "  group by v.stay_id, v.starttime, v.endtime\n",
    "  \n",
    ") select t.stay_id, we.weight  from tmp t\n",
    "left join `physionet-data.mimic_derived.weight_durations` we on t.stay_id  = we.stay_id and t.weight_time = we.starttime\n",
    "\n",
    "'''.format(project_id)\n",
    "weight = run_query(sql_weight)"
   ]
  },
  {
   "cell_type": "code",
   "execution_count": 41,
   "metadata": {
    "colab": {
     "base_uri": "https://localhost:8080/"
    },
    "executionInfo": {
     "elapsed": 8529,
     "status": "ok",
     "timestamp": 1608603056229,
     "user": {
      "displayName": "Jinghui Liu",
      "photoUrl": "",
      "userId": "18293373264061014802"
     },
     "user_tz": -480
    },
    "id": "0sktjqlagRWz",
    "outputId": "f494467b-d223-483a-e3c9-d38dc18005bd"
   },
   "outputs": [
    {
     "name": "stdout",
     "output_type": "stream",
     "text": [
      "12719 rows\n",
      "    stay_id      admission_location  ... age hours_in_hosp_before_intubation\n",
      "0  30040821          EMERGENCY ROOM  ...  30                               1\n",
      "1  31835735  TRANSFER FROM HOSPITAL  ...  25                              13\n",
      "2  32696693          EMERGENCY ROOM  ...  33                               4\n",
      "3  33097815      PHYSICIAN REFERRAL  ...  37                             256\n",
      "4  34857115      PHYSICIAN REFERRAL  ...  94                              97\n",
      "\n",
      "[5 rows x 9 columns]\n"
     ]
    }
   ],
   "source": [
    "sql_demographics='''\n",
    "with tmp as (\n",
    "  select v.stay_id , v.starttime , a.admission_location , a.insurance , a.language ,a.ethnicity ,a.marital_status, a.admittime ,ag.age, p.gender \n",
    "  FROM `{}.default.vent_cohort` v\n",
    "  left join `physionet-data.mimic_icu.icustays` i on v.stay_id = i.stay_id \n",
    "  left join `physionet-data.mimic_core.admissions` a on i.subject_id = a.subject_id and i.hadm_id = a.hadm_id  \n",
    "  left join `physionet-data.mimic_core.patients` p on i.subject_id =p.subject_id \n",
    "  left join `physionet-data.mimic_derived.age` ag on i.hadm_id = ag.hadm_id \n",
    ")\n",
    "\n",
    "select \n",
    "stay_id ,admission_location ,insurance ,language ,ethnicity ,marital_status, gender, age\n",
    ", DATETIME_DIFF(starttime, admittime, HOUR) as hours_in_hosp_before_intubation\n",
    "FROM tmp\n",
    "'''.format(project_id)\n",
    "demo = run_query(sql_demographics)"
   ]
  },
  {
   "cell_type": "code",
   "execution_count": 11,
   "metadata": {
    "colab": {
     "base_uri": "https://localhost:8080/"
    },
    "executionInfo": {
     "elapsed": 6140,
     "status": "ok",
     "timestamp": 1608601729626,
     "user": {
      "displayName": "Jinghui Liu",
      "photoUrl": "",
      "userId": "18293373264061014802"
     },
     "user_tz": -480
    },
    "id": "HJF8xW4OlnqV",
    "outputId": "69efaff4-66a5-4619-94ab-acba5c95041d"
   },
   "outputs": [
    {
     "name": "stdout",
     "output_type": "stream",
     "text": [
      "12090 rows\n",
      "    stay_id  co2_total_max  co2_total_min  ...  ph_min  lactate_max  lactate_min\n",
      "0  32120720           30.0           26.0  ...    7.17          8.1          8.1\n",
      "1  37116104           30.0           25.0  ...    7.26          3.1          3.0\n",
      "2  34050988           19.0            9.0  ...    6.82          8.4          4.0\n",
      "3  35215506           29.0           10.0  ...    7.10         10.8          3.7\n",
      "4  37218539           23.0           15.0  ...    7.21          4.6          0.2\n",
      "\n",
      "[5 rows x 7 columns]\n"
     ]
    }
   ],
   "source": [
    "sql_bg='''\n",
    "with tmp as (\n",
    "select v.stay_id ,v.starttime ,v.endtime , bg.charttime ,bg.totalco2 ,bg.lactate, bg.ph\n",
    "FROM `upbeat-legacy-282508.default.vent_cohort` v\n",
    "left join `physionet-data.mimic_icu.icustays` i on v.stay_id = i.stay_id \n",
    "left join `physionet-data.mimic_derived.bg` bg on i.subject_id = bg.subject_id and i.hadm_id = bg.hadm_id \n",
    "where (bg.charttime >= v.starttime ) and (bg.charttime <= v.endtime ) \n",
    ")\n",
    "select stay_id, \n",
    "max(totalco2) as co2_total_max,\n",
    "min(totalco2) as co2_total_min,\n",
    "max(ph) as ph_max,\n",
    "min(ph) as ph_min,\n",
    "max(lactate) as lactate_max,\n",
    "min(lactate) as lactate_min,\n",
    "from tmp\n",
    "group by stay_id ,starttime , endtime\n",
    "'''.format(project_id)\n",
    "bg = run_query(sql_bg)"
   ]
  },
  {
   "cell_type": "code",
   "execution_count": 51,
   "metadata": {
    "colab": {
     "base_uri": "https://localhost:8080/"
    },
    "executionInfo": {
     "elapsed": 6336,
     "status": "ok",
     "timestamp": 1608603429002,
     "user": {
      "displayName": "Jinghui Liu",
      "photoUrl": "",
      "userId": "18293373264061014802"
     },
     "user_tz": -480
    },
    "id": "qUQFIw4QIal_",
    "outputId": "3ff1b37e-7bdc-4b72-b7ee-1b32008aeed3"
   },
   "outputs": [
    {
     "name": "stdout",
     "output_type": "stream",
     "text": [
      "12090 rows\n",
      "    stay_id  pao2fio2ratio\n",
      "0  30115822     322.500000\n",
      "1  30116627      92.500000\n",
      "2  30121252            NaN\n",
      "3  30134425     330.000000\n",
      "4  30167655     171.428571\n"
     ]
    }
   ],
   "source": [
    "sql_pfratio='''\n",
    "with tmp as (\n",
    "select v.stay_id ,v.starttime ,v.endtime ,bg.po2 ,bg.fio2 , bg.pao2fio2ratio, bg.charttime \n",
    ",ROW_NUMBER() OVER (partition by v.stay_id, v.starttime,v.endtime  order by bg.charttime DESC) as lastRow\n",
    "FROM `{}.default.vent_cohort` v\n",
    "left join `physionet-data.mimic_icu.icustays` i on v.stay_id = i.stay_id \n",
    "left join `physionet-data.mimic_derived.bg` bg on i.subject_id = bg.subject_id and i.hadm_id = bg.hadm_id \n",
    "where (bg.charttime >= v.starttime ) and (bg.charttime <= v.endtime ) \n",
    ")\n",
    "select stay_id, pao2fio2ratio, #lastRow #, starttime, endtime\n",
    "from tmp \n",
    "where lastRow=1\n",
    "'''.format(project_id)\n",
    "pf = run_query(sql_pfratio)"
   ]
  },
  {
   "cell_type": "code",
   "execution_count": 14,
   "metadata": {
    "colab": {
     "base_uri": "https://localhost:8080/"
    },
    "executionInfo": {
     "elapsed": 9464,
     "status": "ok",
     "timestamp": 1608601782442,
     "user": {
      "displayName": "Jinghui Liu",
      "photoUrl": "",
      "userId": "18293373264061014802"
     },
     "user_tz": -480
    },
    "id": "c_Oez3Gjmwr-",
    "outputId": "5ccca443-7ee2-4c1e-f72b-d5aa6c249e89"
   },
   "outputs": [
    {
     "name": "stdout",
     "output_type": "stream",
     "text": [
      "12716 rows\n",
      "    stay_id  heart_rate_max  heart_rate_min  ...  temp_min  glucose_max  glucose_min\n",
      "0  32933216           116.0            83.0  ...     36.39        182.0         90.0\n",
      "1  32867282           168.0            87.0  ...     37.30        593.0         84.0\n",
      "2  36898414           120.0            41.0  ...     32.20        273.0        108.0\n",
      "3  30019438           144.0            60.0  ...     36.10        314.0         93.0\n",
      "4  38284250           128.0            67.0  ...     36.44        154.0         67.0\n",
      "\n",
      "[5 rows x 15 columns]\n"
     ]
    }
   ],
   "source": [
    "sql_vital = '''\n",
    "select v.stay_id\n",
    "\n",
    ", MAX(case when itemid in (220045) and valuenum > 0 and valuenum < 300 then valuenum else null end) as heart_rate_max\n",
    ", MIN(case when itemid in (220045) and valuenum > 0 and valuenum < 300 then valuenum else null end) as heart_rate_min\n",
    "\n",
    ", MAX(case when itemid = 220181 and valuenum > 0 and valuenum < 300 then valuenum else null end) as mbp_ni_max\n",
    ", MIN(case when itemid = 220181 and valuenum > 0 and valuenum < 300 then valuenum else null end) as mbp_ni_min\n",
    "\n",
    ", MAX(case when itemid in (220052) and valuenum > 0 and valuenum < 300 then valuenum else null end) as mbp_arterial_max\n",
    ", MIN(case when itemid in (220052) and valuenum > 0 and valuenum < 300 then valuenum else null end) as mbp_arterial_min\n",
    "\n",
    ", MAX(case when itemid in (220210,224690) and valuenum > 0 and valuenum < 70 then valuenum else null end) as resp_rate_max\n",
    ", MIN(case when itemid in (220210,224690) and valuenum > 0 and valuenum < 70 then valuenum else null end) as resp_rate_min\n",
    "\n",
    ", MAX(case when itemid in (220277) and valuenum > 0 and valuenum <= 100 then valuenum else null end) as spo2_max\n",
    ", MIN(case when itemid in (220277) and valuenum > 0 and valuenum <= 100 then valuenum else null end) as spo2_min\n",
    "\n",
    ", ROUND(\n",
    "    MAX(case when itemid in (223761) and valuenum > 70 and valuenum < 120 then (valuenum-32)/1.8 -- converted to degC in valuenum call\n",
    "             when itemid in (223762) and valuenum > 10 and valuenum < 50  then valuenum else null end)\n",
    "    , 2) as temp_max\n",
    ", ROUND(\n",
    "    MIN(case when itemid in (223761) and valuenum > 70 and valuenum < 120 then (valuenum-32)/1.8 -- converted to degC in valuenum call\n",
    "             when itemid in (223762) and valuenum > 10 and valuenum < 50  then valuenum else null end)\n",
    "    , 2) as temp_min\n",
    "\n",
    ", MAX(case when ce.itemid in (225664,220621,226537) and ce.valuenum > 0 then ce.valuenum else null end) as glucose_max\n",
    ", MIN(case when ce.itemid in (225664,220621,226537) and ce.valuenum > 0 then ce.valuenum else null end) as glucose_min\n",
    "FROM `{}.default.vent_cohort` v\n",
    "-- left join `physionet-data.mimic_icu.icustays` i on v.stay_id = i.stay_id\n",
    "left join `physionet-data.mimic_icu.chartevents` ce on v.stay_id  = ce.stay_id \n",
    "where (ce.charttime >= v.starttime ) and (ce.charttime <= v.endtime ) \n",
    " and ce.itemid in\n",
    "  (\n",
    "    220045, -- Heart Rate\n",
    "    220181, -- Non Invasive Blood Pressure mean\n",
    "    220052, -- Arterial Blood Pressure mean\n",
    "    220210, -- Respiratory Rate\n",
    "    224690, -- Respiratory Rate (Total)\n",
    "    220277, -- SPO2, peripheral\n",
    "    -- TEMPERATURE\n",
    "    223762, -- \"Temperature Celsius\"\n",
    "    223761,  -- \"Temperature Fahrenheit\"\n",
    "    -- GLUCOSE\n",
    "    225664, -- Glucose finger stick\n",
    "    220621, -- Glucose (serum)\n",
    "    226537 -- Glucose (whole blood)\n",
    ")\n",
    "group by v.stay_id\n",
    "'''.format(project_id)\n",
    "vitals = run_query(sql_vital)"
   ]
  },
  {
   "cell_type": "code",
   "execution_count": 15,
   "metadata": {
    "colab": {
     "base_uri": "https://localhost:8080/"
    },
    "executionInfo": {
     "elapsed": 3896,
     "status": "ok",
     "timestamp": 1608601791099,
     "user": {
      "displayName": "Jinghui Liu",
      "photoUrl": "",
      "userId": "18293373264061014802"
     },
     "user_tz": -480
    },
    "id": "HgBO_9XqodU1",
    "outputId": "e6f476d4-29f6-446e-ae38-4ba730a0676d"
   },
   "outputs": [
    {
     "name": "stdout",
     "output_type": "stream",
     "text": [
      "12719 rows\n",
      "    stay_id  epinephrine  vasopressin  dobutamine\n",
      "0  30010737            1            1           1\n",
      "1  30033063            1            1           1\n",
      "2  30062370            1            1           1\n",
      "3  30166832            1            1           1\n",
      "4  30249717            1            1           1\n"
     ]
    }
   ],
   "source": [
    "sql_med1='''\n",
    "with tmp as (\n",
    "  select v.stay_id\n",
    "  , case when (e.starttime >= v.starttime ) and (e.endtime <= v.endtime) then 1 else 0 end as eval\n",
    "  , case when (va.starttime >= v.starttime ) and (va.endtime <= v.endtime) then 1 else 0 end as vval\n",
    "  , case when (db.starttime >= v.starttime ) and (db.endtime <= v.endtime) then 1 else 0 end as dbval\n",
    "  FROM `{}.default.vent_cohort` v\n",
    "  \n",
    "  left join `physionet-data.mimic_derived.epinephrine` e on v.stay_id = e.stay_id\n",
    "  left join `physionet-data.mimic_derived.vasopressin` va on v.stay_id = va.stay_id\n",
    "  left join `physionet-data.mimic_derived.dobutamine` db on v.stay_id = db.stay_id  \n",
    ")\n",
    "select stay_id \n",
    "-- , count(eval) as s\n",
    ",case when count(eval)>0 then 1 else 0 end as epinephrine\n",
    ",case when count(vval)>0 then 1 else 0 end as vasopressin\n",
    ",case when count(dbval)>0 then 1 else 0 end as dobutamine\n",
    "from tmp\n",
    "group by stay_id\n",
    "'''.format(project_id)\n",
    "med1 = run_query(sql_med1)"
   ]
  },
  {
   "cell_type": "code",
   "execution_count": 16,
   "metadata": {
    "colab": {
     "base_uri": "https://localhost:8080/"
    },
    "executionInfo": {
     "elapsed": 3783,
     "status": "ok",
     "timestamp": 1608601795938,
     "user": {
      "displayName": "Jinghui Liu",
      "photoUrl": "",
      "userId": "18293373264061014802"
     },
     "user_tz": -480
    },
    "id": "g75j5inInL9a",
    "outputId": "7a1bcb26-f32b-4cf4-93ac-d2812f0291bd"
   },
   "outputs": [
    {
     "name": "stdout",
     "output_type": "stream",
     "text": [
      "12719 rows\n",
      "    stay_id  norepinephrine  phenylephrine  dopamine\n",
      "0  30019438               1              1         1\n",
      "1  30065088               1              1         1\n",
      "2  30077598               1              1         1\n",
      "3  30110899               1              1         1\n",
      "4  30152645               1              1         1\n"
     ]
    }
   ],
   "source": [
    "sql_med2='''\n",
    "with tmp as (\n",
    "  select v.stay_id\n",
    "  , case when (n.starttime >= v.starttime ) and (n.endtime <= v.endtime) then 1 else 0 end as nval\n",
    "  , case when (p.starttime >= v.starttime ) and (p.endtime <= v.endtime) then 1 else 0 end as pval\n",
    "  , case when (dp.starttime >= v.starttime ) and (dp.endtime <= v.endtime) then 1 else 0 end as dpval\n",
    "  FROM `{}.default.vent_cohort` v\n",
    "  \n",
    "  left join `physionet-data.mimic_derived.norepinephrine` n on v.stay_id = n.stay_id\n",
    "  left join `physionet-data.mimic_derived.phenylephrine` p on v.stay_id = p.stay_id\n",
    "  left join `physionet-data.mimic_derived.dopamine` dp on v.stay_id = dp.stay_id\n",
    ")\n",
    "select stay_id \n",
    ",case when count(nval)>0 then 1 else 0 end as norepinephrine\n",
    ",case when count(pval)>0 then 1 else 0 end as phenylephrine\n",
    ",case when count(dpval)>0 then 1 else 0 end as dopamine\n",
    "from tmp\n",
    "group by stay_id\n",
    "'''.format(project_id)\n",
    "med2 = run_query(sql_med2)"
   ]
  },
  {
   "cell_type": "code",
   "execution_count": 17,
   "metadata": {
    "colab": {
     "base_uri": "https://localhost:8080/"
    },
    "executionInfo": {
     "elapsed": 4288,
     "status": "ok",
     "timestamp": 1608601807287,
     "user": {
      "displayName": "Jinghui Liu",
      "photoUrl": "",
      "userId": "18293373264061014802"
     },
     "user_tz": -480
    },
    "id": "Xuwaoh3jp1Pz",
    "outputId": "1b68daf5-c335-460f-8581-a39516c8dc4b"
   },
   "outputs": [
    {
     "name": "stdout",
     "output_type": "stream",
     "text": [
      "12719 rows\n",
      "    stay_id  neuroblocker\n",
      "0  30066786             0\n",
      "1  30081584             0\n",
      "2  30121780             0\n",
      "3  30133966             0\n",
      "4  30234508             0\n"
     ]
    }
   ],
   "source": [
    "sql_neuroblock='''\n",
    "with tmp as (\n",
    "select \n",
    "v.stay_id,\n",
    "case when (n.starttime >= v.starttime ) and (n.starttime <= v.endtime ) then 1 else 0 end as nb\n",
    "FROM `{}.default.vent_cohort` v\n",
    "LEFT JOIN `physionet-data.mimic_derived.neuroblock` n on v.stay_id = n.stay_id \n",
    ")\n",
    "select stay_id, case when sum(nb)>0 then 1 else 0 end as neuroblocker\n",
    "FROM tmp\n",
    "GROUP BY stay_id \n",
    "'''.format(project_id)\n",
    "neuroblock = run_query(sql_neuroblock)"
   ]
  },
  {
   "cell_type": "code",
   "execution_count": 18,
   "metadata": {
    "colab": {
     "base_uri": "https://localhost:8080/"
    },
    "executionInfo": {
     "elapsed": 5760,
     "status": "ok",
     "timestamp": 1608601815220,
     "user": {
      "displayName": "Jinghui Liu",
      "photoUrl": "",
      "userId": "18293373264061014802"
     },
     "user_tz": -480
    },
    "id": "3VPvuww1p-Ib",
    "outputId": "d4fe8dc7-c9de-4a09-9a47-b205992e8f4c"
   },
   "outputs": [
    {
     "name": "stdout",
     "output_type": "stream",
     "text": [
      "12719 rows\n",
      "    stay_id  rrt\n",
      "0  30056807    0\n",
      "1  30103117    0\n",
      "2  30211263    0\n",
      "3  30303897    0\n",
      "4  30358766    0\n"
     ]
    }
   ],
   "source": [
    "sql_rrt='''\n",
    "with tmp as (\n",
    "  select \n",
    "  v.stay_id,\n",
    "  case when (n.charttime >= v.starttime ) and (n.charttime <= v.endtime ) and (n.dialysis_present=1) then 1 else 0 end as dia\n",
    "  FROM `{}.default.vent_cohort` v\n",
    "  LEFT JOIN `physionet-data.mimic_derived.rrt` n on v.stay_id = n.stay_id \n",
    ")\n",
    "select stay_id, case when sum(dia)>0 then 1 else 0 end as rrt\n",
    "FROM tmp\n",
    "GROUP BY stay_id \n",
    "'''.format(project_id)\n",
    "rrt = run_query(sql_rrt)"
   ]
  },
  {
   "cell_type": "code",
   "execution_count": 21,
   "metadata": {
    "colab": {
     "base_uri": "https://localhost:8080/"
    },
    "executionInfo": {
     "elapsed": 6580,
     "status": "ok",
     "timestamp": 1608602025485,
     "user": {
      "displayName": "Jinghui Liu",
      "photoUrl": "",
      "userId": "18293373264061014802"
     },
     "user_tz": -480
    },
    "id": "dqsUhSe0JCdA",
    "outputId": "dc0c5f24-3b5b-4527-f83c-e797cac7d14a"
   },
   "outputs": [
    {
     "name": "stdout",
     "output_type": "stream",
     "text": [
      "12713 rows\n",
      "    stay_id  fio2_max  ...  plateau_pressure_max  plateau_pressure_min\n",
      "0  39444887     100.0  ...                  29.2                  15.0\n",
      "1  33070444     100.0  ...                  41.0                  13.0\n",
      "2  38009951     100.0  ...                  40.0                  15.0\n",
      "3  34401722      50.0  ...                  41.0                  22.0\n",
      "4  33459726      40.0  ...                  38.0                  27.0\n",
      "\n",
      "[5 rows x 7 columns]\n"
     ]
    }
   ],
   "source": [
    "sql_vent_setting='''\n",
    "with tmp as (SELECT \n",
    "vc.stay_id, vc.starttime ,vc.endtime , vs.charttime ,vs.fio2 , vs.peep ,vs.plateau_pressure \n",
    "FROM `{}.default.vent_cohort` vc\n",
    "left join `physionet-data.mimic_icu.icustays` i on vc.stay_id = i.stay_id \n",
    "left join `physionet-data.mimic_derived.ventilator_setting` vs on i.subject_id = vs.subject_id \n",
    "where (vs.charttime >= vc.starttime ) and (vs.charttime <= vc.endtime )\n",
    ")\n",
    "select stay_id,\n",
    "max(fio2) as fio2_max,\n",
    "min(fio2) as fio2_min,\n",
    "max(peep) as peep_max,\n",
    "min(peep) as peep_min,\n",
    "max(plateau_pressure) as plateau_pressure_max,\n",
    "min(plateau_pressure) as plateau_pressure_min,\n",
    "\n",
    "from tmp\n",
    "group by stay_id\n",
    "'''.format(project_id)\n",
    "vent = run_query(sql_vent_setting)"
   ]
  },
  {
   "cell_type": "code",
   "execution_count": 24,
   "metadata": {
    "colab": {
     "base_uri": "https://localhost:8080/"
    },
    "executionInfo": {
     "elapsed": 7143,
     "status": "ok",
     "timestamp": 1608602136554,
     "user": {
      "displayName": "Jinghui Liu",
      "photoUrl": "",
      "userId": "18293373264061014802"
     },
     "user_tz": -480
    },
    "id": "Hci0KcKGJw5O",
    "outputId": "d5ada362-00d4-4859-9209-18b148e470f1"
   },
   "outputs": [
    {
     "name": "stdout",
     "output_type": "stream",
     "text": [
      "12714 rows\n",
      "    stay_id  sinus_rhythm\n",
      "0  30050342             0\n",
      "1  30064081             1\n",
      "2  30069531             0\n",
      "3  30250069             1\n",
      "4  30265297             1\n"
     ]
    }
   ],
   "source": [
    "sql_rhythm='''\n",
    "with tmp as (\n",
    "select v.stay_id , r.charttime ,r.heart_rhythm , ROW_NUMBER() OVER (partition by v.stay_id order by r.charttime DESC) as lastRow\n",
    "  from `{}.default.vent_cohort` v \n",
    "  left join `physionet-data.mimic_icu.icustays` i on v.stay_id = i.stay_id \n",
    "  left join `physionet-data.mimic_derived.rhythm` r on i.subject_id = r.subject_id \n",
    "  where (r.charttime >= v.starttime ) and (r.charttime <= v.endtime )\n",
    ") \n",
    "select stay_id , case when \n",
    " (heart_rhythm = 'SR (Sinus Rhythm)' ) or\n",
    " (heart_rhythm = 'ST (Sinus Tachycardia)' ) or\n",
    " (heart_rhythm = 'SB (Sinus Bradycardia)' )\n",
    "then 1 else 0 end as sinus_rhythm\n",
    "from tmp\n",
    "where lastRow=1\n",
    "'''.format(project_id)\n",
    "rhythm = run_query(sql_rhythm)"
   ]
  },
  {
   "cell_type": "code",
   "execution_count": 25,
   "metadata": {
    "colab": {
     "base_uri": "https://localhost:8080/"
    },
    "executionInfo": {
     "elapsed": 5266,
     "status": "ok",
     "timestamp": 1608602152537,
     "user": {
      "displayName": "Jinghui Liu",
      "photoUrl": "",
      "userId": "18293373264061014802"
     },
     "user_tz": -480
    },
    "id": "zg78jAeSoujR",
    "outputId": "1113a27a-2237-485d-e0ac-84f00082b416"
   },
   "outputs": [
    {
     "name": "stdout",
     "output_type": "stream",
     "text": [
      "12719 rows\n",
      "   subject_id   hadm_id   stay_id  ...  glucose_score  acidbase_score  gcs_score\n",
      "0    10963981  21660339  30213474  ...            3.0            12.0       15.0\n",
      "1    10415581  23395056  30324216  ...            5.0             4.0       48.0\n",
      "2    13098601  23996524  30451049  ...            3.0            12.0       29.0\n",
      "3    12671496  21549796  30681376  ...            3.0             3.0       48.0\n",
      "4    19717150  26653138  32164303  ...            0.0             3.0       48.0\n",
      "\n",
      "[5 rows x 21 columns]\n"
     ]
    }
   ],
   "source": [
    "sql_apsiii='''\n",
    "select ap.*\n",
    "FROM `{}.default.vent_cohort` v\n",
    "left join `physionet-data.mimic_derived.apsiii` ap on v.stay_id = ap.stay_id \n",
    "'''.format(project_id)\n",
    "aps = run_query(sql_apsiii)"
   ]
  },
  {
   "cell_type": "code",
   "execution_count": 26,
   "metadata": {
    "colab": {
     "base_uri": "https://localhost:8080/"
    },
    "executionInfo": {
     "elapsed": 4639,
     "status": "ok",
     "timestamp": 1608602159180,
     "user": {
      "displayName": "Jinghui Liu",
      "photoUrl": "",
      "userId": "18293373264061014802"
     },
     "user_tz": -480
    },
    "id": "vE8GCzjco7WW",
    "outputId": "e7a92fe0-2f69-4bad-d514-2814bfd75c86"
   },
   "outputs": [
    {
     "name": "stdout",
     "output_type": "stream",
     "text": [
      "12719 rows\n",
      "   subject_id   hadm_id   stay_id  SOFA  ...  liver  cardiovascular  cns  renal\n",
      "0    17276705  28061594  38673500     0  ...    NaN             0.0    0    0.0\n",
      "1    16923182  25428798  33476187     0  ...    NaN             0.0    0    0.0\n",
      "2    11768588  26603096  39791706     0  ...    0.0             0.0    0    0.0\n",
      "3    15623678  26518091  31375794     0  ...    NaN             0.0    0    0.0\n",
      "4    18702504  24040661  35570589     0  ...    NaN             0.0    0    0.0\n",
      "\n",
      "[5 rows x 10 columns]\n"
     ]
    }
   ],
   "source": [
    "sql_sofa='''\n",
    "with vaso_stg as\n",
    "(\n",
    "  select ie.stay_id, 'norepinephrine' AS treatment, vaso_rate as rate\n",
    "  FROM `physionet-data.mimic_icu.icustays` ie\n",
    "  INNER JOIN `physionet-data.mimic_derived.norepinephrine` mv\n",
    "    ON ie.stay_id = mv.stay_id\n",
    "    AND mv.starttime >= DATETIME_SUB(ie.intime, INTERVAL '6' HOUR)\n",
    "    AND mv.starttime <= DATETIME_ADD(ie.intime, INTERVAL '1' DAY)\n",
    "  UNION ALL\n",
    "  select ie.stay_id, 'epinephrine' AS treatment, vaso_rate as rate\n",
    "  FROM `physionet-data.mimic_icu.icustays` ie\n",
    "  INNER JOIN `physionet-data.mimic_derived.epinephrine` mv\n",
    "    ON ie.stay_id = mv.stay_id\n",
    "    AND mv.starttime >= DATETIME_SUB(ie.intime, INTERVAL '6' HOUR)\n",
    "    AND mv.starttime <= DATETIME_ADD(ie.intime, INTERVAL '1' DAY)\n",
    "  UNION ALL\n",
    "  select ie.stay_id, 'dobutamine' AS treatment, vaso_rate as rate\n",
    "  FROM `physionet-data.mimic_icu.icustays` ie\n",
    "  INNER JOIN `physionet-data.mimic_derived.dobutamine` mv\n",
    "    ON ie.stay_id = mv.stay_id\n",
    "    AND mv.starttime >= DATETIME_SUB(ie.intime, INTERVAL '6' HOUR)\n",
    "    AND mv.starttime <= DATETIME_ADD(ie.intime, INTERVAL '1' DAY)\n",
    "  UNION ALL\n",
    "  select ie.stay_id, 'dopamine' AS treatment, vaso_rate as rate\n",
    "  FROM `physionet-data.mimic_icu.icustays` ie\n",
    "  INNER JOIN `physionet-data.mimic_derived.dopamine` mv\n",
    "    ON ie.stay_id = mv.stay_id\n",
    "    AND mv.starttime >= DATETIME_SUB(ie.intime, INTERVAL '6' HOUR)\n",
    "    AND mv.starttime <= DATETIME_ADD(ie.intime, INTERVAL '1' DAY)\n",
    ")\n",
    ", vaso_mv AS\n",
    "(\n",
    "    SELECT\n",
    "    ie.stay_id\n",
    "    , max(CASE WHEN treatment = 'norepinephrine' THEN rate ELSE NULL END) as rate_norepinephrine\n",
    "    , max(CASE WHEN treatment = 'epinephrine' THEN rate ELSE NULL END) as rate_epinephrine\n",
    "    , max(CASE WHEN treatment = 'dopamine' THEN rate ELSE NULL END) as rate_dopamine\n",
    "    , max(CASE WHEN treatment = 'dobutamine' THEN rate ELSE NULL END) as rate_dobutamine\n",
    "  from `physionet-data.mimic_icu.icustays` ie\n",
    "  LEFT JOIN vaso_stg v\n",
    "      ON ie.stay_id = v.stay_id\n",
    "  GROUP BY ie.stay_id\n",
    ")\n",
    ", pafi1 as\n",
    "(\n",
    "  -- join blood gas to ventilation durations to determine if patient was vent\n",
    "  select ie.stay_id, bg.charttime\n",
    "  , bg.pao2fio2ratio\n",
    "  , case when vd.stay_id is not null then 1 else 0 end as IsVent\n",
    "  from `physionet-data.mimic_icu.icustays` ie\n",
    "  LEFT JOIN `physionet-data.mimic_derived.bg` bg\n",
    "      ON ie.subject_id = bg.subject_id\n",
    "      AND bg.charttime >= DATETIME_SUB(ie.intime, INTERVAL '6' HOUR)\n",
    "      AND bg.charttime <= DATETIME_ADD(ie.intime, INTERVAL '1' DAY)\n",
    "  LEFT JOIN `physionet-data.mimic_derived.ventilation` vd\n",
    "    ON ie.stay_id = vd.stay_id\n",
    "    AND bg.charttime >= vd.starttime\n",
    "    AND bg.charttime <= vd.endtime\n",
    ")\n",
    ", pafi2 as\n",
    "(\n",
    "  -- because pafi has an interaction between vent/PaO2:FiO2, we need two columns for the score\n",
    "  -- it can happen that the lowest unventilated PaO2/FiO2 is 68, but the lowest ventilated PaO2/FiO2 is 120\n",
    "  -- in this case, the SOFA score is 3, *not* 4.\n",
    "  select stay_id\n",
    "  , min(case when IsVent = 0 then pao2fio2ratio else null end) as PaO2FiO2_novent_min\n",
    "  , min(case when IsVent = 1 then pao2fio2ratio else null end) as PaO2FiO2_vent_min\n",
    "  from pafi1\n",
    "  group by stay_id\n",
    ")\n",
    "-- Aggregate the components for the score\n",
    ", scorecomp as\n",
    "(\n",
    "select ie.stay_id\n",
    "  , v.mbp_min\n",
    "  , mv.rate_norepinephrine\n",
    "  , mv.rate_epinephrine\n",
    "  , mv.rate_dopamine\n",
    "  , mv.rate_dobutamine\n",
    "\n",
    "  , l.creatinine_max\n",
    "  , l.bilirubin_total_max as bilirubin_max\n",
    "  , l.platelets_min as platelet_min\n",
    "\n",
    "  , pf.PaO2FiO2_novent_min\n",
    "  , pf.PaO2FiO2_vent_min\n",
    "\n",
    "  , uo.UrineOutput\n",
    "\n",
    "  , gcs.gcs_min\n",
    "from `physionet-data.mimic_icu.icustays` ie\n",
    "left join vaso_mv mv\n",
    "  on ie.stay_id = mv.stay_id\n",
    "left join pafi2 pf\n",
    " on ie.stay_id = pf.stay_id\n",
    "left join `physionet-data.mimic_derived.first_day_vitalsign` v\n",
    "  on ie.stay_id = v.stay_id\n",
    "left join `physionet-data.mimic_derived.first_day_lab` l\n",
    "  on ie.stay_id = l.stay_id\n",
    "left join `physionet-data.mimic_derived.first_day_urine_output` uo\n",
    "  on ie.stay_id = uo.stay_id\n",
    "left join `physionet-data.mimic_derived.first_day_gcs` gcs\n",
    "  on ie.stay_id = gcs.stay_id\n",
    ")\n",
    ", scorecalc as\n",
    "(\n",
    "  -- Calculate the final score\n",
    "  -- note that if the underlying data is missing, the component is null\n",
    "  -- eventually these are treated as 0 (normal), but knowing when data is missing is useful for debugging\n",
    "  select stay_id\n",
    "  -- Respiration\n",
    "  , case\n",
    "      when PaO2FiO2_vent_min   < 100 then 4\n",
    "      when PaO2FiO2_vent_min   < 200 then 3\n",
    "      when PaO2FiO2_novent_min < 300 then 2\n",
    "      when PaO2FiO2_novent_min < 400 then 1\n",
    "      when coalesce(PaO2FiO2_vent_min, PaO2FiO2_novent_min) is null then null\n",
    "      else 0\n",
    "    end as respiration\n",
    "\n",
    "  -- Coagulation\n",
    "  , case\n",
    "      when platelet_min < 20  then 4\n",
    "      when platelet_min < 50  then 3\n",
    "      when platelet_min < 100 then 2\n",
    "      when platelet_min < 150 then 1\n",
    "      when platelet_min is null then null\n",
    "      else 0\n",
    "    end as coagulation\n",
    "\n",
    "  -- Liver\n",
    "  , case\n",
    "      -- Bilirubin checks in mg/dL\n",
    "        when bilirubin_max >= 12.0 then 4\n",
    "        when bilirubin_max >= 6.0  then 3\n",
    "        when bilirubin_max >= 2.0  then 2\n",
    "        when bilirubin_max >= 1.2  then 1\n",
    "        when bilirubin_max is null then null\n",
    "        else 0\n",
    "      end as liver\n",
    "\n",
    "  -- Cardiovascular\n",
    "  , case\n",
    "      when rate_dopamine > 15 or rate_epinephrine >  0.1 or rate_norepinephrine >  0.1 then 4\n",
    "      when rate_dopamine >  5 or rate_epinephrine <= 0.1 or rate_norepinephrine <= 0.1 then 3\n",
    "      when rate_dopamine >  0 or rate_dobutamine > 0 then 2\n",
    "      when mbp_min < 70 then 1\n",
    "      when coalesce(mbp_min, rate_dopamine, rate_dobutamine, rate_epinephrine, rate_norepinephrine) is null then null\n",
    "      else 0\n",
    "    end as cardiovascular\n",
    "\n",
    "  -- Neurological failure (GCS)\n",
    "  , case\n",
    "      when (gcs_min >= 13 and gcs_min <= 14) then 1\n",
    "      when (gcs_min >= 10 and gcs_min <= 12) then 2\n",
    "      when (gcs_min >=  6 and gcs_min <=  9) then 3\n",
    "      when  gcs_min <   6 then 4\n",
    "      when  gcs_min is null then null\n",
    "  else 0 end\n",
    "    as cns\n",
    "\n",
    "  -- Renal failure - high creatinine or low urine output\n",
    "  , case\n",
    "    when (creatinine_max >= 5.0) then 4\n",
    "    when  UrineOutput < 200 then 4\n",
    "    when (creatinine_max >= 3.5 and creatinine_max < 5.0) then 3\n",
    "    when  UrineOutput < 500 then 3\n",
    "    when (creatinine_max >= 2.0 and creatinine_max < 3.5) then 2\n",
    "    when (creatinine_max >= 1.2 and creatinine_max < 2.0) then 1\n",
    "    when coalesce(UrineOutput, creatinine_max) is null then null\n",
    "  else 0 end\n",
    "    as renal\n",
    "  from scorecomp\n",
    ")\n",
    "select ie.subject_id, ie.hadm_id, ie.stay_id\n",
    "  -- Combine all the scores to get SOFA\n",
    "  -- Impute 0 if the score is missing\n",
    "  , coalesce(respiration,0)\n",
    "  + coalesce(coagulation,0)\n",
    "  + coalesce(liver,0)\n",
    "  + coalesce(cardiovascular,0)\n",
    "  + coalesce(cns,0)\n",
    "  + coalesce(renal,0)\n",
    "  as SOFA\n",
    ", respiration\n",
    ", coagulation\n",
    ", liver\n",
    ", cardiovascular\n",
    ", cns\n",
    ", renal\n",
    "from `physionet-data.mimic_icu.icustays` ie\n",
    "left join scorecalc s\n",
    "  on ie.stay_id = s.stay_id\n",
    "where ie.stay_id in (select stay_id from `{}.default.vent_cohort`)\n",
    "'''.format(project_id)\n",
    "sofa = run_query(sql_sofa)"
   ]
  },
  {
   "cell_type": "code",
   "execution_count": 28,
   "metadata": {
    "colab": {
     "base_uri": "https://localhost:8080/"
    },
    "executionInfo": {
     "elapsed": 10818,
     "status": "ok",
     "timestamp": 1608602211393,
     "user": {
      "displayName": "Jinghui Liu",
      "photoUrl": "",
      "userId": "18293373264061014802"
     },
     "user_tz": -480
    },
    "id": "bkfiwZB9pqYZ",
    "outputId": "c1574b10-a455-4f4b-bab5-ecfb57798a66"
   },
   "outputs": [
    {
     "name": "stdout",
     "output_type": "stream",
     "text": [
      "12719 rows\n",
      "    stay_id  congestive_heart_failure  ...  metastatic_solid_tumor  aids\n",
      "0  30050880                         0  ...                       0     0\n",
      "1  30113187                         0  ...                       0     0\n",
      "2  30204669                         0  ...                       0     0\n",
      "3  30267949                         0  ...                       0     0\n",
      "4  30311571                         0  ...                       0     0\n",
      "\n",
      "[5 rows x 15 columns]\n"
     ]
    }
   ],
   "source": [
    "sql_comorbidities='''\n",
    "WITH diag AS\n",
    "(\n",
    "    SELECT \n",
    "        hadm_id\n",
    "        , CASE WHEN icd_version = 9 THEN icd_code ELSE NULL END AS icd9_code\n",
    "        , CASE WHEN icd_version = 10 THEN icd_code ELSE NULL END AS icd10_code\n",
    "    FROM `physionet-data.mimic_hosp.diagnoses_icd` diag\n",
    ")\n",
    ", com AS\n",
    "(\n",
    "    SELECT\n",
    "        ad.hadm_id\n",
    "\n",
    "        -- Myocardial infarction\n",
    "        , MAX(CASE WHEN\n",
    "            SUBSTR(icd9_code, 1, 3) IN ('410','412')\n",
    "            OR\n",
    "            SUBSTR(icd10_code, 1, 3) IN ('I21','I22')\n",
    "            OR\n",
    "            SUBSTR(icd10_code, 1, 4) = 'I252'\n",
    "            THEN 1 \n",
    "            ELSE 0 END) AS myocardial_infarct\n",
    "\n",
    "        -- Congestive heart failure\n",
    "        , MAX(CASE WHEN \n",
    "            SUBSTR(icd9_code, 1, 3) = '428'\n",
    "            OR\n",
    "            SUBSTR(icd9_code, 1, 5) IN ('39891','40201','40211','40291','40401','40403',\n",
    "                          '40411','40413','40491','40493')\n",
    "            OR \n",
    "            SUBSTR(icd9_code, 1, 4) BETWEEN '4254' AND '4259'\n",
    "            OR\n",
    "            SUBSTR(icd10_code, 1, 3) IN ('I43','I50')\n",
    "            OR\n",
    "            SUBSTR(icd10_code, 1, 4) IN ('I099','I110','I130','I132','I255','I420',\n",
    "                                                   'I425','I426','I427','I428','I429','P290')\n",
    "            THEN 1 \n",
    "            ELSE 0 END) AS congestive_heart_failure\n",
    "\n",
    "        -- Peripheral vascular disease\n",
    "        , MAX(CASE WHEN \n",
    "            SUBSTR(icd9_code, 1, 3) IN ('440','441')\n",
    "            OR\n",
    "            SUBSTR(icd9_code, 1, 4) IN ('0930','4373','4471','5571','5579','V434')\n",
    "            OR\n",
    "            SUBSTR(icd9_code, 1, 4) BETWEEN '4431' AND '4439'\n",
    "            OR\n",
    "            SUBSTR(icd10_code, 1, 3) IN ('I70','I71')\n",
    "            OR\n",
    "            SUBSTR(icd10_code, 1, 4) IN ('I731','I738','I739','I771','I790',\n",
    "                                                   'I792','K551','K558','K559','Z958','Z959')\n",
    "            THEN 1 \n",
    "            ELSE 0 END) AS peripheral_vascular_disease\n",
    "\n",
    "        -- Cerebrovascular disease\n",
    "        , MAX(CASE WHEN \n",
    "            SUBSTR(icd9_code, 1, 3) BETWEEN '430' AND '438'\n",
    "            OR\n",
    "            SUBSTR(icd9_code, 1, 5) = '36234'\n",
    "            OR\n",
    "            SUBSTR(icd10_code, 1, 3) IN ('G45','G46')\n",
    "            OR \n",
    "            SUBSTR(icd10_code, 1, 3) BETWEEN 'I60' AND 'I69'\n",
    "            OR\n",
    "            SUBSTR(icd10_code, 1, 4) = 'H340'\n",
    "            THEN 1 \n",
    "            ELSE 0 END) AS cerebrovascular_disease\n",
    "\n",
    "        -- Dementia\n",
    "        , MAX(CASE WHEN \n",
    "            SUBSTR(icd9_code, 1, 3) = '290'\n",
    "            OR\n",
    "            SUBSTR(icd9_code, 1, 4) IN ('2941','3312')\n",
    "            OR\n",
    "            SUBSTR(icd10_code, 1, 3) IN ('F00','F01','F02','F03','G30')\n",
    "            OR\n",
    "            SUBSTR(icd10_code, 1, 4) IN ('F051','G311')\n",
    "            THEN 1 \n",
    "            ELSE 0 END) AS dementia\n",
    "\n",
    "        -- Chronic pulmonary disease\n",
    "        , MAX(CASE WHEN \n",
    "            SUBSTR(icd9_code, 1, 3) BETWEEN '490' AND '505'\n",
    "            OR\n",
    "            SUBSTR(icd9_code, 1, 4) IN ('4168','4169','5064','5081','5088')\n",
    "            OR \n",
    "            SUBSTR(icd10_code, 1, 3) BETWEEN 'J40' AND 'J47'\n",
    "            OR \n",
    "            SUBSTR(icd10_code, 1, 3) BETWEEN 'J60' AND 'J67'\n",
    "            OR\n",
    "            SUBSTR(icd10_code, 1, 4) IN ('I278','I279','J684','J701','J703')\n",
    "            THEN 1 \n",
    "            ELSE 0 END) AS chronic_pulmonary_disease\n",
    "\n",
    "        -- Rheumatic disease\n",
    "        , MAX(CASE WHEN \n",
    "            SUBSTR(icd9_code, 1, 3) = '725'\n",
    "            OR\n",
    "            SUBSTR(icd9_code, 1, 4) IN ('4465','7100','7101','7102','7103',\n",
    "                                                  '7104','7140','7141','7142','7148')\n",
    "            OR\n",
    "            SUBSTR(icd10_code, 1, 3) IN ('M05','M06','M32','M33','M34')\n",
    "            OR\n",
    "            SUBSTR(icd10_code, 1, 4) IN ('M315','M351','M353','M360')\n",
    "            THEN 1 \n",
    "            ELSE 0 END) AS rheumatic_disease\n",
    "\n",
    "        -- Peptic ulcer disease\n",
    "        , MAX(CASE WHEN \n",
    "            SUBSTR(icd9_code, 1, 3) IN ('531','532','533','534')\n",
    "            OR\n",
    "            SUBSTR(icd10_code, 1, 3) IN ('K25','K26','K27','K28')\n",
    "            THEN 1 \n",
    "            ELSE 0 END) AS peptic_ulcer_disease\n",
    "\n",
    "        -- Mild liver disease\n",
    "        , MAX(CASE WHEN \n",
    "            SUBSTR(icd9_code, 1, 3) IN ('570','571')\n",
    "            OR\n",
    "            SUBSTR(icd9_code, 1, 4) IN ('0706','0709','5733','5734','5738','5739','V427')\n",
    "            OR\n",
    "            SUBSTR(icd9_code, 1, 5) IN ('07022','07023','07032','07033','07044','07054')\n",
    "            OR\n",
    "            SUBSTR(icd10_code, 1, 3) IN ('B18','K73','K74')\n",
    "            OR\n",
    "            SUBSTR(icd10_code, 1, 4) IN ('K700','K701','K702','K703','K709','K713',\n",
    "                                                   'K714','K715','K717','K760','K762',\n",
    "                                                   'K763','K764','K768','K769','Z944')\n",
    "            THEN 1 \n",
    "            ELSE 0 END) AS mild_liver_disease\n",
    "\n",
    "        -- Diabetes without chronic complication\n",
    "        , MAX(CASE WHEN \n",
    "            SUBSTR(icd9_code, 1, 4) IN ('2500','2501','2502','2503','2508','2509') \n",
    "            OR\n",
    "            SUBSTR(icd10_code, 1, 4) IN ('E100','E10l','E106','E108','E109','E110','E111',\n",
    "                                                   'E116','E118','E119','E120','E121','E126','E128',\n",
    "                                                   'E129','E130','E131','E136','E138','E139','E140',\n",
    "                                                   'E141','E146','E148','E149')\n",
    "            THEN 1 \n",
    "            ELSE 0 END) AS diabetes_without_cc\n",
    "\n",
    "        -- Diabetes with chronic complication\n",
    "        , MAX(CASE WHEN \n",
    "            SUBSTR(icd9_code, 1, 4) IN ('2504','2505','2506','2507')\n",
    "            OR\n",
    "            SUBSTR(icd10_code, 1, 4) IN ('E102','E103','E104','E105','E107','E112','E113',\n",
    "                                                   'E114','E115','E117','E122','E123','E124','E125',\n",
    "                                                   'E127','E132','E133','E134','E135','E137','E142',\n",
    "                                                   'E143','E144','E145','E147')\n",
    "            THEN 1 \n",
    "            ELSE 0 END) AS diabetes_with_cc\n",
    "\n",
    "        -- Hemiplegia or paraplegia\n",
    "        , MAX(CASE WHEN \n",
    "            SUBSTR(icd9_code, 1, 3) IN ('342','343')\n",
    "            OR\n",
    "            SUBSTR(icd9_code, 1, 4) IN ('3341','3440','3441','3442',\n",
    "                                                  '3443','3444','3445','3446','3449')\n",
    "            OR \n",
    "            SUBSTR(icd10_code, 1, 3) IN ('G81','G82')\n",
    "            OR \n",
    "            SUBSTR(icd10_code, 1, 4) IN ('G041','G114','G801','G802','G830',\n",
    "                                                   'G831','G832','G833','G834','G839')\n",
    "            THEN 1 \n",
    "            ELSE 0 END) AS paraplegia\n",
    "\n",
    "        -- Renal disease\n",
    "        , MAX(CASE WHEN \n",
    "            SUBSTR(icd9_code, 1, 3) IN ('582','585','586','V56')\n",
    "            OR\n",
    "            SUBSTR(icd9_code, 1, 4) IN ('5880','V420','V451')\n",
    "            OR\n",
    "            SUBSTR(icd9_code, 1, 4) BETWEEN '5830' AND '5837'\n",
    "            OR\n",
    "            SUBSTR(icd9_code, 1, 5) IN ('40301','40311','40391','40402','40403','40412','40413','40492','40493')          \n",
    "            OR\n",
    "            SUBSTR(icd10_code, 1, 3) IN ('N18','N19')\n",
    "            OR\n",
    "            SUBSTR(icd10_code, 1, 4) IN ('I120','I131','N032','N033','N034',\n",
    "                                                   'N035','N036','N037','N052','N053',\n",
    "                                                   'N054','N055','N056','N057','N250',\n",
    "                                                   'Z490','Z491','Z492','Z940','Z992')\n",
    "            THEN 1 \n",
    "            ELSE 0 END) AS renal_disease\n",
    "\n",
    "        -- Any malignancy, including lymphoma and leukemia, except malignant neoplasm of skin\n",
    "        , MAX(CASE WHEN \n",
    "            SUBSTR(icd9_code, 1, 3) BETWEEN '140' AND '172'\n",
    "            OR\n",
    "            SUBSTR(icd9_code, 1, 4) BETWEEN '1740' AND '1958'\n",
    "            OR\n",
    "            SUBSTR(icd9_code, 1, 3) BETWEEN '200' AND '208'\n",
    "            OR\n",
    "            SUBSTR(icd9_code, 1, 4) = '2386'\n",
    "            OR\n",
    "            SUBSTR(icd10_code, 1, 3) IN ('C43','C88')\n",
    "            OR\n",
    "            SUBSTR(icd10_code, 1, 3) BETWEEN 'C00' AND 'C26'\n",
    "            OR\n",
    "            SUBSTR(icd10_code, 1, 3) BETWEEN 'C30' AND 'C34'\n",
    "            OR\n",
    "            SUBSTR(icd10_code, 1, 3) BETWEEN 'C37' AND 'C41'\n",
    "            OR\n",
    "            SUBSTR(icd10_code, 1, 3) BETWEEN 'C45' AND 'C58'\n",
    "            OR\n",
    "            SUBSTR(icd10_code, 1, 3) BETWEEN 'C60' AND 'C76'\n",
    "            OR\n",
    "            SUBSTR(icd10_code, 1, 3) BETWEEN 'C81' AND 'C85'\n",
    "            OR\n",
    "            SUBSTR(icd10_code, 1, 3) BETWEEN 'C90' AND 'C97'\n",
    "            THEN 1 \n",
    "            ELSE 0 END) AS malignant_cancer\n",
    "\n",
    "        -- Moderate or severe liver disease\n",
    "        , MAX(CASE WHEN \n",
    "            SUBSTR(icd9_code, 1, 4) IN ('4560','4561','4562')\n",
    "            OR\n",
    "            SUBSTR(icd9_code, 1, 4) BETWEEN '5722' AND '5728'\n",
    "            OR\n",
    "            SUBSTR(icd10_code, 1, 4) IN ('I850','I859','I864','I982','K704','K711',\n",
    "                                                   'K721','K729','K765','K766','K767')\n",
    "            THEN 1 \n",
    "            ELSE 0 END) AS severe_liver_disease\n",
    "\n",
    "        -- Metastatic solid tumor\n",
    "        , MAX(CASE WHEN \n",
    "            SUBSTR(icd9_code, 1, 3) IN ('196','197','198','199')\n",
    "            OR \n",
    "            SUBSTR(icd10_code, 1, 3) IN ('C77','C78','C79','C80')\n",
    "            THEN 1 \n",
    "            ELSE 0 END) AS metastatic_solid_tumor\n",
    "\n",
    "        -- AIDS/HIV\n",
    "        , MAX(CASE WHEN \n",
    "            SUBSTR(icd9_code, 1, 3) IN ('042','043','044')\n",
    "            OR \n",
    "            SUBSTR(icd10_code, 1, 3) IN ('B20','B21','B22','B24')\n",
    "            THEN 1 \n",
    "            ELSE 0 END) AS aids\n",
    "    FROM `physionet-data.mimic_core.admissions` ad\n",
    "    LEFT JOIN diag\n",
    "    ON ad.hadm_id = diag.hadm_id\n",
    "    GROUP BY ad.hadm_id\n",
    ")\n",
    "\n",
    "SELECT \n",
    "\n",
    "cohort.stay_id \n",
    "    , congestive_heart_failure\n",
    "    , cerebrovascular_disease\n",
    "    , dementia\n",
    "    , chronic_pulmonary_disease\n",
    "    , rheumatic_disease\n",
    "    , mild_liver_disease\n",
    "    , diabetes_without_cc\n",
    "    , diabetes_with_cc\n",
    "    , paraplegia\n",
    "    , renal_disease\n",
    "    , malignant_cancer\n",
    "    , severe_liver_disease \n",
    "    , metastatic_solid_tumor \n",
    "    , aids\n",
    "\n",
    "\n",
    "FROM `{}.default.vent_cohort` cohort \n",
    "left join `physionet-data.mimic_icu.icustays` icu on icu.stay_id = cohort.stay_id\n",
    "left join com on com.hadm_id = icu.hadm_id \n",
    "'''.format(project_id)\n",
    "comorb = run_query(sql_comorbidities)"
   ]
  },
  {
   "cell_type": "markdown",
   "metadata": {
    "id": "e8cZviAkKdtR"
   },
   "source": [
    "# Combine all the data"
   ]
  },
  {
   "cell_type": "code",
   "execution_count": 29,
   "metadata": {
    "colab": {
     "base_uri": "https://localhost:8080/"
    },
    "executionInfo": {
     "elapsed": 1487,
     "status": "ok",
     "timestamp": 1608602291137,
     "user": {
      "displayName": "Jinghui Liu",
      "photoUrl": "",
      "userId": "18293373264061014802"
     },
     "user_tz": -480
    },
    "id": "O2UwqJZyKhOK",
    "outputId": "7a84d525-8b7d-4ce1-9e16-26b1a071db21"
   },
   "outputs": [
    {
     "data": {
      "text/plain": [
       "Index(['subject_id', 'hadm_id', 'stay_id', 'SOFA', 'respiration',\n",
       "       'coagulation', 'liver', 'cardiovascular', 'cns', 'renal'],\n",
       "      dtype='object')"
      ]
     },
     "execution_count": 29,
     "metadata": {
      "tags": []
     },
     "output_type": "execute_result"
    }
   ],
   "source": [
    "# first check out subscores in apsiii and sofa; may remove them to have a simpler feature set\n",
    "sofa.columns"
   ]
  },
  {
   "cell_type": "code",
   "execution_count": 30,
   "metadata": {
    "colab": {
     "base_uri": "https://localhost:8080/"
    },
    "executionInfo": {
     "elapsed": 1407,
     "status": "ok",
     "timestamp": 1608602303846,
     "user": {
      "displayName": "Jinghui Liu",
      "photoUrl": "",
      "userId": "18293373264061014802"
     },
     "user_tz": -480
    },
    "id": "-v6Y2nGkKwUL",
    "outputId": "584cc2e8-f41c-421c-c27b-d861a2a28ec6"
   },
   "outputs": [
    {
     "data": {
      "text/plain": [
       "Index(['subject_id', 'hadm_id', 'stay_id', 'apsiii', 'apsiii_prob', 'hr_score',\n",
       "       'mbp_score', 'temp_score', 'resp_rate_score', 'pao2_aado2_score',\n",
       "       'hematocrit_score', 'wbc_score', 'creatinine_score', 'uo_score',\n",
       "       'bun_score', 'sodium_score', 'albumin_score', 'bilirubin_score',\n",
       "       'glucose_score', 'acidbase_score', 'gcs_score'],\n",
       "      dtype='object')"
      ]
     },
     "execution_count": 30,
     "metadata": {
      "tags": []
     },
     "output_type": "execute_result"
    }
   ],
   "source": [
    "aps.columns"
   ]
  },
  {
   "cell_type": "code",
   "execution_count": 31,
   "metadata": {
    "executionInfo": {
     "elapsed": 1342,
     "status": "ok",
     "timestamp": 1608602378087,
     "user": {
      "displayName": "Jinghui Liu",
      "photoUrl": "",
      "userId": "18293373264061014802"
     },
     "user_tz": -480
    },
    "id": "OkHU9XO8KzS7"
   },
   "outputs": [],
   "source": [
    "aps_col_full = ['stay_id', 'apsiii', 'apsiii_prob', 'hr_score',\n",
    "       'mbp_score', 'temp_score', 'resp_rate_score', 'pao2_aado2_score',\n",
    "       'hematocrit_score', 'wbc_score', 'creatinine_score', 'uo_score',\n",
    "       'bun_score', 'sodium_score', 'albumin_score', 'bilirubin_score',\n",
    "       'glucose_score', 'acidbase_score', 'gcs_score']\n",
    "sofa_col_full = ['stay_id', 'SOFA', 'respiration',\n",
    "       'coagulation', 'liver', 'cardiovascular', 'cns', 'renal']\n",
    "\n",
    "aps_col_short = ['stay_id', 'apsiii']\n",
    "sofa_col_short= ['stay_id', 'SOFA']"
   ]
  },
  {
   "cell_type": "code",
   "execution_count": 52,
   "metadata": {
    "executionInfo": {
     "elapsed": 1483,
     "status": "ok",
     "timestamp": 1608603444310,
     "user": {
      "displayName": "Jinghui Liu",
      "photoUrl": "",
      "userId": "18293373264061014802"
     },
     "user_tz": -480
    },
    "id": "L0e8izsXLFnP"
   },
   "outputs": [],
   "source": [
    "# merge all dataset to the cohort_df\n",
    "ft_df = cohort_df.copy()\n",
    "\n",
    "# first merge med1, med2 together and count vasos\n",
    "med = med1.merge(med2)\n",
    "med['count_of_vaso'] = med.epinephrine + med.vasopressin + med.dobutamine + med.norepinephrine + med.phenylephrine + med.dopamine"
   ]
  },
  {
   "cell_type": "code",
   "execution_count": 59,
   "metadata": {
    "executionInfo": {
     "elapsed": 1395,
     "status": "ok",
     "timestamp": 1608603552008,
     "user": {
      "displayName": "Jinghui Liu",
      "photoUrl": "",
      "userId": "18293373264061014802"
     },
     "user_tz": -480
    },
    "id": "gjkIJzmyO7DU"
   },
   "outputs": [],
   "source": [
    "for df in [demo, weight, height, bg, pf, vitals, med, vent, rrt, rhythm, neuroblock, comorb]:\n",
    "  ft_df = ft_df.merge(df, how='left')\n",
    "ft_df['duration'] /= 24."
   ]
  },
  {
   "cell_type": "code",
   "execution_count": 61,
   "metadata": {
    "colab": {
     "base_uri": "https://localhost:8080/"
    },
    "executionInfo": {
     "elapsed": 1342,
     "status": "ok",
     "timestamp": 1608603573994,
     "user": {
      "displayName": "Jinghui Liu",
      "photoUrl": "",
      "userId": "18293373264061014802"
     },
     "user_tz": -480
    },
    "id": "ZNxbMZ9bLr0L",
    "outputId": "d826f549-ec6e-4cdd-945d-43dde7cee8f9"
   },
   "outputs": [
    {
     "name": "stdout",
     "output_type": "stream",
     "text": [
      "basic info Index(['stay_id', 'starttime', 'endtime', 'duration', 'over72h'], dtype='object')\n",
      "features Index(['admission_location', 'insurance', 'language', 'ethnicity',\n",
      "       'marital_status', 'gender', 'age', 'hours_in_hosp_before_intubation',\n",
      "       'weight', 'height', 'co2_total_max', 'co2_total_min', 'ph_max',\n",
      "       'ph_min', 'lactate_max', 'lactate_min', 'pao2fio2ratio',\n",
      "       'heart_rate_max', 'heart_rate_min', 'mbp_ni_max', 'mbp_ni_min',\n",
      "       'mbp_arterial_max', 'mbp_arterial_min', 'resp_rate_max',\n",
      "       'resp_rate_min', 'spo2_max', 'spo2_min', 'temp_max', 'temp_min',\n",
      "       'glucose_max', 'glucose_min', 'epinephrine', 'vasopressin',\n",
      "       'dobutamine', 'norepinephrine', 'phenylephrine', 'dopamine',\n",
      "       'count_of_vaso', 'fio2_max', 'fio2_min', 'peep_max', 'peep_min',\n",
      "       'plateau_pressure_max', 'plateau_pressure_min', 'rrt', 'sinus_rhythm',\n",
      "       'neuroblocker', 'congestive_heart_failure', 'cerebrovascular_disease',\n",
      "       'dementia', 'chronic_pulmonary_disease', 'rheumatic_disease',\n",
      "       'mild_liver_disease', 'diabetes_without_cc', 'diabetes_with_cc',\n",
      "       'paraplegia', 'renal_disease', 'malignant_cancer',\n",
      "       'severe_liver_disease', 'metastatic_solid_tumor', 'aids', 'SOFA',\n",
      "       'apsiii'],\n",
      "      dtype='object')\n",
      "ft count 63\n"
     ]
    }
   ],
   "source": [
    "ft63 = ft_df.merge(sofa[sofa_col_short]).merge(aps[aps_col_short])\n",
    "print('basic info', ft63.columns[:5])\n",
    "print('features', ft63.columns[5:])\n",
    "print('ft count', len(ft63.columns[5:]))"
   ]
  },
  {
   "cell_type": "code",
   "execution_count": 62,
   "metadata": {
    "colab": {
     "base_uri": "https://localhost:8080/"
    },
    "executionInfo": {
     "elapsed": 1334,
     "status": "ok",
     "timestamp": 1608603626941,
     "user": {
      "displayName": "Jinghui Liu",
      "photoUrl": "",
      "userId": "18293373264061014802"
     },
     "user_tz": -480
    },
    "id": "GCLl9oBuMNGn",
    "outputId": "49c82b74-f298-4b83-b543-b99d799c6c5d"
   },
   "outputs": [
    {
     "name": "stdout",
     "output_type": "stream",
     "text": [
      "basic info Index(['stay_id', 'starttime', 'endtime', 'duration', 'over72h'], dtype='object')\n",
      "features Index(['admission_location', 'insurance', 'language', 'ethnicity',\n",
      "       'marital_status', 'gender', 'age', 'hours_in_hosp_before_intubation',\n",
      "       'weight', 'height', 'co2_total_max', 'co2_total_min', 'ph_max',\n",
      "       'ph_min', 'lactate_max', 'lactate_min', 'pao2fio2ratio',\n",
      "       'heart_rate_max', 'heart_rate_min', 'mbp_ni_max', 'mbp_ni_min',\n",
      "       'mbp_arterial_max', 'mbp_arterial_min', 'resp_rate_max',\n",
      "       'resp_rate_min', 'spo2_max', 'spo2_min', 'temp_max', 'temp_min',\n",
      "       'glucose_max', 'glucose_min', 'epinephrine', 'vasopressin',\n",
      "       'dobutamine', 'norepinephrine', 'phenylephrine', 'dopamine',\n",
      "       'count_of_vaso', 'fio2_max', 'fio2_min', 'peep_max', 'peep_min',\n",
      "       'plateau_pressure_max', 'plateau_pressure_min', 'rrt', 'sinus_rhythm',\n",
      "       'neuroblocker', 'congestive_heart_failure', 'cerebrovascular_disease',\n",
      "       'dementia', 'chronic_pulmonary_disease', 'rheumatic_disease',\n",
      "       'mild_liver_disease', 'diabetes_without_cc', 'diabetes_with_cc',\n",
      "       'paraplegia', 'renal_disease', 'malignant_cancer',\n",
      "       'severe_liver_disease', 'metastatic_solid_tumor', 'aids', 'SOFA',\n",
      "       'respiration', 'coagulation', 'liver', 'cardiovascular', 'cns', 'renal',\n",
      "       'apsiii', 'apsiii_prob', 'hr_score', 'mbp_score', 'temp_score',\n",
      "       'resp_rate_score', 'pao2_aado2_score', 'hematocrit_score', 'wbc_score',\n",
      "       'creatinine_score', 'uo_score', 'bun_score', 'sodium_score',\n",
      "       'albumin_score', 'bilirubin_score', 'glucose_score', 'acidbase_score',\n",
      "       'gcs_score'],\n",
      "      dtype='object')\n",
      "ft count 86\n"
     ]
    }
   ],
   "source": [
    "ft_full = ft_df.merge(sofa[sofa_col_full]).merge(aps[aps_col_full])\n",
    "print('basic info', ft_full.columns[:5])\n",
    "print('features', ft_full.columns[5:])\n",
    "print('ft count', len(ft_full.columns[5:]))"
   ]
  },
  {
   "cell_type": "code",
   "execution_count": 68,
   "metadata": {
    "colab": {
     "base_uri": "https://localhost:8080/"
    },
    "executionInfo": {
     "elapsed": 1897,
     "status": "ok",
     "timestamp": 1608603891939,
     "user": {
      "displayName": "Jinghui Liu",
      "photoUrl": "",
      "userId": "18293373264061014802"
     },
     "user_tz": -480
    },
    "id": "1WnS4KitP2g7",
    "outputId": "f2ad4ad6-0bd0-41bd-855d-6f967ca6e68c"
   },
   "outputs": [
    {
     "data": {
      "text/plain": [
       "['.config',\n",
       " 'ft63_invasive_procedureevents_based_cohort.csv',\n",
       " 'adc.json',\n",
       " 'sample_data']"
      ]
     },
     "execution_count": 68,
     "metadata": {
      "tags": []
     },
     "output_type": "execute_result"
    }
   ],
   "source": [
    "# save it to csv\n",
    "ft63.to_csv('ft63_invasive_procedureevents_based_cohort.csv')\n",
    "# you can see it here\n",
    "os.listdir('.')"
   ]
  },
  {
   "cell_type": "code",
   "execution_count": 67,
   "metadata": {
    "colab": {
     "base_uri": "https://localhost:8080/",
     "height": 17
    },
    "executionInfo": {
     "elapsed": 1250,
     "status": "ok",
     "timestamp": 1608603834317,
     "user": {
      "displayName": "Jinghui Liu",
      "photoUrl": "",
      "userId": "18293373264061014802"
     },
     "user_tz": -480
    },
    "id": "GgAkRroXQH-o",
    "outputId": "79b66099-ecdf-4d92-8a7f-a2340b3570fe"
   },
   "outputs": [
    {
     "data": {
      "application/javascript": [
       "\n",
       "    async function download(id, filename, size) {\n",
       "      if (!google.colab.kernel.accessAllowed) {\n",
       "        return;\n",
       "      }\n",
       "      const div = document.createElement('div');\n",
       "      const label = document.createElement('label');\n",
       "      label.textContent = `Downloading \"${filename}\": `;\n",
       "      div.appendChild(label);\n",
       "      const progress = document.createElement('progress');\n",
       "      progress.max = size;\n",
       "      div.appendChild(progress);\n",
       "      document.body.appendChild(div);\n",
       "\n",
       "      const buffers = [];\n",
       "      let downloaded = 0;\n",
       "\n",
       "      const channel = await google.colab.kernel.comms.open(id);\n",
       "      // Send a message to notify the kernel that we're ready.\n",
       "      channel.send({})\n",
       "\n",
       "      for await (const message of channel.messages) {\n",
       "        // Send a message to notify the kernel that we're ready.\n",
       "        channel.send({})\n",
       "        if (message.buffers) {\n",
       "          for (const buffer of message.buffers) {\n",
       "            buffers.push(buffer);\n",
       "            downloaded += buffer.byteLength;\n",
       "            progress.value = downloaded;\n",
       "          }\n",
       "        }\n",
       "      }\n",
       "      const blob = new Blob(buffers, {type: 'application/binary'});\n",
       "      const a = document.createElement('a');\n",
       "      a.href = window.URL.createObjectURL(blob);\n",
       "      a.download = filename;\n",
       "      div.appendChild(a);\n",
       "      a.click();\n",
       "      div.remove();\n",
       "    }\n",
       "  "
      ],
      "text/plain": [
       "<IPython.core.display.Javascript object>"
      ]
     },
     "metadata": {
      "tags": []
     },
     "output_type": "display_data"
    },
    {
     "data": {
      "application/javascript": [
       "download(\"download_c1734d8b-729c-4749-bd70-d83b6f32da58\", \"ft63_invasive_procedureevents_based_cohort.csv\", 4140154)"
      ],
      "text/plain": [
       "<IPython.core.display.Javascript object>"
      ]
     },
     "metadata": {
      "tags": []
     },
     "output_type": "display_data"
    }
   ],
   "source": [
    "# download the file to your laptop\n",
    "from google.colab import files\n",
    "files.download('ft63_invasive_procedureevents_based_cohort.csv') "
   ]
  },
  {
   "cell_type": "code",
   "execution_count": null,
   "metadata": {
    "id": "8azB2XtFQpJu"
   },
   "outputs": [],
   "source": []
  }
 ],
 "metadata": {
  "colab": {
   "authorship_tag": "ABX9TyN6XeHtpK09holy0MVqYZPf",
   "collapsed_sections": [],
   "name": "prolonged_vent_mimic_iv.ipynb",
   "provenance": []
  },
  "kernelspec": {
   "display_name": "Python 3 (ipykernel)",
   "language": "python",
   "name": "python3"
  },
  "language_info": {
   "codemirror_mode": {
    "name": "ipython",
    "version": 3
   },
   "file_extension": ".py",
   "mimetype": "text/x-python",
   "name": "python",
   "nbconvert_exporter": "python",
   "pygments_lexer": "ipython3",
   "version": "3.8.10"
  }
 },
 "nbformat": 4,
 "nbformat_minor": 1
}
